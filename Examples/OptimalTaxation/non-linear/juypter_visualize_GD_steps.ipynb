{
 "cells": [
  {
   "cell_type": "markdown",
   "metadata": {},
   "source": [
    "# -1 Jupyter notebook specific - of no further interest"
   ]
  },
  {
   "cell_type": "code",
   "execution_count": 1,
   "metadata": {
    "pycharm": {
     "is_executing": false
    }
   },
   "outputs": [],
   "source": [
    "%matplotlib inline\n",
    "%load_ext autoreload\n",
    "%autoreload 2\n",
    "%matplotlib notebook"
   ]
  },
  {
   "cell_type": "markdown",
   "metadata": {},
   "source": [
    "# 0 Load required packages"
   ]
  },
  {
   "cell_type": "code",
   "execution_count": 5,
   "metadata": {
    "pycharm": {
     "is_executing": false
    }
   },
   "outputs": [],
   "source": [
    "# External dependencies\n",
    "import time\n",
    "from casadi import *\n",
    "from plot_efficient_frontier import plot_frontier_carlos as plot_frontier\n",
    "\n",
    "# Internal dependencies\n",
    "from life_cycle_gradient_descent import run_sim as run_sim_gradient\n",
    "from life_cycle_gradient_descent import multi_gradient_descent_step\n",
    "from lifecycle import *\n",
    "from auxiliary_functions import init_optimization_problem\n",
    "from main import execute_moo_optimization\n",
    "import matplotlib.pyplot as plt\n",
    "from IPython.display import display, clear_output"
   ]
  },
  {
   "cell_type": "markdown",
   "metadata": {},
   "source": [
    "# 1 Set up life-cycle environment "
   ]
  },
  {
   "cell_type": "markdown",
   "metadata": {},
   "source": [
    "### 1.2 Set environment parameter"
   ]
  },
  {
   "cell_type": "code",
   "execution_count": 76,
   "metadata": {
    "pycharm": {
     "is_executing": false
    }
   },
   "outputs": [],
   "source": [
    "conf = {\n",
    "        'tax_setting': 5,       # tax setting: see below for detailed explanation\n",
    "        'beta': 0.95,           # Utility discounting\n",
    "        'r_debt': 0.15,         # debt interest rate\n",
    "        'r': 0.05,\n",
    "        'T': 60,                # agent's maturity\n",
    "        'T_ret': 45,            # retirement age\n",
    "        'L_max': 10,            # maximum labour \n",
    "        'gamma': [0.5],         # Agent's utility from consumption\n",
    "        'eta': [1],             # Agent's disutility from labour\n",
    "        'plot': False,\n",
    "        'plot_steps': False,\n",
    "        'plot_GD_steps': True,\n",
    "        'h': 1E-6,              # step size finite difference \n",
    "        'n_steps_max': 20,      # max number of steps for 1 point on pareto frontier\n",
    "        'k_max': 40,            # max number of steps for bi-linear search\n",
    "        'tol': 1E-3,            # tolerance TODO explanation\n",
    "        'tol_line_search': 1E-8,# tolerance to abort line search\n",
    "        'serial': False,\n",
    "        'max_debt': 2,\n",
    "        'costb': 0.02,\n",
    "        'borrowing': np.inf,     # np.inf -> allow unlimited borrowing // 0 -> allow no borrowing\n",
    "        'n_starting_points': 50 # number of starting points for \"frontier searching\"\n",
    "        }"
   ]
  },
  {
   "cell_type": "markdown",
   "metadata": {},
   "source": [
    "### 1.3 Set up Optimization Problem"
   ]
  },
  {
   "cell_type": "markdown",
   "metadata": {},
   "source": [
    "# 2 Compute Pareto Frontier"
   ]
  },
  {
   "cell_type": "code",
   "execution_count": 15,
   "metadata": {
    "pycharm": {
     "is_executing": false
    }
   },
   "outputs": [
    {
     "ename": "TypeError",
     "evalue": "unsupported operand type(s) for -: 'int' and 'list'",
     "output_type": "error",
     "traceback": [
      "\u001b[1;31m---------------------------------------------------------------------------\u001b[0m",
      "\u001b[1;31mTypeError\u001b[0m                                 Traceback (most recent call last)",
      "\u001b[1;32m<ipython-input-15-1c306c8cbbd4>\u001b[0m in \u001b[0;36m<module>\u001b[1;34m\u001b[0m\n\u001b[0;32m      6\u001b[0m \u001b[1;33m\u001b[0m\u001b[0m\n\u001b[0;32m      7\u001b[0m \u001b[1;31m# initialize NLP problem - S = casadi optimization object - lb_x ub_x are the lower and upper bounds\u001b[0m\u001b[1;33m\u001b[0m\u001b[1;33m\u001b[0m\u001b[1;33m\u001b[0m\u001b[0m\n\u001b[1;32m----> 8\u001b[1;33m \u001b[0mS\u001b[0m\u001b[1;33m,\u001b[0m \u001b[0mlb_x\u001b[0m\u001b[1;33m,\u001b[0m \u001b[0mub_x\u001b[0m \u001b[1;33m=\u001b[0m \u001b[0minit_optimization_problem\u001b[0m\u001b[1;33m(\u001b[0m\u001b[0mr\u001b[0m\u001b[1;33m,\u001b[0m \u001b[0mwage\u001b[0m\u001b[1;33m,\u001b[0m \u001b[0mconf\u001b[0m\u001b[1;33m)\u001b[0m\u001b[1;33m\u001b[0m\u001b[1;33m\u001b[0m\u001b[0m\n\u001b[0m",
      "\u001b[1;32md:\\git_repos\\optimal_taxation\\python\\life_cycle\\auxiliary_functions.py\u001b[0m in \u001b[0;36minit_optimization_problem\u001b[1;34m(r, wage, conf, revenue_constraint)\u001b[0m\n\u001b[0;32m    135\u001b[0m         \u001b[1;31m# NLP definition = Our optimization problem\u001b[0m\u001b[1;33m\u001b[0m\u001b[1;33m\u001b[0m\u001b[1;33m\u001b[0m\u001b[0m\n\u001b[0;32m    136\u001b[0m         nlp = {'x': vertcat(consumption, labour, assets, debts, borrowing),\n\u001b[1;32m--> 137\u001b[1;33m                \u001b[1;34m'f'\u001b[0m\u001b[1;33m:\u001b[0m \u001b[1;33m-\u001b[0m\u001b[0mpv_utility\u001b[0m\u001b[1;33m(\u001b[0m\u001b[0mconsumption\u001b[0m\u001b[1;33m,\u001b[0m \u001b[0mlabour\u001b[0m\u001b[1;33m,\u001b[0m \u001b[0mconf\u001b[0m\u001b[1;33m)\u001b[0m\u001b[1;33m,\u001b[0m\u001b[1;33m\u001b[0m\u001b[1;33m\u001b[0m\u001b[0m\n\u001b[0m\u001b[0;32m    138\u001b[0m                'g': vertcat(debt_constraint(debts, borrowing, r, conf),\n\u001b[0;32m    139\u001b[0m                             asset_constraint(assets, labour, wage, consumption,\n",
      "\u001b[1;32md:\\git_repos\\optimal_taxation\\python\\life_cycle\\auxiliary_functions.py\u001b[0m in \u001b[0;36mpv_utility\u001b[1;34m(consumption, labour, conf)\u001b[0m\n\u001b[0;32m     32\u001b[0m     \"\"\"\n\u001b[0;32m     33\u001b[0m     \u001b[1;31m# Present value of utility. Note: sum1 is a casadi function\u001b[0m\u001b[1;33m\u001b[0m\u001b[1;33m\u001b[0m\u001b[1;33m\u001b[0m\u001b[0m\n\u001b[1;32m---> 34\u001b[1;33m     \u001b[1;32mreturn\u001b[0m \u001b[0msum1\u001b[0m\u001b[1;33m(\u001b[0m\u001b[0mconf\u001b[0m\u001b[1;33m[\u001b[0m\u001b[1;34m\"beta\"\u001b[0m\u001b[1;33m]\u001b[0m\u001b[1;33m**\u001b[0m\u001b[1;33m(\u001b[0m\u001b[0mnp\u001b[0m\u001b[1;33m.\u001b[0m\u001b[0marange\u001b[0m\u001b[1;33m(\u001b[0m\u001b[0mconf\u001b[0m\u001b[1;33m[\u001b[0m\u001b[1;34m\"T\"\u001b[0m\u001b[1;33m]\u001b[0m\u001b[1;33m)\u001b[0m\u001b[1;33m)\u001b[0m \u001b[1;33m*\u001b[0m \u001b[0mutility\u001b[0m\u001b[1;33m(\u001b[0m\u001b[0mconsumption\u001b[0m\u001b[1;33m,\u001b[0m \u001b[0mlabour\u001b[0m\u001b[1;33m,\u001b[0m \u001b[0mconf\u001b[0m\u001b[1;33m)\u001b[0m\u001b[1;33m)\u001b[0m\u001b[1;33m\u001b[0m\u001b[1;33m\u001b[0m\u001b[0m\n\u001b[0m\u001b[0;32m     35\u001b[0m \u001b[1;33m\u001b[0m\u001b[0m\n\u001b[0;32m     36\u001b[0m \u001b[1;33m\u001b[0m\u001b[0m\n",
      "\u001b[1;32md:\\git_repos\\optimal_taxation\\python\\life_cycle\\lifecycle.py\u001b[0m in \u001b[0;36mutility\u001b[1;34m(consumption, labour, conf)\u001b[0m\n\u001b[0;32m     14\u001b[0m     \u001b[0meta\u001b[0m \u001b[1;33m=\u001b[0m \u001b[0mconf\u001b[0m\u001b[1;33m[\u001b[0m\u001b[1;34m\"eta\"\u001b[0m\u001b[1;33m]\u001b[0m\u001b[1;33m\u001b[0m\u001b[1;33m\u001b[0m\u001b[0m\n\u001b[0;32m     15\u001b[0m \u001b[1;33m\u001b[0m\u001b[0m\n\u001b[1;32m---> 16\u001b[1;33m     \u001b[0mutil\u001b[0m \u001b[1;33m=\u001b[0m \u001b[0mconsumption\u001b[0m \u001b[1;33m**\u001b[0m \u001b[1;33m(\u001b[0m\u001b[1;36m1\u001b[0m \u001b[1;33m-\u001b[0m \u001b[0mgamma\u001b[0m\u001b[1;33m)\u001b[0m \u001b[1;33m/\u001b[0m \u001b[1;33m(\u001b[0m\u001b[1;36m1\u001b[0m \u001b[1;33m-\u001b[0m \u001b[0mgamma\u001b[0m\u001b[1;33m)\u001b[0m \u001b[1;33m-\u001b[0m \u001b[0mB\u001b[0m \u001b[1;33m*\u001b[0m \u001b[0mlabour\u001b[0m \u001b[1;33m**\u001b[0m \u001b[1;33m(\u001b[0m\u001b[1;36m1\u001b[0m \u001b[1;33m+\u001b[0m \u001b[0meta\u001b[0m\u001b[1;33m)\u001b[0m \u001b[1;33m/\u001b[0m \u001b[1;33m(\u001b[0m\u001b[1;36m1\u001b[0m \u001b[1;33m+\u001b[0m \u001b[0meta\u001b[0m\u001b[1;33m)\u001b[0m\u001b[1;33m\u001b[0m\u001b[1;33m\u001b[0m\u001b[0m\n\u001b[0m\u001b[0;32m     17\u001b[0m \u001b[1;33m\u001b[0m\u001b[0m\n\u001b[0;32m     18\u001b[0m     \u001b[1;32mreturn\u001b[0m \u001b[0mutil\u001b[0m\u001b[1;33m\u001b[0m\u001b[1;33m\u001b[0m\u001b[0m\n",
      "\u001b[1;31mTypeError\u001b[0m: unsupported operand type(s) for -: 'int' and 'list'"
     ]
    }
   ],
   "source": []
  },
  {
   "cell_type": "code",
   "execution_count": 77,
   "metadata": {},
   "outputs": [
    {
     "name": "stdout",
     "output_type": "stream",
     "text": [
      "Elapsed time 119.79144406318665 \n",
      " n_procs  11 \n",
      " n_points  29\n"
     ]
    }
   ],
   "source": [
    "result_array, intermediate = execute_moo_optimization(conf)"
   ]
  },
  {
   "cell_type": "code",
   "execution_count": 78,
   "metadata": {
    "pycharm": {
     "is_executing": true
    }
   },
   "outputs": [],
   "source": [
    "[pv_rev_d, pv_util_d, tk_d, tl_d, tc_d] = result_array.tolist()"
   ]
  },
  {
   "cell_type": "code",
   "execution_count": 79,
   "metadata": {
    "pycharm": {
     "is_executing": true
    }
   },
   "outputs": [
    {
     "data": {
      "text/plain": [
       "{'util': [DM(51.7505), DM(51.7505), DM(51.7515), DM(51.7516), DM(51.7516)],\n",
       " 'rev': [DM(103.349), DM(103.375), DM(103.375), DM(103.375), DM(103.375)],\n",
       " 'tax_rates': [array([0.02221193, 0.5921961 , 0.0141796 ]),\n",
       "  array([0.01880547, 0.59810758, 0.        ]),\n",
       "  array([0.01196401, 0.59830623, 0.        ]),\n",
       "  array([0.01036899, 0.59835533, 0.        ]),\n",
       "  array([0.00991703, 0.59836943, 0.        ])]}"
      ]
     },
     "execution_count": 79,
     "metadata": {},
     "output_type": "execute_result"
    }
   ],
   "source": [
    "intermediate[0]"
   ]
  },
  {
   "cell_type": "code",
   "execution_count": null,
   "metadata": {
    "pycharm": {
     "is_executing": true
    }
   },
   "outputs": [],
   "source": [
    "intermediate[0]"
   ]
  },
  {
   "cell_type": "code",
   "execution_count": 70,
   "metadata": {
    "pycharm": {
     "is_executing": true
    }
   },
   "outputs": [
    {
     "data": {
      "text/plain": [
       "{'util': [DM(80.2306),\n",
       "  DM(80.2529),\n",
       "  DM(80.2529),\n",
       "  DM(80.2533),\n",
       "  DM(80.2535),\n",
       "  DM(80.2535),\n",
       "  DM(80.2536),\n",
       "  DM(80.2536),\n",
       "  DM(80.2536),\n",
       "  DM(80.2536),\n",
       "  DM(80.2536),\n",
       "  DM(80.2536)],\n",
       " 'rev': [DM(45.9978),\n",
       "  DM(45.9978),\n",
       "  DM(46.0597),\n",
       "  DM(46.0597),\n",
       "  DM(46.0597),\n",
       "  DM(46.0597),\n",
       "  DM(46.0597),\n",
       "  DM(46.0597),\n",
       "  DM(46.0597),\n",
       "  DM(46.0597),\n",
       "  DM(46.0597),\n",
       "  DM(46.0597)],\n",
       " 'tax_rates': [array([0.00967124, 0.17553369, 0.04784589]),\n",
       "  array([0.02588984, 0.19293573, 0.02432782]),\n",
       "  array([0.01655142, 0.21292446, 0.        ]),\n",
       "  array([0.01904412, 0.21276776, 0.        ]),\n",
       "  array([0.02071549, 0.21266458, 0.        ]),\n",
       "  array([0.02183924, 0.21259604, 0.        ]),\n",
       "  array([0.02259917, 0.21255008, 0.        ]),\n",
       "  array([0.02311919, 0.21251881, 0.        ]),\n",
       "  array([0.02348282, 0.21249703, 0.        ]),\n",
       "  array([0.02374565, 0.21248133, 0.        ]),\n",
       "  array([0.023945  , 0.21246944, 0.        ]),\n",
       "  array([0.02410168, 0.21246011, 0.        ])]}"
      ]
     },
     "execution_count": 70,
     "metadata": {},
     "output_type": "execute_result"
    }
   ],
   "source": [
    "tt.reshape([1])[0]"
   ]
  },
  {
   "cell_type": "markdown",
   "metadata": {
    "pycharm": {
     "is_executing": true
    }
   },
   "source": [
    "# 3 Visualize Pareto Frontier Construction"
   ]
  },
  {
   "cell_type": "code",
   "execution_count": 89,
   "metadata": {},
   "outputs": [
    {
     "data": {
      "image/png": "[encoded data removed]",
      "text/plain": [
       "<Figure size 864x576 with 3 Axes>"
      ]
     },
     "metadata": {},
     "output_type": "display_data"
    }
   ],
   "source": [
    "fig = plt.figure(figsize=(12, 8))\n",
    "\n",
    "ax = fig.add_subplot(3, 2, 1) \n",
    "ax2 = fig.add_subplot(3, 2, 2) \n",
    "ax3 = fig.add_subplot(3, 2, 3) \n",
    "\n",
    "for i in range(2):#len(pv_rev_d)):\n",
    "    for j in range(len(intermediate[i]['util'])):\n",
    "        ax.set_xlim(0, 100)\n",
    "        ax.set_ylim(0, 100)\n",
    "        ax.plot(intermediate[i]['rev'][j], intermediate[i]['util'][j],marker='x')\n",
    "        \n",
    "        ax2.plot(intermediate[i]['rev'][j], intermediate[i]['tax_rates'][j][0],marker='x')\n",
    "        ax3.plot(intermediate[i]['rev'][j], intermediate[i]['tax_rates'][j][0],marker='x')\n",
    "        ax2.plot(intermediate[i]['rev'][j], intermediate[i]['tax_rates'][j][0],marker='x')\n",
    "        display(fig)\n",
    "\n",
    "        clear_output(wait = True)\n",
    "        plt.pause(0.5)\n",
    "    plt.pause(0)"
   ]
  },
  {
   "cell_type": "code",
   "execution_count": null,
   "metadata": {
    "pycharm": {
     "is_executing": true
    }
   },
   "outputs": [],
   "source": [
    "[pv_rev_d, pv_util_d, tk_d, tl_d, tc_d] = result_array.tolist()"
   ]
  },
  {
   "cell_type": "markdown",
   "metadata": {},
   "source": [
    "# 3 Postprocessing"
   ]
  },
  {
   "cell_type": "code",
   "execution_count": 1,
   "metadata": {},
   "outputs": [
    {
     "ename": "NameError",
     "evalue": "name 'result_array' is not defined",
     "output_type": "error",
     "traceback": [
      "\u001b[1;31m---------------------------------------------------------------------------\u001b[0m",
      "\u001b[1;31mNameError\u001b[0m                                 Traceback (most recent call last)",
      "\u001b[1;32m<ipython-input-1-28355e93cc8c>\u001b[0m in \u001b[0;36m<module>\u001b[1;34m\u001b[0m\n\u001b[1;32m----> 1\u001b[1;33m \u001b[1;33m[\u001b[0m\u001b[0mpv_rev_d\u001b[0m\u001b[1;33m,\u001b[0m \u001b[0mpv_util_d\u001b[0m\u001b[1;33m,\u001b[0m \u001b[0mtk_d\u001b[0m\u001b[1;33m,\u001b[0m \u001b[0mtl_d\u001b[0m\u001b[1;33m,\u001b[0m \u001b[0mtc_d\u001b[0m\u001b[1;33m]\u001b[0m \u001b[1;33m=\u001b[0m \u001b[0mresult_array\u001b[0m\u001b[1;33m.\u001b[0m\u001b[0mtolist\u001b[0m\u001b[1;33m(\u001b[0m\u001b[1;33m)\u001b[0m\u001b[1;33m\u001b[0m\u001b[1;33m\u001b[0m\u001b[0m\n\u001b[0m\u001b[0;32m      2\u001b[0m plot_frontier(pv_rev_d, pv_util_d, tk_d, tl_d, tc_d, conf,\n\u001b[0;32m      3\u001b[0m                   \u001b[0mtimestr\u001b[0m \u001b[1;33m+\u001b[0m \u001b[1;34m\"_gamma_\"\u001b[0m \u001b[1;33m+\u001b[0m \u001b[0mstr\u001b[0m\u001b[1;33m(\u001b[0m\u001b[0mconf\u001b[0m\u001b[1;33m[\u001b[0m\u001b[1;34m'gamma'\u001b[0m\u001b[1;33m]\u001b[0m\u001b[1;33m)\u001b[0m \u001b[1;33m+\u001b[0m \u001b[1;34m\"_eta_\"\u001b[0m \u001b[1;33m+\u001b[0m\u001b[1;33m\u001b[0m\u001b[1;33m\u001b[0m\u001b[0m\n\u001b[0;32m      4\u001b[0m                   str(conf[\"eta\"]) + \"_tax_setting_\" + str(conf[\"tax_setting\"]))\n",
      "\u001b[1;31mNameError\u001b[0m: name 'result_array' is not defined"
     ]
    }
   ],
   "source": [
    "[pv_rev_d, pv_util_d, tk_d, tl_d, tc_d] = result_array.tolist()\n",
    "plot_frontier(pv_rev_d, pv_util_d, tk_d, tl_d, tc_d, conf,\n",
    "                  timestr + \"_gamma_\" + str(conf['gamma']) + \"_eta_\" +\n",
    "                  str(conf[\"eta\"]) + \"_tax_setting_\" + str(conf[\"tax_setting\"]))"
   ]
  },
  {
   "cell_type": "code",
   "execution_count": 20,
   "metadata": {},
   "outputs": [
    {
     "data": {
      "text/plain": [
       "[0.0]"
      ]
     },
     "execution_count": 20,
     "metadata": {},
     "output_type": "execute_result"
    }
   ],
   "source": [
    "tc_global"
   ]
  },
  {
   "cell_type": "code",
   "execution_count": null,
   "metadata": {},
   "outputs": [],
   "source": []
  }
 ],
 "metadata": {
  "kernelspec": {
   "display_name": "Python 3",
   "language": "python",
   "name": "python3"
  },
  "language_info": {
   "codemirror_mode": {
    "name": "ipython",
    "version": 3
   },
   "file_extension": ".py",
   "mimetype": "text/x-python",
   "name": "python",
   "nbconvert_exporter": "python",
   "pygments_lexer": "ipython3",
   "version": "3.6.8"
  },
  "pycharm": {
   "stem_cell": {
    "cell_type": "raw",
    "metadata": {
     "collapsed": false
    },
    "source": []
   }
  }
 },
 "nbformat": 4,
 "nbformat_minor": 2
}
