{
 "cells": [
  {
   "cell_type": "code",
   "execution_count": 2,
   "metadata": {},
   "outputs": [
    {
     "name": "stdout",
     "output_type": "stream",
     "text": [
      "Collecting casadi\n",
      "  Downloading https://files.pythonhosted.org/packages/7c/56/66ac1c7d421a477f5b7d107271c98159a7dee4429c4ffe13992228aa7395/casadi-3.5.0-cp37-none-win_amd64.whl (49.4MB)\n",
      "Installing collected packages: casadi\n",
      "Successfully installed casadi-3.5.0\n"
     ]
    }
   ],
   "source": [
    "!pip install casadi"
   ]
  },
  {
   "cell_type": "code",
   "execution_count": 4,
   "metadata": {},
   "outputs": [],
   "source": [
    "import numpy as np\n",
    "import casadi as cas\n",
    "from casadi import SX"
   ]
  },
  {
   "cell_type": "code",
   "execution_count": 5,
   "metadata": {},
   "outputs": [],
   "source": [
    "import plotly\n",
    "#print(plotly.__version__)\n",
    "import plotly.graph_objs as go\n",
    "from ipywidgets import widgets"
   ]
  },
  {
   "cell_type": "code",
   "execution_count": 6,
   "metadata": {},
   "outputs": [],
   "source": [
    "n_brackets = 4\n",
    "tax0 = -5\n",
    "bracket = np.array([0, 10, 20, 50, 100])   # bracket boundaries"
   ]
  },
  {
   "cell_type": "code",
   "execution_count": 7,
   "metadata": {},
   "outputs": [],
   "source": [
    "t = np.array([0, 1/10, 6/10, 1/10])"
   ]
  },
  {
   "cell_type": "code",
   "execution_count": null,
   "metadata": {},
   "outputs": [],
   "source": []
  },
  {
   "cell_type": "code",
   "execution_count": null,
   "metadata": {},
   "outputs": [],
   "source": []
  },
  {
   "cell_type": "code",
   "execution_count": 8,
   "metadata": {},
   "outputs": [],
   "source": [
    "taxpt = np.zeros(n_brackets)\n",
    "taxpt[0] = tax0\n",
    "for i in range(1, n_brackets):\n",
    "    taxpt[i] = taxpt[i-1] + t[i-1] * (bracket[i] - bracket[i - 1])"
   ]
  },
  {
   "cell_type": "code",
   "execution_count": null,
   "metadata": {},
   "outputs": [],
   "source": []
  },
  {
   "cell_type": "code",
   "execution_count": 9,
   "metadata": {},
   "outputs": [],
   "source": [
    "def taxes(bracket, t, taxpt, yinc):\n",
    "    \n",
    "    u_bound_index = np.argmin(bracket <= yinc)\n",
    "    l_bound_index = np.argmax(bracket > yinc) - 1 \n",
    "    \n",
    "    res = taxpt[l_bound_index] + t[l_bound_index] * (yinc - bracket[l_bound_index])\n",
    "    return res\n",
    "    "
   ]
  },
  {
   "cell_type": "code",
   "execution_count": null,
   "metadata": {},
   "outputs": [],
   "source": []
  },
  {
   "cell_type": "code",
   "execution_count": 10,
   "metadata": {},
   "outputs": [
    {
     "data": {
      "text/plain": [
       "array([-5.])"
      ]
     },
     "execution_count": 10,
     "metadata": {},
     "output_type": "execute_result"
    }
   ],
   "source": [
    "taxes(bracket, t, taxpt, [10])"
   ]
  },
  {
   "cell_type": "code",
   "execution_count": 11,
   "metadata": {},
   "outputs": [
    {
     "data": {
      "application/vnd.jupyter.widget-view+json": {
       "model_id": "820fbc06529047abba2078a33182abee",
       "version_major": 2,
       "version_minor": 0
      },
      "text/plain": [
       "HBox(children=(FigureWidget({\n",
       "    'data': [{'type': 'scatter',\n",
       "              'uid': 'f09bc698-7365-4d2f-9471-4…"
      ]
     },
     "metadata": {},
     "output_type": "display_data"
    }
   ],
   "source": [
    "y_incomes = np.arange(80)\n",
    "results = np.array([taxes(bracket, t, taxpt, income) for income in y_incomes])\n",
    "\n",
    "tax_plot = go.FigureWidget(data=\n",
    "    [dict(x = y_incomes,\n",
    "    y = results, type='scatter') ]\n",
    ")\n",
    "tax_plot.layout.title = 'Tax (income)'\n",
    "income_plot = go.FigureWidget(data=\n",
    "    [dict(x = y_incomes,\n",
    "    y = y_incomes - results, type='scatter') ]\n",
    ")\n",
    "income_plot.layout.title = 'Income - tax (income)'\n",
    "widgets.HBox([tax_plot, income_plot])"
   ]
  },
  {
   "cell_type": "code",
   "execution_count": 12,
   "metadata": {},
   "outputs": [
    {
     "data": {
      "application/vnd.jupyter.widget-view+json": {
       "model_id": "0dda7cc2c81c4683b56fa47228c8b6bf",
       "version_major": 2,
       "version_minor": 0
      },
      "text/plain": [
       "HBox(children=(FigureWidget({\n",
       "    'data': [{'type': 'scatter',\n",
       "              'uid': '4f382d2e-dd71-48c8-8903-3…"
      ]
     },
     "metadata": {},
     "output_type": "display_data"
    }
   ],
   "source": [
    "tax_plot = go.FigureWidget(data=\n",
    "    [dict(x = y_incomes,\n",
    "    y = results, type='scatter') ]\n",
    ")\n",
    "tax_plot.layout.title = 'Tax (income)'\n",
    "income_plot = go.FigureWidget(data=\n",
    "    [dict(x = y_incomes,\n",
    "    y = y_incomes - results, type='scatter') ]\n",
    ")\n",
    "income_plot.layout.title = 'Income - tax (income)'\n",
    "widgets.HBox([tax_plot, income_plot])"
   ]
  },
  {
   "cell_type": "code",
   "execution_count": 13,
   "metadata": {},
   "outputs": [],
   "source": [
    "def utility(consumption, consumption_b, labour, labour_b, eta, gamma):\n",
    "    B = 1/10\n",
    "    util = 100 * ((consumption-consumption_b)**(1-gamma)/(1-gamma) - \n",
    "                  B*(labour+labour_b)**(1+eta)/(1+eta) + 1)\n",
    "    # WHY + 1????\n",
    "    return util"
   ]
  },
  {
   "cell_type": "code",
   "execution_count": 14,
   "metadata": {},
   "outputs": [],
   "source": [
    "# define casadi type symbolic variables\n",
    "consumption = SX.sym('consumption', n_brackets, 1)\n",
    "labour = SX.sym('labour', n_brackets, 1)\n",
    "p = SX.sym('p', n_brackets, 1)\n",
    "yincs = SX.sym('yincs', n_brackets, 1)\n"
   ]
  },
  {
   "cell_type": "code",
   "execution_count": 15,
   "metadata": {},
   "outputs": [],
   "source": [
    "eta = 1\n",
    "gamma=2\n",
    "wage = 100\n",
    "consumption_b = 1\n",
    "labour_b = 0"
   ]
  },
  {
   "cell_type": "code",
   "execution_count": 16,
   "metadata": {},
   "outputs": [],
   "source": [
    "# define objective function\n",
    "objective = (p.T @ utility(consumption, consumption_b, labour, labour_b, eta, gamma))"
   ]
  },
  {
   "cell_type": "code",
   "execution_count": null,
   "metadata": {},
   "outputs": [],
   "source": []
  },
  {
   "cell_type": "code",
   "execution_count": 17,
   "metadata": {},
   "outputs": [],
   "source": [
    "## define bounds\n",
    "#  lower bounds\n",
    "c_lb = np.full(n_brackets, 0.0001 + consumption_b)\n",
    "l_lb = np.full(n_brackets, 0.0001 + labour_b)\n",
    "p_lb = np.full(n_brackets, 0.25 )\n",
    "yin_lb = bracket[0:4]\n",
    "\n",
    "\n",
    "#  upper bounds\n",
    "\n",
    "c_ub = np.full(n_brackets, np.inf)\n",
    "l_ub = np.full(n_brackets, np.inf)\n",
    "p_ub = np.full(n_brackets, 0.25 )\n",
    "#p_ub = np.ones(n_brackets)\n",
    "yin_ub = bracket[1:5]"
   ]
  },
  {
   "cell_type": "code",
   "execution_count": 18,
   "metadata": {},
   "outputs": [
    {
     "data": {
      "text/plain": [
       "array([ 0, 10, 20, 50])"
      ]
     },
     "execution_count": 18,
     "metadata": {},
     "output_type": "execute_result"
    }
   ],
   "source": [
    "bracket[0:4]"
   ]
  },
  {
   "cell_type": "code",
   "execution_count": 19,
   "metadata": {},
   "outputs": [],
   "source": [
    "def budget_constraint(bracket, yinc, t, n_brackets, consumption):\n",
    "    constraints = cas.SX.zeros(n_brackets, 1)\n",
    "    for i in range(n_brackets):\n",
    "        temp_con = -tax0 + yinc[i] - t[i] * (yinc[i] - bracket[i]) \n",
    "        for j in range(i):\n",
    "            temp_con = temp_con - (bracket[i-j] - bracket[i-j-1]) * t[i-j-1]\n",
    "        constraints[i] = (temp_con)\n",
    "    constraints = constraints - consumption \n",
    "    return constraints\n",
    "    #cons_1 = - tax0  + yinc[0] - t[0] * (yinc[0] - bracket[0])\n",
    "    #cons_2 = - tax0  + yinc[1] - (bracket[1] - bracket[0]) * t[0] \\\n",
    "    #                 - t[1] * (yinc[1] - bracket[1])\n",
    "    #cons_2 = - tax0  + yinc[1] - (bracket[1] - bracket[0]) * t[0] \\\n",
    "    #                 - t[1] * (yinc[1] - bracket[1])\n",
    "    "
   ]
  },
  {
   "cell_type": "code",
   "execution_count": 20,
   "metadata": {},
   "outputs": [],
   "source": [
    "def asset_constraint(yinc, labour, wage):\n",
    "    constraints = wage * labour - yinc\n",
    "\n",
    "    return constraints\n",
    "    #cons_1 = - tax0  + yinc[0] - t[0] * (yinc[0] - bracket[0])\n",
    "    #cons_2 = - tax0  + yinc[1] - (bracket[1] - bracket[0]) * t[0] \\\n",
    "    #                 - t[1] * (yinc[1] - bracket[1])\n",
    "    #cons_2 = - tax0  + yinc[1] - (bracket[1] - bracket[0]) * t[0] \\\n",
    "    #                 - t[1] * (yinc[1] - bracket[1])\n",
    "    "
   ]
  },
  {
   "cell_type": "code",
   "execution_count": 21,
   "metadata": {},
   "outputs": [],
   "source": [
    "# probability constraint \n",
    "p_constraint = cas.sum1(p) - 1"
   ]
  },
  {
   "cell_type": "code",
   "execution_count": 22,
   "metadata": {},
   "outputs": [
    {
     "data": {
      "text/plain": [
       "SX(@1=5, @2=0.1, @3=1, [((@1+yincs_0)-consumption_0), (((@1+yincs_1)-(@2*(yincs_1-10)))-consumption_1), ((((@1+yincs_2)-(0.6*(yincs_2-20)))-@3)-consumption_2), (((((@1+yincs_3)-(@2*(yincs_3-50)))-18)-@3)-consumption_3)])"
      ]
     },
     "execution_count": 22,
     "metadata": {},
     "output_type": "execute_result"
    }
   ],
   "source": [
    "## define constraints\n",
    "# Budget constraint\n",
    "\n",
    "budget_constraint(bracket, yincs, t, n_brackets, consumption)\n",
    "#asset_constraint(yinc, labour, wage)\n",
    "#p_constraint"
   ]
  },
  {
   "cell_type": "code",
   "execution_count": 23,
   "metadata": {},
   "outputs": [
    {
     "data": {
      "text/plain": [
       "SX([consumption_0, consumption_1, consumption_2, consumption_3])"
      ]
     },
     "execution_count": 23,
     "metadata": {},
     "output_type": "execute_result"
    }
   ],
   "source": [
    "consumption"
   ]
  },
  {
   "cell_type": "code",
   "execution_count": 24,
   "metadata": {},
   "outputs": [],
   "source": [
    "# penalty for case that both are similar\n",
    "penalty = 0.001 * (p @ p.T)"
   ]
  },
  {
   "cell_type": "code",
   "execution_count": 25,
   "metadata": {},
   "outputs": [],
   "source": [
    "penalty = 0.001*(sum([p[i]*p[j]  for i in range(n_brackets - 1) \n",
    "                for j in range(i + 1, n_brackets)]) \n",
    "           + p[1] + 2 * p[2] + 3 * p[3])"
   ]
  },
  {
   "cell_type": "code",
   "execution_count": 26,
   "metadata": {},
   "outputs": [],
   "source": [
    "#penalty = 0 * p[0]\n",
    "#for i in range(n_brackets - 1):\n",
    "#    for j in range(i + 1, n_brackets):\n",
    "#        penalty = penalty + p[i]*p[j]     \n",
    "\n",
    "#penalty = penalty + p[1] + 2 * p[2] + 3 * p[3]"
   ]
  },
  {
   "cell_type": "code",
   "execution_count": 27,
   "metadata": {},
   "outputs": [],
   "source": [
    "opt_objpen = objective - penalty"
   ]
  },
  {
   "cell_type": "code",
   "execution_count": 28,
   "metadata": {},
   "outputs": [
    {
     "data": {
      "text/plain": [
       "SX((0.001*(((((((((p_0*p_1)+(p_0*p_2))+(p_0*p_3))+(p_1*p_2))+(p_1*p_3))+(p_2*p_3))+p_1)+(2*p_2))+(3*p_3))))"
      ]
     },
     "execution_count": 28,
     "metadata": {},
     "output_type": "execute_result"
    }
   ],
   "source": [
    "penalty"
   ]
  },
  {
   "cell_type": "code",
   "execution_count": 29,
   "metadata": {},
   "outputs": [],
   "source": [
    "# NLP definition = Our optimization problem\n",
    "nlp = {'x': cas.vertcat(consumption, labour, p, yincs),\n",
    "       'f': -opt_objpen,\n",
    "       'g': cas.vertcat(budget_constraint(bracket, yincs, t, n_brackets, consumption),\n",
    "                        asset_constraint(yincs, labour, wage),\n",
    "                        p_constraint)\n",
    "      }\n",
    "\n",
    "#  solver_opt = {'verbose': False, 'print_time': False, 'ipopt': {'print_level': 5,\n",
    "#                                                               'tol': 1E-12, 'constr_viol_tol': 1E-12}}\n",
    "#  solver_opt = dict(qpsol='qrqp', qpsol_options=dict(print_iter=False, tol=1e-16), print_time=False)\n",
    "\n",
    "# creating casadi optimization object\n",
    "#solver_opt = dict(qpsol='qrqp', hessian_approximation='exact', min_step_size=0,\n",
    "#                  print_header=False, print_iteration=True, print_status=True,\n",
    "#                  qpsol_options=dict(print_iter=False, jit=True, tol=1E-10), print_time=False, max_iter=200)\n",
    "#S = cas.nlpsol(\"S\", \"sqpmethod\", nlp, solver_opt)\n",
    "solver_opt = {'ipopt': {'print_level': 5,'tol': 1E-11, 'constr_viol_tol': 1E-11}}\n",
    "\n",
    "S = cas.nlpsol(\"S\", \"ipopt\", nlp, solver_opt)\n"
   ]
  },
  {
   "cell_type": "code",
   "execution_count": 30,
   "metadata": {},
   "outputs": [
    {
     "name": "stdout",
     "output_type": "stream",
     "text": [
      "\n",
      "******************************************************************************\n",
      "This program contains Ipopt, a library for large-scale nonlinear optimization.\n",
      " Ipopt is released as open source code under the Eclipse Public License (EPL).\n",
      "         For more information visit http://projects.coin-or.org/Ipopt\n",
      "******************************************************************************\n",
      "\n",
      "This is Ipopt version 3.12.3, running with linear solver mumps.\n",
      "NOTE: Other linear solvers might be more efficient (see Ipopt documentation).\n",
      "\n",
      "Number of nonzeros in equality constraint Jacobian...:       16\n",
      "Number of nonzeros in inequality constraint Jacobian.:        0\n",
      "Number of nonzeros in Lagrangian Hessian.............:        8\n",
      "\n",
      "Total number of variables............................:       12\n",
      "                     variables with only lower bounds:        8\n",
      "                variables with lower and upper bounds:        4\n",
      "                     variables with only upper bounds:        0\n",
      "Total number of equality constraints.................:        9\n",
      "Total number of inequality constraints...............:        0\n",
      "        inequality constraints with only lower bounds:        0\n",
      "   inequality constraints with lower and upper bounds:        0\n",
      "        inequality constraints with only upper bounds:        0\n",
      "\n",
      "iter    objective    inf_pr   inf_du lg(mu)  ||d||  lg(rg) alpha_du alpha_pr  ls\n",
      "   0 4.9901012e+004 9.99e+003 9.90e+001  -1.0 0.00e+000    -  0.00e+000 0.00e+000   0\n",
      "   1 -8.6566426e+001 9.01e+001 8.93e-001  -1.0 9.99e+001    -  9.92e-001 9.91e-001f  1\n",
      "   2 -9.4462389e+001 4.20e-009 1.97e-003  -1.0 9.02e-001    -  9.98e-001 1.00e+000h  1\n",
      "   3 -9.4695411e+001 2.07e-010 5.55e-001  -1.7 1.30e+001    -  3.06e-001 1.00e+000f  1\n",
      "   4 -9.4960635e+001 1.12e-011 1.29e-003  -1.7 2.50e+001    -  1.00e+000 1.00e+000f  1\n",
      "   5 -9.5020359e+001 7.25e-012 3.09e-003  -2.5 3.91e+000    -  9.83e-001 1.00e+000f  1\n",
      "   6 -9.5044175e+001 8.01e-013 3.63e-005  -3.8 2.15e+000    -  1.00e+000 1.00e+000f  1\n",
      "   7 -9.5045863e+001 5.68e-014 2.00e-006  -5.7 4.71e-001    -  1.00e+000 1.00e+000f  1\n",
      "   8 -9.5045868e+001 7.11e-015 1.29e-008  -5.7 3.72e-002    -  1.00e+000 1.00e+000f  1\n",
      "   9 -9.5045877e+001 0.00e+000 1.45e-011  -8.6 1.25e-003    -  1.00e+000 1.00e+000f  1\n",
      "iter    objective    inf_pr   inf_du lg(mu)  ||d||  lg(rg) alpha_du alpha_pr  ls\n",
      "  10 -9.5045877e+001 7.11e-015 1.15e-016 -12.0 1.60e-006    -  1.00e+000 1.00e+000f  1\n",
      "\n",
      "Number of Iterations....: 10\n",
      "\n",
      "                                   (scaled)                 (unscaled)\n",
      "Objective...............: -3.8018350758229467e+001  -9.5045876895573656e+001\n",
      "Dual infeasibility......:  1.1457125636058664e-016   2.8642814090146660e-016\n",
      "Constraint violation....:  7.1054273576010019e-015   7.1054273576010019e-015\n",
      "Complementarity.........:  9.0993135153709879e-013   2.2748283788427469e-012\n",
      "Overall NLP error.......:  9.0993135153709879e-013   2.2748283788427469e-012\n",
      "\n",
      "\n",
      "Number of objective function evaluations             = 11\n",
      "Number of objective gradient evaluations             = 11\n",
      "Number of equality constraint evaluations            = 11\n",
      "Number of inequality constraint evaluations          = 0\n",
      "Number of equality constraint Jacobian evaluations   = 11\n",
      "Number of inequality constraint Jacobian evaluations = 0\n",
      "Number of Lagrangian Hessian evaluations             = 10\n",
      "Total CPU secs in IPOPT (w/o function evaluations)   =      0.009\n",
      "Total CPU secs in NLP function evaluations           =      0.000\n",
      "\n",
      "EXIT: Optimal Solution Found.\n",
      "           S  :   t_proc      (avg)   t_wall      (avg)    n_eval\n",
      "       nlp_f  |        0 (       0)        0 (       0)        11\n",
      "       nlp_g  |        0 (       0)        0 (       0)        11\n",
      "  nlp_grad_f  |        0 (       0)        0 (       0)        12\n",
      "  nlp_hess_l  |        0 (       0)        0 (       0)        10\n",
      "   nlp_jac_g  |        0 (       0)        0 (       0)        12\n",
      "       total  |  11.00ms ( 11.00ms)  11.02ms ( 11.02ms)         1\n"
     ]
    }
   ],
   "source": [
    "res = S(x0=100, lbg=0, ubg=0, lbx=np.concatenate([c_lb, l_lb, p_lb, yin_lb]), ubx=np.concatenate([c_ub, l_ub, p_ub, yin_ub]))"
   ]
  },
  {
   "cell_type": "code",
   "execution_count": 31,
   "metadata": {},
   "outputs": [
    {
     "data": {
      "text/plain": [
       "DM([15, 24, 32.3155, 41.1778, 0.1, 0.2, 0.407888, 0.557532, 0.25, 0.25, 0.25, 0.25, 10, 20, 40.7888, 55.7532])"
      ]
     },
     "execution_count": 31,
     "metadata": {},
     "output_type": "execute_result"
    }
   ],
   "source": [
    "res['x']"
   ]
  },
  {
   "cell_type": "code",
   "execution_count": 32,
   "metadata": {},
   "outputs": [
    {
     "data": {
      "text/plain": [
       "array([[15.0000001 ],\n",
       "       [24.00000018],\n",
       "       [32.31551646],\n",
       "       [41.17783626],\n",
       "       [ 0.1       ],\n",
       "       [ 0.2       ],\n",
       "       [ 0.40788791],\n",
       "       [ 0.55753151],\n",
       "       [ 0.25      ],\n",
       "       [ 0.25      ],\n",
       "       [ 0.25      ],\n",
       "       [ 0.25      ],\n",
       "       [10.        ],\n",
       "       [20.        ],\n",
       "       [40.78879114],\n",
       "       [55.7531514 ]])"
      ]
     },
     "execution_count": 32,
     "metadata": {},
     "output_type": "execute_result"
    }
   ],
   "source": [
    "result = res['x'].full()\n",
    "result"
   ]
  },
  {
   "cell_type": "code",
   "execution_count": 33,
   "metadata": {},
   "outputs": [
    {
     "name": "stdout",
     "output_type": "stream",
     "text": [
      "[92.80714291]\n",
      "[95.45217394]\n",
      "[95.97483211]\n",
      "[95.95685862]\n"
     ]
    }
   ],
   "source": [
    "consumption_r = result[0:4]\n",
    "labour_r = result[4:8]\n",
    "yincs_r = result[-4:]\n",
    "\n",
    "for i in range(4):\n",
    "    print(utility(consumption_r[i], consumption_b, labour_r[i], labour_b, eta, gamma))\n"
   ]
  },
  {
   "cell_type": "code",
   "execution_count": 34,
   "metadata": {},
   "outputs": [
    {
     "data": {
      "text/plain": [
       "array([[10.0000001 ],\n",
       "       [20.0000002 ],\n",
       "       [40.78879114],\n",
       "       [55.7531514 ]])"
      ]
     },
     "execution_count": 34,
     "metadata": {},
     "output_type": "execute_result"
    }
   ],
   "source": [
    "labour_r *100\n"
   ]
  },
  {
   "cell_type": "code",
   "execution_count": 35,
   "metadata": {},
   "outputs": [
    {
     "data": {
      "text/plain": [
       "array([[10.        ],\n",
       "       [20.        ],\n",
       "       [40.78879114],\n",
       "       [55.7531514 ]])"
      ]
     },
     "execution_count": 35,
     "metadata": {},
     "output_type": "execute_result"
    }
   ],
   "source": [
    "yincs_r"
   ]
  },
  {
   "cell_type": "code",
   "execution_count": null,
   "metadata": {},
   "outputs": [],
   "source": []
  }
 ],
 "metadata": {
  "kernelspec": {
   "display_name": "Python 3",
   "language": "python",
   "name": "python3"
  },
  "language_info": {
   "codemirror_mode": {
    "name": "ipython",
    "version": 3
   },
   "file_extension": ".py",
   "mimetype": "text/x-python",
   "name": "python",
   "nbconvert_exporter": "python",
   "pygments_lexer": "ipython3",
   "version": "3.7.4"
  }
 },
 "nbformat": 4,
 "nbformat_minor": 4
}
