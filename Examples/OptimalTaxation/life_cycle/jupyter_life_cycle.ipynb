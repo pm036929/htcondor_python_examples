{
 "cells": [
  {
   "cell_type": "markdown",
   "metadata": {},
   "source": [
    "# 0 Load required packages"
   ]
  },
  {
   "cell_type": "code",
   "execution_count": 2,
   "metadata": {},
   "outputs": [],
   "source": [
    "# External dependencies\n",
    "import time\n",
    "from casadi import *\n",
    "from plot_efficient_frontier import plot_frontier_carlos as plot_frontier\n",
    "\n",
    "# Internal dependencies\n",
    "from life_cycle_gradient_descent import run_sim as run_sim_gradient\n",
    "from main import execute_moo_optimization"
   ]
  },
  {
   "cell_type": "markdown",
   "metadata": {},
   "source": [
    "# 1 Set up life-cycle environment "
   ]
  },
  {
   "cell_type": "markdown",
   "metadata": {},
   "source": [
    "### 1.2 Set environment parameter"
   ]
  },
  {
   "cell_type": "code",
   "execution_count": 5,
   "metadata": {},
   "outputs": [],
   "source": [
    "conf = {\n",
    "        'tax_setting': 5,       # tax setting: see below for detailed explanation\n",
    "        'beta': 0.95,           # Utility discounting\n",
    "        'r_debt': 0.15,         # debt interest rate\n",
    "        'r': 0.1,\n",
    "        'T': 60,                # agent's maturity\n",
    "        'T_ret': 45,            # retirement age\n",
    "        'L_max': 10,            # maximum labour \n",
    "        'gamma': [0.5],         # Agent's utility from consumption\n",
    "        'eta': [1],             # Agent's disutility from labour\n",
    "        'plot': False,\n",
    "        'plot_steps': False,\n",
    "        'plot_GD_steps': False,\n",
    "        'h': 1E-6,              # step size finite difference \n",
    "        'n_steps_max': 30,      # max number of steps for 1 point on pareto frontier\n",
    "        'k_max': 20,            # max number of steps for bi-linear search\n",
    "        'tol': 1E-8,            # tolerance TODO explanation\n",
    "        'tol_line_search': 1E-8,# tolerance to abort line search\n",
    "        'serial': False,\n",
    "        'max_debt': 2,\n",
    "        'costb': 0.02,\n",
    "        'borrowing': np.inf,     # np.inf -> allow unlimited borrowing // 0 -> allow no borrowing\n",
    "        'n_starting_points': 20 # number of starting points for \"frontier searching\"\n",
    "        }"
   ]
  },
  {
   "cell_type": "markdown",
   "metadata": {},
   "source": [
    "# tax settings:\n",
    "\n",
    "* 1 - capital tax and income tax\n",
    "* 2 - income tax // NOT possible\n",
    "* 3 - capital tax = income tax // NOT possible\n",
    "* 4 - capital tax = income tax, consumption tax\n",
    "* 5 - capital tax, income tax, consumption tax\n"
   ]
  },
  {
   "cell_type": "markdown",
   "metadata": {},
   "source": [
    "# 2 Execute MOO optimization"
   ]
  },
  {
   "cell_type": "code",
   "execution_count": 6,
   "metadata": {},
   "outputs": [
    {
     "name": "stdout",
     "output_type": "stream",
     "text": [
      "Elapsed time 7.162747383117676 \n",
      " n_procs  9 \n",
      " n_points  5\n"
     ]
    }
   ],
   "source": [
    "result_array = execute_moo_optimization(conf)"
   ]
  },
  {
   "cell_type": "markdown",
   "metadata": {},
   "source": [
    "# 3 Postprocessing"
   ]
  },
  {
   "cell_type": "code",
   "execution_count": 1,
   "metadata": {},
   "outputs": [
    {
     "ename": "NameError",
     "evalue": "name 'result_array' is not defined",
     "output_type": "error",
     "traceback": [
      "\u001b[1;31m---------------------------------------------------------------------------\u001b[0m",
      "\u001b[1;31mNameError\u001b[0m                                 Traceback (most recent call last)",
      "\u001b[1;32m<ipython-input-1-28355e93cc8c>\u001b[0m in \u001b[0;36m<module>\u001b[1;34m\u001b[0m\n\u001b[1;32m----> 1\u001b[1;33m \u001b[1;33m[\u001b[0m\u001b[0mpv_rev_d\u001b[0m\u001b[1;33m,\u001b[0m \u001b[0mpv_util_d\u001b[0m\u001b[1;33m,\u001b[0m \u001b[0mtk_d\u001b[0m\u001b[1;33m,\u001b[0m \u001b[0mtl_d\u001b[0m\u001b[1;33m,\u001b[0m \u001b[0mtc_d\u001b[0m\u001b[1;33m]\u001b[0m \u001b[1;33m=\u001b[0m \u001b[0mresult_array\u001b[0m\u001b[1;33m.\u001b[0m\u001b[0mtolist\u001b[0m\u001b[1;33m(\u001b[0m\u001b[1;33m)\u001b[0m\u001b[1;33m\u001b[0m\u001b[1;33m\u001b[0m\u001b[0m\n\u001b[0m\u001b[0;32m      2\u001b[0m plot_frontier(pv_rev_d, pv_util_d, tk_d, tl_d, tc_d, conf,\n\u001b[0;32m      3\u001b[0m                   \u001b[0mtimestr\u001b[0m \u001b[1;33m+\u001b[0m \u001b[1;34m\"_gamma_\"\u001b[0m \u001b[1;33m+\u001b[0m \u001b[0mstr\u001b[0m\u001b[1;33m(\u001b[0m\u001b[0mconf\u001b[0m\u001b[1;33m[\u001b[0m\u001b[1;34m'gamma'\u001b[0m\u001b[1;33m]\u001b[0m\u001b[1;33m)\u001b[0m \u001b[1;33m+\u001b[0m \u001b[1;34m\"_eta_\"\u001b[0m \u001b[1;33m+\u001b[0m\u001b[1;33m\u001b[0m\u001b[1;33m\u001b[0m\u001b[0m\n\u001b[0;32m      4\u001b[0m                   str(conf[\"eta\"]) + \"_tax_setting_\" + str(conf[\"tax_setting\"]))\n",
      "\u001b[1;31mNameError\u001b[0m: name 'result_array' is not defined"
     ]
    }
   ],
   "source": [
    "[pv_rev_d, pv_util_d, tk_d, tl_d, tc_d] = result_array.tolist()\n",
    "plot_frontier(pv_rev_d, pv_util_d, tk_d, tl_d, tc_d, conf,\n",
    "                  timestr + \"_gamma_\" + str(conf['gamma']) + \"_eta_\" +\n",
    "                  str(conf[\"eta\"]) + \"_tax_setting_\" + str(conf[\"tax_setting\"]))"
   ]
  },
  {
   "cell_type": "code",
   "execution_count": null,
   "metadata": {},
   "outputs": [],
   "source": []
  }
 ],
 "metadata": {
  "kernelspec": {
   "display_name": "Python 3",
   "language": "python",
   "name": "python3"
  },
  "language_info": {
   "codemirror_mode": {
    "name": "ipython",
    "version": 3
   },
   "file_extension": ".py",
   "mimetype": "text/x-python",
   "name": "python",
   "nbconvert_exporter": "python",
   "pygments_lexer": "ipython3",
   "version": "3.6.8"
  }
 },
 "nbformat": 4,
 "nbformat_minor": 2
}
