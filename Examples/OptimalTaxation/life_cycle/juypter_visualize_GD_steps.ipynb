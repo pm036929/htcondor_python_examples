{
 "cells": [
  {
   "cell_type": "markdown",
   "metadata": {},
   "source": [
    "# -1 Jupyter notebook specific - of no further interest"
   ]
  },
  {
   "cell_type": "markdown",
   "metadata": {},
   "source": [
    "# 0 Load required packages"
   ]
  },
  {
   "cell_type": "code",
   "execution_count": 1,
   "metadata": {
    "pycharm": {
     "is_executing": false
    }
   },
   "outputs": [],
   "source": [
    "# External dependencies\n",
    "import time\n",
    "from casadi import *\n",
    "from plot_efficient_frontier import plot_frontier_carlos as plot_frontier\n",
    "\n",
    "# Internal dependencies\n",
    "from life_cycle_gradient_descent import run_sim as run_sim_gradient\n",
    "from life_cycle_gradient_descent import multi_gradient_descent_step\n",
    "from lifecycle import *\n",
    "from auxiliary_functions import init_optimization_problem\n",
    "from main import execute_moo_optimization\n",
    "\n",
    "from IPython.display import display, clear_output\n",
    "import plotly as py\n",
    "import plotly.graph_objs as go"
   ]
  },
  {
   "cell_type": "markdown",
   "metadata": {},
   "source": [
    "# 1 Set up life-cycle environment "
   ]
  },
  {
   "cell_type": "markdown",
   "metadata": {},
   "source": [
    "### 1.2 Set environment parameter"
   ]
  },
  {
   "cell_type": "code",
   "execution_count": 10,
   "metadata": {
    "pycharm": {
     "is_executing": false
    }
   },
   "outputs": [],
   "source": [
    "conf = {\n",
    "        'tax_setting': 5,       # tax setting: see below for detailed explanation\n",
    "        'beta': 0.95,           # Utility discounting\n",
    "        'r_debt': 0.15,         # debt interest rate\n",
    "        'r': 0.05,\n",
    "        'T': 60,                # agent's maturity\n",
    "        'T_ret': 45,            # retirement age\n",
    "        'L_max': 10,            # maximum labour \n",
    "        'gamma': [0.5],         # Agent's utility from consumption\n",
    "        'eta': [1],             # Agent's disutility from labour\n",
    "        'plot': False,\n",
    "        'plot_steps': False,\n",
    "        'plot_GD_steps': True,\n",
    "        'h': 1E-6,              # step size finite difference \n",
    "        'n_steps_max': 20,      # max number of steps for 1 point on pareto frontier\n",
    "        'k_max': 40,            # max number of steps for bi-linear search\n",
    "        'tol': 1E-4,            # tolerance TODO explanation\n",
    "        'tol_line_search': 1E-8,# tolerance to abort line search\n",
    "        'serial': False,\n",
    "        'max_debt': 2,\n",
    "        'costb': 0.02,\n",
    "        'borrowing': np.inf,     # np.inf -> allow unlimited borrowing // 0 -> allow no borrowing\n",
    "        'n_starting_points': 50 # number of starting points for \"frontier searching\"\n",
    "        }"
   ]
  },
  {
   "cell_type": "markdown",
   "metadata": {},
   "source": [
    "### 1.3 Set up Optimization Problem"
   ]
  },
  {
   "cell_type": "markdown",
   "metadata": {},
   "source": [
    "# 2 Compute Pareto Frontier\n",
    "\n",
    "[TODO text about multi gradient step]"
   ]
  },
  {
   "cell_type": "code",
   "execution_count": 11,
   "metadata": {
    "scrolled": true
   },
   "outputs": [
    {
     "name": "stdout",
     "output_type": "stream",
     "text": [
      "-------------------------------------------\n",
      "-------------------------------------------\n",
      "-------------------------------------------\n",
      "-------------------------------------------\n",
      "-------------------------------------------\n",
      "-------------------------------------------\n",
      "This is casadi::QRQP\n",
      "-------------------------------------------\n",
      "This is casadi::QRQP\n",
      "This is casadi::QRQP\n",
      "-------------------------------------------\n",
      "This is casadi::QRQP\n",
      "-------------------------------------------\n",
      "This is casadi::QRQP\n",
      "-------------------------------------------\n",
      "Number of variables:                             302\n",
      "This is casadi::QRQP\n",
      "-------------------------------------------\n",
      "This is casadi::QRQP\n",
      "Number of variables:                             302\n",
      "Number of variables:                             302\n",
      "Number of variables:                             302\n",
      "This is casadi::QRQP\n",
      "Number of constraints:                           120\n",
      "This is casadi::QRQP\n",
      "This is casadi::QRQP\n",
      "Number of variables:                             302\n",
      "This is casadi::QRQP\n",
      "Number of constraints:                           120\n",
      "Number of variables:                             302\n",
      "Number of constraints:                           120\n",
      "Number of variables:                             302\n",
      "Number of variables:                             302\n",
      "Number of variables:                             302\n",
      "Number of nonzeros in H:                         120\n",
      "Number of variables:                             302\n",
      "Number of nonzeros in H:                         120\n",
      "Number of constraints:                           120\n",
      "Number of constraints:                           120\n",
      "Number of nonzeros in H:                         120\n",
      "Number of nonzeros in A:                         465\n",
      "Number of constraints:                           120\n",
      "Number of nonzeros in A:                         465\n",
      "Number of constraints:                           120\n",
      "Number of constraints:                           120\n",
      "Number of variables:                             302\n",
      "Number of constraints:                           120\n",
      "Number of nonzeros in H:                         120\n",
      "Number of nonzeros in H:                         120\n",
      "Number of nonzeros in H:                         120\n",
      "Number of constraints:                           120\n",
      "Number of nonzeros in H:                         120\n",
      "Number of nonzeros in KKT:                      1352\n",
      "Number of nonzeros in A:                         465\n",
      "Number of nonzeros in A:                         465\n",
      "Number of constraints:                           120\n",
      "Number of nonzeros in H:                         120\n",
      "Number of nonzeros in A:                         465\n",
      "Number of nonzeros in A:                         465\n",
      "Number of nonzeros in KKT:                      1352\n",
      "Number of nonzeros in KKT:                      1352\n",
      "Number of nonzeros in QR(V):                    1214\n",
      "Number of nonzeros in H:                         120\n",
      "Number of nonzeros in A:                         465\n",
      "Number of nonzeros in KKT:                      1352\n",
      "Number of nonzeros in KKT:                      1352\n",
      "Number of nonzeros in KKT:                      1352\n",
      "Number of nonzeros in A:                         465\n",
      "Number of nonzeros in QR(V):                    1214\n",
      "Number of nonzeros in A:                         465\n",
      "Number of nonzeros in QR(V):                    1214\n",
      "Number of nonzeros in QR(V):                    1214\n",
      "Number of nonzeros in KKT:                      1352\n",
      "Number of nonzeros in QR(R):                    2242\n",
      "Number of nonzeros in QR(R):                    2242\n",
      "Number of nonzeros in KKT:                      1352\n",
      "Number of nonzeros in QR(V):                    1214\n",
      "Number of nonzeros in QR(R):                    2242\n",
      "Number of nonzeros in QR(V):                    1214\n",
      "Number of nonzeros in QR(R):                    2242\n",
      "Number of nonzeros in H:                         120\n",
      "Number of nonzeros in A:                         465\n",
      "Number of nonzeros in QR(V):                    1214\n",
      "Number of nonzeros in QR(V):                    1214\n",
      "Number of nonzeros in H:                         120\n",
      "Number of nonzeros in KKT:                      1352\n",
      "Number of nonzeros in QR(R):                    2242\n",
      "Number of nonzeros in KKT:                      1352\n",
      "Number of nonzeros in QR(R):                    2242\n",
      "Number of nonzeros in QR(R):                    2242\n",
      "Number of nonzeros in A:                         465\n",
      "Number of nonzeros in QR(R):                    2242\n",
      "Number of nonzeros in QR(V):                    1214\n",
      "Number of nonzeros in QR(R):                    2242\n",
      "Number of nonzeros in QR(V):                    1214\n",
      "Number of nonzeros in KKT:                      1352\n",
      "Number of nonzeros in QR(R):                    2242\n",
      "Number of nonzeros in QR(V):                    1214\n",
      "Number of nonzeros in QR(R):                    2242\n"
     ]
    },
    {
     "name": "stderr",
     "output_type": "stream",
     "text": [
      "CasADi - 2019-10-13 16:48:15 WARNING(\"S:nlp_fg failed: NaN detected for output f, at (row 0, col 0).\") [.../casadi/core/oracle_function.cpp:265]\n",
      "CasADi - 2019-10-13 16:48:15 WARNING(\"S:nlp_fg failed: NaN detected for output f, at (row 0, col 0).\") [.../casadi/core/oracle_function.cpp:265]\n",
      "CasADi - 2019-10-13 16:48:15 WARNING(\"S:nlp_fg failed: NaN detected for output f, at (row 0, col 0).\") [.../casadi/core/oracle_function.cpp:265]\n",
      "CasADi - 2019-10-13 16:48:15 WARNING(\"S:nlp_fg failed: NaN detected for output f, at (row 0, col 0).\") [.../casadi/core/oracle_function.cpp:265]\n",
      "CasADi - 2019-10-13 16:48:15 WARNING(\"S:nlp_fg failed: NaN detected for output f, at (row 0, col 0).\") [.../casadi/core/oracle_function.cpp:265]\n",
      "CasADi - 2019-10-13 16:48:15 WARNING(\"S:nlp_fg failed: NaN detected for output f, at (row 0, col 0).\") [.../casadi/core/oracle_function.cpp:265]\n",
      "CasADi - 2019-10-13 16:48:15 WARNING(\"S:nlp_fg failed: NaN detected for output f, at (row 0, col 0).\") [.../casadi/core/oracle_function.cpp:265]\n",
      "CasADi - 2019-10-13 16:48:16 WARNING(\"S:nlp_fg failed: NaN detected for output f, at (row 0, col 0).\") [.../casadi/core/oracle_function.cpp:265]\n",
      "CasADi - 2019-10-13 16:48:16 WARNING(\"S:nlp_fg failed: NaN detected for output f, at (row 0, col 0).\") [.../casadi/core/oracle_function.cpp:265]\n",
      "CasADi - 2019-10-13 16:48:16 WARNING(\"S:nlp_fg failed: NaN detected for output f, at (row 0, col 0).\") [.../casadi/core/oracle_function.cpp:265]\n",
      "CasADi - 2019-10-13 16:48:16 WARNING(\"S:nlp_fg failed: NaN detected for output f, at (row 0, col 0).\") [.../casadi/core/oracle_function.cpp:265]\n",
      "CasADi - 2019-10-13 16:48:16 WARNING(\"S:nlp_fg failed: NaN detected for output f, at (row 0, col 0).\") [.../casadi/core/oracle_function.cpp:265]\n",
      "CasADi - 2019-10-13 16:48:16 WARNING(\"S:nlp_jac_fg failed: NaN detected for output f, at (row 0, col 0).\") [.../casadi/core/oracle_function.cpp:265]\n",
      "CasADi - 2019-10-13 16:48:16 WARNING(\"S:nlp_fg failed: NaN detected for output f, at (row 0, col 0).\") [.../casadi/core/oracle_function.cpp:265]\n",
      "CasADi - 2019-10-13 16:48:16 WARNING(\"S:nlp_fg failed: NaN detected for output f, at (row 0, col 0).\") [.../casadi/core/oracle_function.cpp:265]\n",
      "CasADi - 2019-10-13 16:48:16 WARNING(\"S:nlp_fg failed: NaN detected for output f, at (row 0, col 0).\") [.../casadi/core/oracle_function.cpp:265]\n",
      "CasADi - 2019-10-13 16:48:16 WARNING(\"S:nlp_fg failed: NaN detected for output f, at (row 0, col 0).\") [.../casadi/core/oracle_function.cpp:265]\n",
      "CasADi - 2019-10-13 16:48:16 WARNING(\"S:nlp_fg failed: NaN detected for output f, at (row 0, col 0).\") [.../casadi/core/oracle_function.cpp:265]\n",
      "CasADi - 2019-10-13 16:48:16 WARNING(\"S:nlp_jac_fg failed: NaN detected for output f, at (row 0, col 0).\") [.../casadi/core/oracle_function.cpp:265]\n",
      "CasADi - 2019-10-13 16:48:16 WARNING(\"S:nlp_fg failed: NaN detected for output f, at (row 0, col 0).\") [.../casadi/core/oracle_function.cpp:265]\n",
      "CasADi - 2019-10-13 16:48:16 WARNING(\"S:nlp_fg failed: NaN detected for output f, at (row 0, col 0).\") [.../casadi/core/oracle_function.cpp:265]\n",
      "CasADi - 2019-10-13 16:48:16 WARNING(\"S:nlp_fg failed: NaN detected for output f, at (row 0, col 0).\") [.../casadi/core/oracle_function.cpp:265]\n",
      "CasADi - 2019-10-13 16:48:16 WARNING(\"S:nlp_fg failed: NaN detected for output f, at (row 0, col 0).\") [.../casadi/core/oracle_function.cpp:265]\n",
      "CasADi - 2019-10-13 16:48:16 WARNING(\"S:nlp_fg failed: NaN detected for output f, at (row 0, col 0).\") [.../casadi/core/oracle_function.cpp:265]\n",
      "CasADi - 2019-10-13 16:48:16 WARNING(\"S:nlp_fg failed: NaN detected for output f, at (row 0, col 0).\") [.../casadi/core/oracle_function.cpp:265]\n",
      "CasADi - 2019-10-13 16:48:16 WARNING(\"S:nlp_fg failed: NaN detected for output f, at (row 0, col 0).\") [.../casadi/core/oracle_function.cpp:265]\n",
      "CasADi - 2019-10-13 16:48:16 WARNING(\"S:nlp_jac_fg failed: NaN detected for output f, at (row 0, col 0).\") [.../casadi/core/oracle_function.cpp:265]\n",
      "CasADi - 2019-10-13 16:48:16 WARNING(\"S:nlp_fg failed: NaN detected for output f, at (row 0, col 0).\") [.../casadi/core/oracle_function.cpp:265]\n",
      "CasADi - 2019-10-13 16:48:16 WARNING(\"S:nlp_fg failed: NaN detected for output f, at (row 0, col 0).\") [.../casadi/core/oracle_function.cpp:265]\n",
      "CasADi - 2019-10-13 16:48:16 WARNING(\"S:nlp_fg failed: NaN detected for output f, at (row 0, col 0).\") [.../casadi/core/oracle_function.cpp:265]\n",
      "CasADi - 2019-10-13 16:48:16 WARNING(\"S:nlp_fg failed: NaN detected for output f, at (row 0, col 0).\") [.../casadi/core/oracle_function.cpp:265]\n",
      "CasADi - 2019-10-13 16:48:16 WARNING(\"S:nlp_fg failed: NaN detected for output f, at (row 0, col 0).\") [.../casadi/core/oracle_function.cpp:265]\n",
      "CasADi - 2019-10-13 16:48:17 WARNING(\"S:nlp_fg failed: NaN detected for output f, at (row 0, col 0).\") [.../casadi/core/oracle_function.cpp:265]\n",
      "CasADi - 2019-10-13 16:48:17 WARNING(\"S:nlp_fg failed: NaN detected for output f, at (row 0, col 0).\") [.../casadi/core/oracle_function.cpp:265]\n",
      "CasADi - 2019-10-13 16:48:17 WARNING(\"S:nlp_fg failed: NaN detected for output f, at (row 0, col 0).\") [.../casadi/core/oracle_function.cpp:265]\n",
      "CasADi - 2019-10-13 16:48:17 WARNING(\"S:nlp_jac_fg failed: NaN detected for output f, at (row 0, col 0).\") [.../casadi/core/oracle_function.cpp:265]\n",
      "CasADi - 2019-10-13 16:48:17 WARNING(\"S:nlp_fg failed: NaN detected for output f, at (row 0, col 0).\") [.../casadi/core/oracle_function.cpp:265]\n",
      "CasADi - 2019-10-13 16:48:17 WARNING(\"S:nlp_fg failed: NaN detected for output f, at (row 0, col 0).\") [.../casadi/core/oracle_function.cpp:265]\n",
      "CasADi - 2019-10-13 16:48:17 WARNING(\"S:nlp_fg failed: NaN detected for output f, at (row 0, col 0).\") [.../casadi/core/oracle_function.cpp:265]\n",
      "CasADi - 2019-10-13 16:48:17 WARNING(\"S:nlp_fg failed: NaN detected for output f, at (row 0, col 0).\") [.../casadi/core/oracle_function.cpp:265]\n",
      "CasADi - 2019-10-13 16:48:17 WARNING(\"S:nlp_fg failed: NaN detected for output f, at (row 0, col 0).\") [.../casadi/core/oracle_function.cpp:265]\n",
      "CasADi - 2019-10-13 16:48:17 WARNING(\"S:nlp_fg failed: NaN detected for output f, at (row 0, col 0).\") [.../casadi/core/oracle_function.cpp:265]\n",
      "CasADi - 2019-10-13 16:48:17 WARNING(\"S:nlp_fg failed: NaN detected for output f, at (row 0, col 0).\") [.../casadi/core/oracle_function.cpp:265]\n",
      "CasADi - 2019-10-13 16:48:17 WARNING(\"S:nlp_jac_fg failed: NaN detected for output f, at (row 0, col 0).\") [.../casadi/core/oracle_function.cpp:265]\n",
      "CasADi - 2019-10-13 16:48:17 WARNING(\"S:nlp_fg failed: NaN detected for output f, at (row 0, col 0).\") [.../casadi/core/oracle_function.cpp:265]\n",
      "CasADi - 2019-10-13 16:48:17 WARNING(\"S:nlp_fg failed: NaN detected for output f, at (row 0, col 0).\") [.../casadi/core/oracle_function.cpp:265]\n",
      "CasADi - 2019-10-13 16:48:17 WARNING(\"S:nlp_fg failed: NaN detected for output f, at (row 0, col 0).\") [.../casadi/core/oracle_function.cpp:265]\n",
      "CasADi - 2019-10-13 16:48:17 WARNING(\"S:nlp_fg failed: NaN detected for output f, at (row 0, col 0).\") [.../casadi/core/oracle_function.cpp:265]\n",
      "CasADi - 2019-10-13 16:48:17 WARNING(\"S:nlp_fg failed: NaN detected for output f, at (row 0, col 0).\") [.../casadi/core/oracle_function.cpp:265]\n",
      "CasADi - 2019-10-13 16:48:17 WARNING(\"S:nlp_fg failed: NaN detected for output f, at (row 0, col 0).\") [.../casadi/core/oracle_function.cpp:265]\n",
      "CasADi - 2019-10-13 16:48:17 WARNING(\"S:nlp_fg failed: NaN detected for output f, at (row 0, col 0).\") [.../casadi/core/oracle_function.cpp:265]\n",
      "CasADi - 2019-10-13 16:48:17 WARNING(\"S:nlp_fg failed: NaN detected for output f, at (row 0, col 0).\") [.../casadi/core/oracle_function.cpp:265]\n",
      "CasADi - 2019-10-13 16:48:17 WARNING(\"S:nlp_fg failed: NaN detected for output f, at (row 0, col 0).\") [.../casadi/core/oracle_function.cpp:265]\n",
      "CasADi - 2019-10-13 16:48:17 WARNING(\"S:nlp_fg failed: NaN detected for output f, at (row 0, col 0).\") [.../casadi/core/oracle_function.cpp:265]\n",
      "CasADi - 2019-10-13 16:48:17 WARNING(\"S:nlp_fg failed: NaN detected for output f, at (row 0, col 0).\") [.../casadi/core/oracle_function.cpp:265]\n",
      "CasADi - 2019-10-13 16:48:17 WARNING(\"S:nlp_fg failed: NaN detected for output f, at (row 0, col 0).\") [.../casadi/core/oracle_function.cpp:265]\n",
      "CasADi - 2019-10-13 16:48:17 WARNING(\"S:nlp_fg failed: NaN detected for output f, at (row 0, col 0).\") [.../casadi/core/oracle_function.cpp:265]\n",
      "CasADi - 2019-10-13 16:48:17 WARNING(\"S:nlp_jac_fg failed: NaN detected for output f, at (row 0, col 0).\") [.../casadi/core/oracle_function.cpp:265]\n",
      "CasADi - 2019-10-13 16:48:18 WARNING(\"S:nlp_fg failed: NaN detected for output f, at (row 0, col 0).\") [.../casadi/core/oracle_function.cpp:265]\n",
      "CasADi - 2019-10-13 16:48:18 WARNING(\"S:nlp_fg failed: NaN detected for output f, at (row 0, col 0).\") [.../casadi/core/oracle_function.cpp:265]\n",
      "CasADi - 2019-10-13 16:48:18 WARNING(\"S:nlp_fg failed: NaN detected for output f, at (row 0, col 0).\") [.../casadi/core/oracle_function.cpp:265]\n",
      "CasADi - 2019-10-13 16:48:18 WARNING(\"S:nlp_fg failed: NaN detected for output f, at (row 0, col 0).\") [.../casadi/core/oracle_function.cpp:265]\n",
      "CasADi - 2019-10-13 16:48:18 WARNING(\"S:nlp_fg failed: NaN detected for output f, at (row 0, col 0).\") [.../casadi/core/oracle_function.cpp:265]\n",
      "CasADi - 2019-10-13 16:48:18 WARNING(\"S:nlp_fg failed: NaN detected for output f, at (row 0, col 0).\") [.../casadi/core/oracle_function.cpp:265]\n",
      "CasADi - 2019-10-13 16:48:18 WARNING(\"S:nlp_fg failed: NaN detected for output f, at (row 0, col 0).\") [.../casadi/core/oracle_function.cpp:265]\n",
      "CasADi - 2019-10-13 16:48:18 WARNING(\"S:nlp_fg failed: NaN detected for output f, at (row 0, col 0).\") [.../casadi/core/oracle_function.cpp:265]\n",
      "CasADi - 2019-10-13 16:48:18 WARNING(\"S:nlp_fg failed: NaN detected for output f, at (row 0, col 0).\") [.../casadi/core/oracle_function.cpp:265]\n",
      "CasADi - 2019-10-13 16:48:18 WARNING(\"S:nlp_fg failed: NaN detected for output f, at (row 0, col 0).\") [.../casadi/core/oracle_function.cpp:265]\n",
      "CasADi - 2019-10-13 16:48:18 WARNING(\"S:nlp_fg failed: NaN detected for output f, at (row 0, col 0).\") [.../casadi/core/oracle_function.cpp:265]\n",
      "CasADi - 2019-10-13 16:48:18 WARNING(\"S:nlp_fg failed: NaN detected for output f, at (row 0, col 0).\") [.../casadi/core/oracle_function.cpp:265]\n",
      "CasADi - 2019-10-13 16:48:18 WARNING(\"S:nlp_fg failed: NaN detected for output f, at (row 0, col 0).\") [.../casadi/core/oracle_function.cpp:265]\n",
      "CasADi - 2019-10-13 16:48:18 WARNING(\"S:nlp_fg failed: NaN detected for output f, at (row 0, col 0).\") [.../casadi/core/oracle_function.cpp:265]\n",
      "CasADi - 2019-10-13 16:48:18 WARNING(\"S:nlp_fg failed: NaN detected for output f, at (row 0, col 0).\") [.../casadi/core/oracle_function.cpp:265]\n",
      "CasADi - 2019-10-13 16:48:18 WARNING(\"S:nlp_fg failed: NaN detected for output f, at (row 0, col 0).\") [.../casadi/core/oracle_function.cpp:265]\n",
      "CasADi - 2019-10-13 16:48:18 WARNING(\"S:nlp_fg failed: NaN detected for output f, at (row 0, col 0).\") [.../casadi/core/oracle_function.cpp:265]\n",
      "CasADi - 2019-10-13 16:48:18 WARNING(\"S:nlp_fg failed: NaN detected for output f, at (row 0, col 0).\") [.../casadi/core/oracle_function.cpp:265]\n",
      "CasADi - 2019-10-13 16:48:18 WARNING(\"S:nlp_jac_fg failed: NaN detected for output f, at (row 0, col 0).\") [.../casadi/core/oracle_function.cpp:265]\n",
      "CasADi - 2019-10-13 16:48:18 WARNING(\"S:nlp_fg failed: NaN detected for output f, at (row 0, col 0).\") [.../casadi/core/oracle_function.cpp:265]\n",
      "CasADi - 2019-10-13 16:48:18 WARNING(\"S:nlp_fg failed: NaN detected for output f, at (row 0, col 0).\") [.../casadi/core/oracle_function.cpp:265]\n",
      "CasADi - 2019-10-13 16:48:18 WARNING(\"S:nlp_fg failed: NaN detected for output f, at (row 0, col 0).\") [.../casadi/core/oracle_function.cpp:265]\n",
      "CasADi - 2019-10-13 16:48:18 WARNING(\"S:nlp_fg failed: NaN detected for output f, at (row 0, col 0).\") [.../casadi/core/oracle_function.cpp:265]\n",
      "CasADi - 2019-10-13 16:48:18 WARNING(\"S:nlp_fg failed: NaN detected for output f, at (row 0, col 0).\") [.../casadi/core/oracle_function.cpp:265]\n",
      "CasADi - 2019-10-13 16:48:18 WARNING(\"S:nlp_fg failed: NaN detected for output f, at (row 0, col 0).\") [.../casadi/core/oracle_function.cpp:265]\n",
      "CasADi - 2019-10-13 16:48:18 WARNING(\"S:nlp_fg failed: NaN detected for output f, at (row 0, col 0).\") [.../casadi/core/oracle_function.cpp:265]\n",
      "CasADi - 2019-10-13 16:48:18 WARNING(\"S:nlp_fg failed: NaN detected for output f, at (row 0, col 0).\") [.../casadi/core/oracle_function.cpp:265]\n",
      "CasADi - 2019-10-13 16:48:18 WARNING(\"S:nlp_fg failed: NaN detected for output f, at (row 0, col 0).\") [.../casadi/core/oracle_function.cpp:265]\n",
      "CasADi - 2019-10-13 16:48:18 WARNING(\"S:nlp_fg failed: NaN detected for output f, at (row 0, col 0).\") [.../casadi/core/oracle_function.cpp:265]\n",
      "CasADi - 2019-10-13 16:48:18 WARNING(\"S:nlp_fg failed: NaN detected for output f, at (row 0, col 0).\") [.../casadi/core/oracle_function.cpp:265]\n",
      "CasADi - 2019-10-13 16:48:18 WARNING(\"S:nlp_fg failed: NaN detected for output f, at (row 0, col 0).\") [.../casadi/core/oracle_function.cpp:265]\n",
      "CasADi - 2019-10-13 16:48:18 WARNING(\"S:nlp_fg failed: NaN detected for output f, at (row 0, col 0).\") [.../casadi/core/oracle_function.cpp:265]\n",
      "CasADi - 2019-10-13 16:48:18 WARNING(\"S:nlp_jac_fg failed: NaN detected for output f, at (row 0, col 0).\") [.../casadi/core/oracle_function.cpp:265]\n",
      "CasADi - 2019-10-13 16:48:18 WARNING(\"S:nlp_fg failed: NaN detected for output f, at (row 0, col 0).\") [.../casadi/core/oracle_function.cpp:265]\n",
      "CasADi - 2019-10-13 16:48:18 WARNING(\"S:nlp_fg failed: NaN detected for output f, at (row 0, col 0).\") [.../casadi/core/oracle_function.cpp:265]\n",
      "CasADi - 2019-10-13 16:48:18 WARNING(\"S:nlp_fg failed: NaN detected for output f, at (row 0, col 0).\") [.../casadi/core/oracle_function.cpp:265]\n",
      "CasADi - 2019-10-13 16:48:18 WARNING(\"S:nlp_fg failed: NaN detected for output f, at (row 0, col 0).\") [.../casadi/core/oracle_function.cpp:265]\n",
      "CasADi - 2019-10-13 16:48:18 WARNING(\"S:nlp_fg failed: NaN detected for output f, at (row 0, col 0).\") [.../casadi/core/oracle_function.cpp:265]\n",
      "CasADi - 2019-10-13 16:48:18 WARNING(\"S:nlp_fg failed: NaN detected for output f, at (row 0, col 0).\") [.../casadi/core/oracle_function.cpp:265]\n",
      "CasADi - 2019-10-13 16:48:18 WARNING(\"S:nlp_fg failed: NaN detected for output f, at (row 0, col 0).\") [.../casadi/core/oracle_function.cpp:265]\n",
      "CasADi - 2019-10-13 16:48:18 WARNING(\"S:nlp_fg failed: NaN detected for output f, at (row 0, col 0).\") [.../casadi/core/oracle_function.cpp:265]\n",
      "CasADi - 2019-10-13 16:48:18 WARNING(\"S:nlp_fg failed: NaN detected for output f, at (row 0, col 0).\") [.../casadi/core/oracle_function.cpp:265]\n",
      "CasADi - 2019-10-13 16:48:18 WARNING(\"S:nlp_fg failed: NaN detected for output f, at (row 0, col 0).\") [.../casadi/core/oracle_function.cpp:265]\n",
      "CasADi - 2019-10-13 16:48:18 WARNING(\"S:nlp_fg failed: NaN detected for output f, at (row 0, col 0).\") [.../casadi/core/oracle_function.cpp:265]\n",
      "CasADi - 2019-10-13 16:48:18 WARNING(\"S:nlp_fg failed: NaN detected for output f, at (row 0, col 0).\") [.../casadi/core/oracle_function.cpp:265]\n",
      "CasADi - 2019-10-13 16:48:18 WARNING(\"S:nlp_jac_fg failed: NaN detected for output f, at (row 0, col 0).\") [.../casadi/core/oracle_function.cpp:265]\n",
      "CasADi - 2019-10-13 16:48:18 WARNING(\"S:nlp_fg failed: NaN detected for output f, at (row 0, col 0).\") [.../casadi/core/oracle_function.cpp:265]\n",
      "CasADi - 2019-10-13 16:48:18 WARNING(\"S:nlp_fg failed: NaN detected for output f, at (row 0, col 0).\") [.../casadi/core/oracle_function.cpp:265]\n",
      "CasADi - 2019-10-13 16:48:18 WARNING(\"S:nlp_fg failed: NaN detected for output f, at (row 0, col 0).\") [.../casadi/core/oracle_function.cpp:265]\n",
      "CasADi - 2019-10-13 16:48:18 WARNING(\"S:nlp_fg failed: NaN detected for output f, at (row 0, col 0).\") [.../casadi/core/oracle_function.cpp:265]\n",
      "CasADi - 2019-10-13 16:48:18 WARNING(\"S:nlp_fg failed: NaN detected for output f, at (row 0, col 0).\") [.../casadi/core/oracle_function.cpp:265]\n",
      "CasADi - 2019-10-13 16:48:18 WARNING(\"S:nlp_fg failed: NaN detected for output f, at (row 0, col 0).\") [.../casadi/core/oracle_function.cpp:265]\n",
      "CasADi - 2019-10-13 16:48:18 WARNING(\"S:nlp_fg failed: NaN detected for output f, at (row 0, col 0).\") [.../casadi/core/oracle_function.cpp:265]\n",
      "CasADi - 2019-10-13 16:48:18 WARNING(\"S:nlp_fg failed: NaN detected for output f, at (row 0, col 0).\") [.../casadi/core/oracle_function.cpp:265]\n",
      "CasADi - 2019-10-13 16:48:18 WARNING(\"S:nlp_fg failed: NaN detected for output f, at (row 0, col 0).\") [.../casadi/core/oracle_function.cpp:265]\n",
      "CasADi - 2019-10-13 16:48:18 WARNING(\"S:nlp_fg failed: NaN detected for output f, at (row 0, col 0).\") [.../casadi/core/oracle_function.cpp:265]\n",
      "CasADi - 2019-10-13 16:48:18 WARNING(\"S:nlp_fg failed: NaN detected for output f, at (row 0, col 0).\") [.../casadi/core/oracle_function.cpp:265]\n",
      "CasADi - 2019-10-13 16:48:18 WARNING(\"S:nlp_fg failed: NaN detected for output f, at (row 0, col 0).\") [.../casadi/core/oracle_function.cpp:265]\n",
      "CasADi - 2019-10-13 16:48:18 WARNING(\"S:nlp_fg failed: NaN detected for output f, at (row 0, col 0).\") [.../casadi/core/oracle_function.cpp:265]\n",
      "CasADi - 2019-10-13 16:48:18 WARNING(\"S:nlp_jac_fg failed: NaN detected for output f, at (row 0, col 0).\") [.../casadi/core/oracle_function.cpp:265]\n",
      "CasADi - 2019-10-13 16:48:19 WARNING(\"S:nlp_fg failed: NaN detected for output f, at (row 0, col 0).\") [.../casadi/core/oracle_function.cpp:265]\n",
      "CasADi - 2019-10-13 16:48:19 WARNING(\"S:nlp_fg failed: NaN detected for output f, at (row 0, col 0).\") [.../casadi/core/oracle_function.cpp:265]\n",
      "CasADi - 2019-10-13 16:48:19 WARNING(\"S:nlp_fg failed: NaN detected for output f, at (row 0, col 0).\") [.../casadi/core/oracle_function.cpp:265]\n",
      "CasADi - 2019-10-13 16:48:19 WARNING(\"S:nlp_fg failed: NaN detected for output f, at (row 0, col 0).\") [.../casadi/core/oracle_function.cpp:265]\n",
      "CasADi - 2019-10-13 16:48:19 WARNING(\"S:nlp_fg failed: NaN detected for output f, at (row 0, col 0).\") [.../casadi/core/oracle_function.cpp:265]\n",
      "CasADi - 2019-10-13 16:48:19 WARNING(\"S:nlp_fg failed: NaN detected for output f, at (row 0, col 0).\") [.../casadi/core/oracle_function.cpp:265]\n",
      "CasADi - 2019-10-13 16:48:19 WARNING(\"S:nlp_fg failed: NaN detected for output f, at (row 0, col 0).\") [.../casadi/core/oracle_function.cpp:265]\n",
      "CasADi - 2019-10-13 16:48:19 WARNING(\"S:nlp_fg failed: NaN detected for output f, at (row 0, col 0).\") [.../casadi/core/oracle_function.cpp:265]\n",
      "CasADi - 2019-10-13 16:48:19 WARNING(\"S:nlp_fg failed: NaN detected for output f, at (row 0, col 0).\") [.../casadi/core/oracle_function.cpp:265]\n",
      "CasADi - 2019-10-13 16:48:19 WARNING(\"S:nlp_fg failed: NaN detected for output f, at (row 0, col 0).\") [.../casadi/core/oracle_function.cpp:265]\n",
      "CasADi - 2019-10-13 16:48:19 WARNING(\"S:nlp_fg failed: NaN detected for output f, at (row 0, col 0).\") [.../casadi/core/oracle_function.cpp:265]\n",
      "CasADi - 2019-10-13 16:48:19 WARNING(\"S:nlp_fg failed: NaN detected for output f, at (row 0, col 0).\") [.../casadi/core/oracle_function.cpp:265]\n",
      "CasADi - 2019-10-13 16:48:19 WARNING(\"S:nlp_fg failed: NaN detected for output f, at (row 0, col 0).\") [.../casadi/core/oracle_function.cpp:265]\n",
      "CasADi - 2019-10-13 16:48:19 WARNING(\"S:nlp_fg failed: NaN detected for output f, at (row 0, col 0).\") [.../casadi/core/oracle_function.cpp:265]\n",
      "CasADi - 2019-10-13 16:48:19 WARNING(\"S:nlp_fg failed: NaN detected for output f, at (row 0, col 0).\") [.../casadi/core/oracle_function.cpp:265]\n",
      "CasADi - 2019-10-13 16:48:19 WARNING(\"S:nlp_fg failed: NaN detected for output f, at (row 0, col 0).\") [.../casadi/core/oracle_function.cpp:265]\n",
      "CasADi - 2019-10-13 16:48:19 WARNING(\"S:nlp_fg failed: NaN detected for output f, at (row 0, col 0).\") [.../casadi/core/oracle_function.cpp:265]\n",
      "CasADi - 2019-10-13 16:48:19 WARNING(\"S:nlp_fg failed: NaN detected for output f, at (row 0, col 0).\") [.../casadi/core/oracle_function.cpp:265]\n",
      "CasADi - 2019-10-13 16:48:19 WARNING(\"S:nlp_fg failed: NaN detected for output f, at (row 0, col 0).\") [.../casadi/core/oracle_function.cpp:265]\n",
      "CasADi - 2019-10-13 16:48:19 WARNING(\"S:nlp_fg failed: NaN detected for output f, at (row 0, col 0).\") [.../casadi/core/oracle_function.cpp:265]\n",
      "CasADi - 2019-10-13 16:48:19 WARNING(\"S:nlp_fg failed: NaN detected for output f, at (row 0, col 0).\") [.../casadi/core/oracle_function.cpp:265]\n",
      "CasADi - 2019-10-13 16:48:19 WARNING(\"S:nlp_fg failed: NaN detected for output f, at (row 0, col 0).\") [.../casadi/core/oracle_function.cpp:265]\n",
      "CasADi - 2019-10-13 16:48:20 WARNING(\"S:nlp_fg failed: NaN detected for output f, at (row 0, col 0).\") [.../casadi/core/oracle_function.cpp:265]\n",
      "CasADi - 2019-10-13 16:48:20 WARNING(\"S:nlp_fg failed: NaN detected for output f, at (row 0, col 0).\") [.../casadi/core/oracle_function.cpp:265]\n",
      "CasADi - 2019-10-13 16:48:20 WARNING(\"S:nlp_fg failed: NaN detected for output f, at (row 0, col 0).\") [.../casadi/core/oracle_function.cpp:265]\n",
      "CasADi - 2019-10-13 16:48:20 WARNING(\"S:nlp_fg failed: NaN detected for output f, at (row 0, col 0).\") [.../casadi/core/oracle_function.cpp:265]\n",
      "CasADi - 2019-10-13 16:48:20 WARNING(\"S:nlp_fg failed: NaN detected for output f, at (row 0, col 0).\") [.../casadi/core/oracle_function.cpp:265]\n",
      "CasADi - 2019-10-13 16:48:20 WARNING(\"S:nlp_fg failed: NaN detected for output f, at (row 0, col 0).\") [.../casadi/core/oracle_function.cpp:265]\n",
      "CasADi - 2019-10-13 16:48:20 WARNING(\"S:nlp_fg failed: NaN detected for output f, at (row 0, col 0).\") [.../casadi/core/oracle_function.cpp:265]\n",
      "CasADi - 2019-10-13 16:48:20 WARNING(\"S:nlp_fg failed: NaN detected for output f, at (row 0, col 0).\") [.../casadi/core/oracle_function.cpp:265]\n"
     ]
    },
    {
     "name": "stdout",
     "output_type": "stream",
     "text": [
      "Elapsed time 6.27340841293335 \n",
      " n_procs  11 \n",
      " n_points  44\n"
     ]
    }
   ],
   "source": [
    "result_array, intermediate = execute_moo_optimization(conf)\n",
    "[pv_rev_d, pv_util_d, tk_d, tl_d, tc_d] = result_array.tolist()"
   ]
  },
  {
   "cell_type": "markdown",
   "metadata": {
    "pycharm": {
     "is_executing": true
    }
   },
   "source": [
    "# 3 Visualize Pareto Frontier Construction\n",
    "\n",
    "For the visualization we make use of the python package ``plotly``."
   ]
  },
  {
   "cell_type": "code",
   "execution_count": 58,
   "metadata": {},
   "outputs": [
    {
     "name": "stdout",
     "output_type": "stream",
     "text": [
      "\n"
     ]
    }
   ],
   "source": [
    "\n",
    "fig = go.FigureWidget(py.subplots.make_subplots(rows = 2, cols=3 ))\n",
    "\n",
    "fig.update_xaxes(range=[0, max(pv_rev_d)+5])\n",
    "fig.update_yaxes(range=[0,1])\n",
    "fig.update_yaxes(range=[min(pv_util_d)-10,max(pv_util_d)+10], row=1, col=2)\n",
    "print(\"\")"
   ]
  },
  {
   "cell_type": "code",
   "execution_count": 59,
   "metadata": {},
   "outputs": [
    {
     "data": {
      "application/vnd.jupyter.widget-view+json": {
       "model_id": "d255a9bbd31c4550bdc72d40ac7bdb6f",
       "version_major": 2,
       "version_minor": 0
      },
      "text/plain": [
       "FigureWidget({\n",
       "    'data': [],\n",
       "    'layout': {'template': '...',\n",
       "               'xaxis': {'anchor': 'y', 'doma…"
      ]
     },
     "metadata": {},
     "output_type": "display_data"
    }
   ],
   "source": [
    "fig"
   ]
  },
  {
   "cell_type": "code",
   "execution_count": 60,
   "metadata": {},
   "outputs": [
    {
     "ename": "KeyboardInterrupt",
     "evalue": "",
     "output_type": "error",
     "traceback": [
      "\u001b[0;31m---------------------------------------------------------------------------\u001b[0m",
      "\u001b[0;31mKeyboardInterrupt\u001b[0m                         Traceback (most recent call last)",
      "\u001b[0;32m<ipython-input-60-f7ac6774c934>\u001b[0m in \u001b[0;36m<module>\u001b[0;34m\u001b[0m\n\u001b[1;32m      7\u001b[0m         \u001b[0mtime\u001b[0m\u001b[0;34m.\u001b[0m\u001b[0msleep\u001b[0m\u001b[0;34m(\u001b[0m\u001b[0;36m1\u001b[0m\u001b[0;34m)\u001b[0m\u001b[0;34m\u001b[0m\u001b[0;34m\u001b[0m\u001b[0m\n\u001b[1;32m      8\u001b[0m \u001b[0;34m\u001b[0m\u001b[0m\n\u001b[0;32m----> 9\u001b[0;31m     \u001b[0mtime\u001b[0m\u001b[0;34m.\u001b[0m\u001b[0msleep\u001b[0m\u001b[0;34m(\u001b[0m\u001b[0;36m1\u001b[0m\u001b[0;34m)\u001b[0m\u001b[0;34m\u001b[0m\u001b[0;34m\u001b[0m\u001b[0m\n\u001b[0m\u001b[1;32m     10\u001b[0m     \u001b[0mfig\u001b[0m\u001b[0;34m.\u001b[0m\u001b[0mdata\u001b[0m\u001b[0;34m=\u001b[0m\u001b[0;34m(\u001b[0m\u001b[0;34m)\u001b[0m\u001b[0;34m\u001b[0m\u001b[0;34m\u001b[0m\u001b[0m\n\u001b[1;32m     11\u001b[0m     \u001b[0mfig\u001b[0m\u001b[0;34m.\u001b[0m\u001b[0madd_trace\u001b[0m\u001b[0;34m(\u001b[0m\u001b[0mgo\u001b[0m\u001b[0;34m.\u001b[0m\u001b[0mScatter\u001b[0m\u001b[0;34m(\u001b[0m\u001b[0mx\u001b[0m\u001b[0;34m=\u001b[0m\u001b[0mpv_rev_d\u001b[0m\u001b[0;34m[\u001b[0m\u001b[0;34m:\u001b[0m\u001b[0mi\u001b[0m\u001b[0;34m+\u001b[0m\u001b[0;36m1\u001b[0m\u001b[0;34m]\u001b[0m\u001b[0;34m,\u001b[0m \u001b[0my\u001b[0m\u001b[0;34m=\u001b[0m\u001b[0mpv_util_d\u001b[0m\u001b[0;34m[\u001b[0m\u001b[0;34m:\u001b[0m\u001b[0mi\u001b[0m\u001b[0;34m+\u001b[0m\u001b[0;36m1\u001b[0m\u001b[0;34m]\u001b[0m\u001b[0;34m,\u001b[0m \u001b[0mmode\u001b[0m\u001b[0;34m=\u001b[0m\u001b[0;34m'markers'\u001b[0m\u001b[0;34m,\u001b[0m \u001b[0mshowlegend\u001b[0m\u001b[0;34m=\u001b[0m\u001b[0;32mFalse\u001b[0m\u001b[0;34m)\u001b[0m\u001b[0;34m,\u001b[0m \u001b[0mrow\u001b[0m\u001b[0;34m=\u001b[0m\u001b[0;36m1\u001b[0m\u001b[0;34m,\u001b[0m \u001b[0mcol\u001b[0m\u001b[0;34m=\u001b[0m\u001b[0;36m2\u001b[0m\u001b[0;34m)\u001b[0m\u001b[0;34m\u001b[0m\u001b[0;34m\u001b[0m\u001b[0m\n",
      "\u001b[0;31mKeyboardInterrupt\u001b[0m: "
     ]
    }
   ],
   "source": [
    "for i in range(len(pv_rev_d)):\n",
    "    for j in range(min(10, len(intermediate[i]['util']))):\n",
    "        fig.add_trace(go.Scatter(x=intermediate[i]['rev'][j].full().squeeze(), y=intermediate[i]['util'][j].full().squeeze(), mode='markers', showlegend=False), row=1, col=2)\n",
    "        fig.add_trace(go.Scatter(x=intermediate[i]['rev'][j].full().squeeze(), y=[intermediate[i]['tax_rates'][j][0]], showlegend=False), row=2, col=1)\n",
    "        fig.add_trace(go.Scatter(x=intermediate[i]['rev'][j].full().squeeze(), y=[intermediate[i]['tax_rates'][j][1]], mode='markers',showlegend=False), row=2, col=2)\n",
    "        fig.add_trace(go.Scatter(x=intermediate[i]['rev'][j].full().squeeze(), y=[intermediate[i]['tax_rates'][j][2]], mode='markers', showlegend=False), row=2, col=3)\n",
    "        time.sleep(1)\n",
    "    \n",
    "    time.sleep(1)\n",
    "    fig.data=()\n",
    "    fig.add_trace(go.Scatter(x=pv_rev_d[:i+1], y=pv_util_d[:i+1], mode='markers', showlegend=False), row=1, col=2)\n",
    "    fig.add_trace(go.Scatter(x=pv_rev_d[:i+1], y=tk_d[:i+1], mode='markers', showlegend=False), row=2, col=1)\n",
    "    fig.add_trace(go.Scatter(x=pv_rev_d[:i+1], y=tl_d[:i+1], mode='markers',showlegend=False), row=2, col=2)\n",
    "    fig.add_trace(go.Scatter(x=pv_rev_d[:i+1], y=tc_d[:i+1], mode='markers', showlegend=False), row=2, col=3)\n",
    "    \n",
    "     "
   ]
  },
  {
   "cell_type": "code",
   "execution_count": 19,
   "metadata": {},
   "outputs": [],
   "source": [
    "fig.data=()"
   ]
  },
  {
   "cell_type": "code",
   "execution_count": 7,
   "metadata": {},
   "outputs": [
    {
     "data": {
      "text/plain": [
       "44"
      ]
     },
     "execution_count": 7,
     "metadata": {},
     "output_type": "execute_result"
    }
   ],
   "source": [
    "len(pv_rev_d)"
   ]
  },
  {
   "cell_type": "code",
   "execution_count": 68,
   "metadata": {},
   "outputs": [
    {
     "data": {
      "application/vnd.jupyter.widget-view+json": {
       "model_id": "0b09008b9472465bba6ca2c5473d36b1",
       "version_major": 2,
       "version_minor": 0
      },
      "text/plain": [
       "FigureWidget({\n",
       "    'data': [{'mode': 'markers',\n",
       "              'showlegend': False,\n",
       "              'type': 'scat…"
      ]
     },
     "metadata": {},
     "output_type": "display_data"
    }
   ],
   "source": [
    "fig.add_trace(go.Scatter(x=intermediate[i]['rev'][j].full().squeeze(), y=[intermediate[i]['tax_rates'][j][0]], mode='markers', showlegend=False), row=2, col=1)\n",
    "        "
   ]
  },
  {
   "cell_type": "code",
   "execution_count": 69,
   "metadata": {},
   "outputs": [
    {
     "data": {
      "application/vnd.plotly.v1+json": {
       "config": {
        "plotlyServerURL": "https://plot.ly"
       },
       "data": [
        {
         "mode": "markers",
         "showlegend": false,
         "type": "scatter",
         "uid": "a26861cc-4121-4871-8796-e0f1ce32504d",
         "x": [
          [
           108.93884702001263
          ]
         ],
         "xaxis": "x",
         "y": [
          [
           33.64231665923717
          ]
         ],
         "yaxis": "y"
        },
        {
         "mode": "markers",
         "showlegend": false,
         "type": "scatter",
         "uid": "a305a741-b230-4748-8393-d1a339a90f62",
         "x": [
          [
           108.93884702001263
          ]
         ],
         "xaxis": "x4",
         "y": [
          0.9977669530887189
         ],
         "yaxis": "y4"
        },
        {
         "mode": "markers",
         "showlegend": false,
         "type": "scatter",
         "uid": "028254b0-e9c6-49a6-a85f-39d0e4e6a6be",
         "x": [
          [
           108.93884702001263
          ]
         ],
         "xaxis": "x5",
         "y": [
          0.6518987352336586
         ],
         "yaxis": "y5"
        },
        {
         "mode": "markers",
         "showlegend": false,
         "type": "scatter",
         "uid": "9627d1fc-862a-453a-a2cc-4335c9132b59",
         "x": [
          [
           108.93884702001263
          ]
         ],
         "xaxis": "x6",
         "y": [
          0.5694719531023168
         ],
         "yaxis": "y6"
        },
        {
         "mode": "markers",
         "showlegend": false,
         "type": "scatter",
         "uid": "92f23914-9085-415c-8583-0e13bb8bab5a",
         "x": [
          [
           108.93884528304402
          ]
         ],
         "xaxis": "x",
         "y": [
          [
           39.50349044505373
          ]
         ],
         "yaxis": "y"
        },
        {
         "mode": "markers",
         "showlegend": false,
         "type": "scatter",
         "uid": "75e0df3d-9054-4d5f-8e53-353603323b58",
         "x": [
          [
           108.93884528304402
          ]
         ],
         "xaxis": "x4",
         "y": [
          0.9953637170365479
         ],
         "yaxis": "y4"
        },
        {
         "mode": "markers",
         "showlegend": false,
         "type": "scatter",
         "uid": "4e96dd38-7ba4-4698-869e-d03c9511667f",
         "x": [
          [
           108.93884528304402
          ]
         ],
         "xaxis": "x5",
         "y": [
          0.5629575760169289
         ],
         "yaxis": "y5"
        },
        {
         "mode": "markers",
         "showlegend": false,
         "type": "scatter",
         "uid": "4a1bae2c-a997-480b-8751-86e7e608fde6",
         "x": [
          [
           108.93884528304402
          ]
         ],
         "xaxis": "x6",
         "y": [
          0.5486839306200055
         ],
         "yaxis": "y6"
        },
        {
         "mode": "markers",
         "showlegend": false,
         "type": "scatter",
         "uid": "87df5679-337c-426e-9fc5-33338408cd1f",
         "x": [
          [
           110.53625967705267
          ]
         ],
         "xaxis": "x",
         "y": [
          [
           39.50349384741031
          ]
         ],
         "yaxis": "y"
        },
        {
         "mode": "markers",
         "showlegend": false,
         "type": "scatter",
         "uid": "59fd89de-dcde-4694-a634-47fdfc110559",
         "x": [
          [
           110.53625967705267
          ]
         ],
         "xaxis": "x4",
         "y": [
          0
         ],
         "yaxis": "y4"
        },
        {
         "mode": "markers",
         "showlegend": false,
         "type": "scatter",
         "uid": "e72bfe20-eb37-4df1-843d-8c66b8537dbb",
         "x": [
          [
           110.53625967705267
          ]
         ],
         "xaxis": "x5",
         "y": [
          0.7264988922190966
         ],
         "yaxis": "y5"
        },
        {
         "mode": "markers",
         "showlegend": false,
         "type": "scatter",
         "uid": "c40d4919-5384-4541-b37f-0dab927fe048",
         "x": [
          [
           110.53625967705267
          ]
         ],
         "xaxis": "x6",
         "y": [
          0
         ],
         "yaxis": "y6"
        },
        {
         "mode": "markers",
         "showlegend": false,
         "type": "scatter",
         "uid": "f32b3a72-5d15-417c-8ed9-08ab221bf62c",
         "x": [
          [
           110.53626305357832
          ]
         ],
         "xaxis": "x",
         "y": [
          [
           39.50380990944347
          ]
         ],
         "yaxis": "y"
        },
        {
         "mode": "markers",
         "showlegend": false,
         "type": "scatter",
         "uid": "487e433c-fc47-47af-a42b-aa7bdb172868",
         "x": [
          [
           110.53626305357832
          ]
         ],
         "xaxis": "x4",
         "y": [
          0.00196927673981382
         ],
         "yaxis": "y4"
        },
        {
         "mode": "markers",
         "showlegend": false,
         "type": "scatter",
         "uid": "0a53042c-3ec8-4e5a-a9b2-c6b7dd015500",
         "x": [
          [
           110.53626305357832
          ]
         ],
         "xaxis": "x5",
         "y": [
          0.7264522577087836
         ],
         "yaxis": "y5"
        },
        {
         "mode": "markers",
         "showlegend": false,
         "type": "scatter",
         "uid": "6931a678-477e-4522-8006-ecc4f6fea02c",
         "x": [
          [
           110.53626305357832
          ]
         ],
         "xaxis": "x6",
         "y": [
          0
         ],
         "yaxis": "y6"
        },
        {
         "mode": "markers",
         "showlegend": false,
         "type": "scatter",
         "uid": "28305e97-827d-4c81-9c53-ce214a005647",
         "x": [
          [
           108.93884702001263
          ]
         ],
         "xaxis": "x",
         "y": [
          [
           33.64231665923717
          ]
         ],
         "yaxis": "y"
        },
        {
         "mode": "markers",
         "showlegend": false,
         "type": "scatter",
         "uid": "c49c2ee6-a616-42aa-aee5-cc141d47f174",
         "x": [
          [
           108.93884702001263
          ]
         ],
         "xaxis": "x4",
         "y": [
          0.9977669530887189
         ],
         "yaxis": "y4"
        },
        {
         "mode": "markers",
         "showlegend": false,
         "type": "scatter",
         "uid": "604b41a2-7fd1-4c44-a8a7-cb0bf26b5c17",
         "x": [
          [
           108.93884702001263
          ]
         ],
         "xaxis": "x5",
         "y": [
          0.6518987352336586
         ],
         "yaxis": "y5"
        },
        {
         "mode": "markers",
         "showlegend": false,
         "type": "scatter",
         "uid": "950b90ab-da11-410e-bb93-155b9973d921",
         "x": [
          [
           108.93884702001263
          ]
         ],
         "xaxis": "x6",
         "y": [
          0.5694719531023168
         ],
         "yaxis": "y6"
        },
        {
         "mode": "markers",
         "showlegend": false,
         "type": "scatter",
         "uid": "cb1eb1ea-23ac-444d-9045-c4faffe36ddc",
         "x": [
          [
           108.93884528304402
          ]
         ],
         "xaxis": "x",
         "y": [
          [
           39.50349044505373
          ]
         ],
         "yaxis": "y"
        },
        {
         "mode": "markers",
         "showlegend": false,
         "type": "scatter",
         "uid": "b1a638fc-cfb3-449b-82a9-00ef095aa8bc",
         "x": [
          [
           108.93884528304402
          ]
         ],
         "xaxis": "x4",
         "y": [
          0.9953637170365479
         ],
         "yaxis": "y4"
        },
        {
         "mode": "markers",
         "showlegend": false,
         "type": "scatter",
         "uid": "30ed234d-a5b3-49dd-947c-2578c767633e",
         "x": [
          [
           108.93884528304402
          ]
         ],
         "xaxis": "x5",
         "y": [
          0.5629575760169289
         ],
         "yaxis": "y5"
        },
        {
         "mode": "markers",
         "showlegend": false,
         "type": "scatter",
         "uid": "c9039578-192c-4dd5-8105-c29b2ed86454",
         "x": [
          [
           108.93884528304402
          ]
         ],
         "xaxis": "x6",
         "y": [
          0.5486839306200055
         ],
         "yaxis": "y6"
        },
        {
         "mode": "markers",
         "showlegend": false,
         "type": "scatter",
         "uid": "c4bc0cf9-d156-4cf7-8547-fe5a99bef402",
         "x": [
          [
           110.53625967705267
          ]
         ],
         "xaxis": "x",
         "y": [
          [
           39.50349384741031
          ]
         ],
         "yaxis": "y"
        },
        {
         "mode": "markers",
         "showlegend": false,
         "type": "scatter",
         "uid": "a5585f82-5ab8-4f4f-9c39-3f01961e5ad2",
         "x": [
          [
           110.53625967705267
          ]
         ],
         "xaxis": "x4",
         "y": [
          0
         ],
         "yaxis": "y4"
        },
        {
         "mode": "markers",
         "showlegend": false,
         "type": "scatter",
         "uid": "3802f03c-ecd9-4001-92d0-be83386238e5",
         "x": [
          [
           110.53625967705267
          ]
         ],
         "xaxis": "x5",
         "y": [
          0.7264988922190966
         ],
         "yaxis": "y5"
        },
        {
         "mode": "markers",
         "showlegend": false,
         "type": "scatter",
         "uid": "78069a82-9eaf-41ed-a642-1b531807626a",
         "x": [
          [
           110.53625967705267
          ]
         ],
         "xaxis": "x6",
         "y": [
          0
         ],
         "yaxis": "y6"
        },
        {
         "mode": "markers",
         "showlegend": false,
         "type": "scatter",
         "uid": "5a649198-3ba2-4436-a423-1612a524b0d3",
         "x": [
          [
           110.53626305357832
          ]
         ],
         "xaxis": "x",
         "y": [
          [
           39.50380990944347
          ]
         ],
         "yaxis": "y"
        },
        {
         "mode": "markers",
         "showlegend": false,
         "type": "scatter",
         "uid": "57ef2a4e-56c8-465b-a3bc-5fe2ded3c743",
         "x": [
          [
           110.53626305357832
          ]
         ],
         "xaxis": "x4",
         "y": [
          0.00196927673981382
         ],
         "yaxis": "y4"
        },
        {
         "mode": "markers",
         "showlegend": false,
         "type": "scatter",
         "uid": "c1e8c0b4-740a-4256-b084-8a8a59b37ff3",
         "x": [
          [
           110.53626305357832
          ]
         ],
         "xaxis": "x5",
         "y": [
          0.7264522577087836
         ],
         "yaxis": "y5"
        },
        {
         "mode": "markers",
         "showlegend": false,
         "type": "scatter",
         "uid": "a618906b-b1da-46fe-b74c-ec12bf8bf0c1",
         "x": [
          [
           110.53626305357832
          ]
         ],
         "xaxis": "x6",
         "y": [
          0
         ],
         "yaxis": "y6"
        },
        {
         "mode": "markers",
         "showlegend": false,
         "type": "scatter",
         "uid": "f5909e63-c60a-44d6-b854-0802a58653ab",
         "x": [
          [
           [
            108.93884702001263
           ]
          ]
         ],
         "xaxis": "x",
         "y": [
          [
           33.64231665923717
          ]
         ],
         "yaxis": "y"
        },
        {
         "mode": "markers",
         "showlegend": false,
         "type": "scatter",
         "uid": "892ea29b-4907-4054-bf1b-809723ba369c",
         "x": [
          [
           108.93884702001263
          ]
         ],
         "xaxis": "x4",
         "y": [
          0.9977669530887189
         ],
         "yaxis": "y4"
        },
        {
         "mode": "markers",
         "showlegend": false,
         "type": "scatter",
         "uid": "e35bb518-5c76-4d30-91d2-4e8c43959e5a",
         "x": [
          [
           108.93884702001263
          ]
         ],
         "xaxis": "x5",
         "y": [
          0.6518987352336586
         ],
         "yaxis": "y5"
        },
        {
         "mode": "markers",
         "showlegend": false,
         "type": "scatter",
         "uid": "eac08333-b03f-4778-bc41-651330f60401",
         "x": [
          [
           108.93884702001263
          ]
         ],
         "xaxis": "x6",
         "y": [
          0.5694719531023168
         ],
         "yaxis": "y6"
        },
        {
         "mode": "markers",
         "showlegend": false,
         "type": "scatter",
         "uid": "11359582-b2db-4428-a867-e1f07f3911cd",
         "x": [
          [
           [
            108.93884528304402
           ]
          ]
         ],
         "xaxis": "x",
         "y": [
          [
           39.50349044505373
          ]
         ],
         "yaxis": "y"
        },
        {
         "mode": "markers",
         "showlegend": false,
         "type": "scatter",
         "uid": "d6b7e759-1448-4380-907a-ae2c9d07cf50",
         "x": [
          [
           108.93884528304402
          ]
         ],
         "xaxis": "x4",
         "y": [
          0.9953637170365479
         ],
         "yaxis": "y4"
        },
        {
         "mode": "markers",
         "showlegend": false,
         "type": "scatter",
         "uid": "f290612d-1fc2-4fdb-873e-9ec1ef42a80c",
         "x": [
          [
           108.93884528304402
          ]
         ],
         "xaxis": "x5",
         "y": [
          0.5629575760169289
         ],
         "yaxis": "y5"
        },
        {
         "mode": "markers",
         "showlegend": false,
         "type": "scatter",
         "uid": "77478976-6945-4666-84e2-5064f43ef466",
         "x": [
          [
           108.93884528304402
          ]
         ],
         "xaxis": "x6",
         "y": [
          0.5486839306200055
         ],
         "yaxis": "y6"
        },
        {
         "mode": "markers",
         "showlegend": false,
         "type": "scatter",
         "uid": "27cd56b1-4a1d-417f-9655-3f0db3bb9428",
         "x": [
          [
           [
            110.53625967705267
           ]
          ]
         ],
         "xaxis": "x",
         "y": [
          [
           39.50349384741031
          ]
         ],
         "yaxis": "y"
        },
        {
         "mode": "markers",
         "showlegend": false,
         "type": "scatter",
         "uid": "65667b6f-909f-4bed-97da-25d4ad54320c",
         "x": [
          [
           110.53625967705267
          ]
         ],
         "xaxis": "x4",
         "y": [
          0
         ],
         "yaxis": "y4"
        },
        {
         "mode": "markers",
         "showlegend": false,
         "type": "scatter",
         "uid": "a244c1cf-edce-4ed5-ab97-c74eaba36d82",
         "x": [
          [
           110.53625967705267
          ]
         ],
         "xaxis": "x5",
         "y": [
          0.7264988922190966
         ],
         "yaxis": "y5"
        },
        {
         "mode": "markers",
         "showlegend": false,
         "type": "scatter",
         "uid": "1f66e45b-bfa3-479a-b2e9-618e95ff76f0",
         "x": [
          [
           110.53625967705267
          ]
         ],
         "xaxis": "x6",
         "y": [
          0
         ],
         "yaxis": "y6"
        },
        {
         "mode": "markers",
         "showlegend": false,
         "type": "scatter",
         "uid": "3a2eae21-1e14-4993-aa84-5ceefc57b125",
         "x": [
          [
           [
            110.53626305357832
           ]
          ]
         ],
         "xaxis": "x",
         "y": [
          [
           39.50380990944347
          ]
         ],
         "yaxis": "y"
        },
        {
         "mode": "markers",
         "showlegend": false,
         "type": "scatter",
         "uid": "308cc00c-ae2a-402f-ac01-486db0d2e4ef",
         "x": [
          [
           110.53626305357832
          ]
         ],
         "xaxis": "x4",
         "y": [
          0.00196927673981382
         ],
         "yaxis": "y4"
        },
        {
         "mode": "markers",
         "showlegend": false,
         "type": "scatter",
         "uid": "a2ab5ead-b861-45ef-aaef-47366f42e06a",
         "x": [
          [
           110.53626305357832
          ]
         ],
         "xaxis": "x5",
         "y": [
          0.7264522577087836
         ],
         "yaxis": "y5"
        },
        {
         "mode": "markers",
         "showlegend": false,
         "type": "scatter",
         "uid": "ef51feb7-752b-4215-9f80-68367bcf4788",
         "x": [
          [
           110.53626305357832
          ]
         ],
         "xaxis": "x6",
         "y": [
          0
         ],
         "yaxis": "y6"
        },
        {
         "mode": "markers",
         "showlegend": false,
         "type": "scatter",
         "uid": "7f0ba291-fdd6-4b0d-8833-6a87a8e96063",
         "x": [
          [
           [
            108.93884702001263
           ]
          ]
         ],
         "xaxis": "x",
         "y": [
          [
           33.64231665923717
          ]
         ],
         "yaxis": "y"
        },
        {
         "mode": "markers",
         "showlegend": false,
         "type": "scatter",
         "uid": "97835bfa-5f4b-4da2-815d-3cdce35cbbbb",
         "x": [
          [
           108.93884702001263
          ]
         ],
         "xaxis": "x4",
         "y": [
          0.9977669530887189
         ],
         "yaxis": "y4"
        },
        {
         "mode": "markers",
         "showlegend": false,
         "type": "scatter",
         "uid": "79fa6316-5d02-4a6e-bfea-71ca1c09570b",
         "x": [
          [
           108.93884702001263
          ]
         ],
         "xaxis": "x5",
         "y": [
          0.6518987352336586
         ],
         "yaxis": "y5"
        },
        {
         "mode": "markers",
         "showlegend": false,
         "type": "scatter",
         "uid": "cd781e60-d4e5-49d4-bc23-a8795e360c4a",
         "x": [
          [
           108.93884702001263
          ]
         ],
         "xaxis": "x6",
         "y": [
          0.5694719531023168
         ],
         "yaxis": "y6"
        },
        {
         "mode": "markers",
         "showlegend": false,
         "type": "scatter",
         "uid": "ed4eb7d1-86da-4d7a-958a-55298b6a99a1",
         "x": [
          [
           [
            108.93884528304402
           ]
          ]
         ],
         "xaxis": "x",
         "y": [
          [
           39.50349044505373
          ]
         ],
         "yaxis": "y"
        },
        {
         "mode": "markers",
         "showlegend": false,
         "type": "scatter",
         "uid": "d2c54fcc-2503-462b-bfb6-c2a5bec35896",
         "x": [
          [
           108.93884528304402
          ]
         ],
         "xaxis": "x4",
         "y": [
          0.9953637170365479
         ],
         "yaxis": "y4"
        },
        {
         "mode": "markers",
         "showlegend": false,
         "type": "scatter",
         "uid": "828be71e-5bd0-4625-918b-7a5b18deb4fa",
         "x": [
          [
           108.93884528304402
          ]
         ],
         "xaxis": "x5",
         "y": [
          0.5629575760169289
         ],
         "yaxis": "y5"
        },
        {
         "mode": "markers",
         "showlegend": false,
         "type": "scatter",
         "uid": "135a3a64-a648-4a68-9984-e240d6746245",
         "x": [
          [
           108.93884528304402
          ]
         ],
         "xaxis": "x6",
         "y": [
          0.5486839306200055
         ],
         "yaxis": "y6"
        },
        {
         "mode": "markers",
         "showlegend": false,
         "type": "scatter",
         "uid": "706b9925-4f76-48ce-8a91-63a688d1006a",
         "x": [
          [
           [
            110.53625967705267
           ]
          ]
         ],
         "xaxis": "x",
         "y": [
          [
           39.50349384741031
          ]
         ],
         "yaxis": "y"
        },
        {
         "mode": "markers",
         "showlegend": false,
         "type": "scatter",
         "uid": "490252f6-5e05-4101-96f3-504e9a292704",
         "x": [
          [
           110.53625967705267
          ]
         ],
         "xaxis": "x4",
         "y": [
          0
         ],
         "yaxis": "y4"
        },
        {
         "mode": "markers",
         "showlegend": false,
         "type": "scatter",
         "uid": "60cdeaef-4c3d-4bc3-83df-8b0d7be6c6b3",
         "x": [
          [
           110.53625967705267
          ]
         ],
         "xaxis": "x5",
         "y": [
          0.7264988922190966
         ],
         "yaxis": "y5"
        },
        {
         "mode": "markers",
         "showlegend": false,
         "type": "scatter",
         "uid": "7cbcf95f-830b-4728-b336-d5d8c4ccfe49",
         "x": [
          [
           110.53625967705267
          ]
         ],
         "xaxis": "x6",
         "y": [
          0
         ],
         "yaxis": "y6"
        },
        {
         "mode": "markers",
         "showlegend": false,
         "type": "scatter",
         "uid": "2afb5d0b-122f-4244-83b1-3e7564684d50",
         "x": [
          [
           [
            110.53626305357832
           ]
          ]
         ],
         "xaxis": "x",
         "y": [
          [
           39.50380990944347
          ]
         ],
         "yaxis": "y"
        },
        {
         "mode": "markers",
         "showlegend": false,
         "type": "scatter",
         "uid": "2dac367b-e009-480a-8ea1-44310e6fbdfc",
         "x": [
          [
           110.53626305357832
          ]
         ],
         "xaxis": "x4",
         "y": [
          0.00196927673981382
         ],
         "yaxis": "y4"
        },
        {
         "mode": "markers",
         "showlegend": false,
         "type": "scatter",
         "uid": "21713ce7-0646-482e-a5e7-95bd6586d9c5",
         "x": [
          [
           110.53626305357832
          ]
         ],
         "xaxis": "x5",
         "y": [
          0.7264522577087836
         ],
         "yaxis": "y5"
        },
        {
         "mode": "markers",
         "showlegend": false,
         "type": "scatter",
         "uid": "3abf1e11-3ed1-435a-b416-4df20e60db14",
         "x": [
          [
           110.53626305357832
          ]
         ],
         "xaxis": "x6",
         "y": [
          0
         ],
         "yaxis": "y6"
        },
        {
         "mode": "markers",
         "showlegend": false,
         "type": "scatter",
         "uid": "6ca88e28-4874-4507-8c2c-97417d1ca9e0",
         "x": [
          1
         ],
         "xaxis": "x",
         "y": [
          2
         ],
         "yaxis": "y"
        },
        {
         "mode": "markers",
         "showlegend": false,
         "type": "scatter",
         "uid": "63b99d4c-a507-4d5e-ac26-198f10c74987",
         "x": [
          [
           108.93884702001263
          ]
         ],
         "xaxis": "x",
         "y": [
          [
           33.64231665923717
          ]
         ],
         "yaxis": "y"
        },
        {
         "mode": "markers",
         "showlegend": false,
         "type": "scatter",
         "uid": "af316755-681a-48f8-a5a2-9cdd5cce5b23",
         "x": [
          [
           108.93884702001263
          ]
         ],
         "xaxis": "x4",
         "y": [
          0.9977669530887189
         ],
         "yaxis": "y4"
        },
        {
         "mode": "markers",
         "showlegend": false,
         "type": "scatter",
         "uid": "12cd2be9-0fab-41a0-85ec-54678bd00af8",
         "x": [
          [
           108.93884702001263
          ]
         ],
         "xaxis": "x5",
         "y": [
          0.6518987352336586
         ],
         "yaxis": "y5"
        },
        {
         "mode": "markers",
         "showlegend": false,
         "type": "scatter",
         "uid": "1d304fe0-55af-488b-bfc9-fe8a51a3a07f",
         "x": [
          [
           108.93884702001263
          ]
         ],
         "xaxis": "x6",
         "y": [
          0.5694719531023168
         ],
         "yaxis": "y6"
        },
        {
         "mode": "markers",
         "showlegend": false,
         "type": "scatter",
         "uid": "59282aa9-2fdc-46bd-a1a4-a65e721c0740",
         "x": [
          1
         ],
         "xaxis": "x",
         "y": [
          2
         ],
         "yaxis": "y"
        },
        {
         "mode": "markers",
         "showlegend": false,
         "type": "scatter",
         "uid": "2efc542b-e28c-403d-8ede-8dd35b03cc72",
         "x": [
          [
           108.93884528304402
          ]
         ],
         "xaxis": "x",
         "y": [
          [
           39.50349044505373
          ]
         ],
         "yaxis": "y"
        },
        {
         "mode": "markers",
         "showlegend": false,
         "type": "scatter",
         "uid": "5ed4dd48-d595-40ac-a534-b0573db43c70",
         "x": [
          [
           108.93884528304402
          ]
         ],
         "xaxis": "x4",
         "y": [
          0.9953637170365479
         ],
         "yaxis": "y4"
        },
        {
         "mode": "markers",
         "showlegend": false,
         "type": "scatter",
         "uid": "cf6de4d6-081e-456a-9d8a-a17ad8ffaa6f",
         "x": [
          [
           108.93884528304402
          ]
         ],
         "xaxis": "x5",
         "y": [
          0.5629575760169289
         ],
         "yaxis": "y5"
        },
        {
         "mode": "markers",
         "showlegend": false,
         "type": "scatter",
         "uid": "9469aeb0-a7c9-4d8a-83e8-67252cee74b9",
         "x": [
          [
           108.93884528304402
          ]
         ],
         "xaxis": "x6",
         "y": [
          0.5486839306200055
         ],
         "yaxis": "y6"
        },
        {
         "mode": "markers",
         "showlegend": false,
         "type": "scatter",
         "uid": "6677680a-2bac-47f6-893b-3e431f7c06b1",
         "x": [
          1
         ],
         "xaxis": "x",
         "y": [
          2
         ],
         "yaxis": "y"
        },
        {
         "mode": "markers",
         "showlegend": false,
         "type": "scatter",
         "uid": "32ac301b-4d7e-4cbb-bc47-a7b6b03e90bf",
         "x": [
          [
           110.53625967705267
          ]
         ],
         "xaxis": "x",
         "y": [
          [
           39.50349384741031
          ]
         ],
         "yaxis": "y"
        },
        {
         "mode": "markers",
         "showlegend": false,
         "type": "scatter",
         "uid": "ea12f030-4cd7-4455-960f-64999e547a92",
         "x": [
          [
           110.53625967705267
          ]
         ],
         "xaxis": "x4",
         "y": [
          0
         ],
         "yaxis": "y4"
        },
        {
         "mode": "markers",
         "showlegend": false,
         "type": "scatter",
         "uid": "cb03bc00-7077-4c33-98a3-7629042f857c",
         "x": [
          [
           110.53625967705267
          ]
         ],
         "xaxis": "x5",
         "y": [
          0.7264988922190966
         ],
         "yaxis": "y5"
        },
        {
         "mode": "markers",
         "showlegend": false,
         "type": "scatter",
         "uid": "d26b04a2-b120-4b4d-a09e-65482e8d9ab6",
         "x": [
          [
           110.53625967705267
          ]
         ],
         "xaxis": "x6",
         "y": [
          0
         ],
         "yaxis": "y6"
        },
        {
         "mode": "markers",
         "showlegend": false,
         "type": "scatter",
         "uid": "ea4f13e1-58f2-4cb3-a459-076cc70ace3e",
         "x": [
          1
         ],
         "xaxis": "x",
         "y": [
          2
         ],
         "yaxis": "y"
        },
        {
         "mode": "markers",
         "showlegend": false,
         "type": "scatter",
         "uid": "725ae064-b3cb-4112-bb01-c443a21c85c8",
         "x": [
          [
           110.53626305357832
          ]
         ],
         "xaxis": "x",
         "y": [
          [
           39.50380990944347
          ]
         ],
         "yaxis": "y"
        },
        {
         "mode": "markers",
         "showlegend": false,
         "type": "scatter",
         "uid": "1455b681-910c-4a37-a5bf-955869757fa4",
         "x": [
          [
           110.53626305357832
          ]
         ],
         "xaxis": "x4",
         "y": [
          0.00196927673981382
         ],
         "yaxis": "y4"
        },
        {
         "mode": "markers",
         "showlegend": false,
         "type": "scatter",
         "uid": "2aa490d4-f0b3-4065-9dcf-5347bb1fc323",
         "x": [
          [
           110.53626305357832
          ]
         ],
         "xaxis": "x5",
         "y": [
          0.7264522577087836
         ],
         "yaxis": "y5"
        },
        {
         "mode": "markers",
         "showlegend": false,
         "type": "scatter",
         "uid": "45835be0-1d25-4d52-8612-7657cf5b4361",
         "x": [
          [
           110.53626305357832
          ]
         ],
         "xaxis": "x6",
         "y": [
          0
         ],
         "yaxis": "y6"
        },
        {
         "mode": "markers",
         "showlegend": false,
         "type": "scatter",
         "uid": "70380d7b-b7bb-4fde-8383-3ccd03f1a7ee",
         "x": [
          1
         ],
         "xaxis": "x",
         "y": [
          2
         ],
         "yaxis": "y"
        },
        {
         "mode": "markers",
         "showlegend": false,
         "type": "scatter",
         "uid": "62d48297-b7a1-415b-af5b-507aef20d490",
         "x": [
          [
           108.93884702001263
          ]
         ],
         "xaxis": "x",
         "y": [
          [
           33.64231665923717
          ]
         ],
         "yaxis": "y"
        },
        {
         "mode": "markers",
         "showlegend": false,
         "type": "scatter",
         "uid": "008006f8-c114-4e29-a6ec-43c7e4b44c90",
         "x": [
          [
           108.93884702001263
          ]
         ],
         "xaxis": "x4",
         "y": [
          0.9977669530887189
         ],
         "yaxis": "y4"
        },
        {
         "mode": "markers",
         "showlegend": false,
         "type": "scatter",
         "uid": "daf1e37f-1bfd-48b6-ae25-e201a63c53f1",
         "x": [
          [
           108.93884702001263
          ]
         ],
         "xaxis": "x5",
         "y": [
          0.6518987352336586
         ],
         "yaxis": "y5"
        },
        {
         "mode": "markers",
         "showlegend": false,
         "type": "scatter",
         "uid": "7c354092-6c01-4191-a07c-a5693b8e97b0",
         "x": [
          [
           108.93884702001263
          ]
         ],
         "xaxis": "x6",
         "y": [
          0.5694719531023168
         ],
         "yaxis": "y6"
        },
        {
         "mode": "markers",
         "showlegend": false,
         "type": "scatter",
         "uid": "5d9f9d21-fd30-4961-8d9e-af770e04a9f1",
         "x": [
          1
         ],
         "xaxis": "x",
         "y": [
          2
         ],
         "yaxis": "y"
        },
        {
         "mode": "markers",
         "showlegend": false,
         "type": "scatter",
         "uid": "74269335-55b4-4baa-b2c4-316b72c29b2b",
         "x": [
          [
           108.93884528304402
          ]
         ],
         "xaxis": "x",
         "y": [
          [
           39.50349044505373
          ]
         ],
         "yaxis": "y"
        },
        {
         "mode": "markers",
         "showlegend": false,
         "type": "scatter",
         "uid": "92c95354-2dca-4526-b912-29d587166ee4",
         "x": [
          [
           108.93884528304402
          ]
         ],
         "xaxis": "x4",
         "y": [
          0.9953637170365479
         ],
         "yaxis": "y4"
        },
        {
         "mode": "markers",
         "showlegend": false,
         "type": "scatter",
         "uid": "5c923170-1fd6-4e36-9bb0-b59cbb306b97",
         "x": [
          [
           108.93884528304402
          ]
         ],
         "xaxis": "x5",
         "y": [
          0.5629575760169289
         ],
         "yaxis": "y5"
        },
        {
         "mode": "markers",
         "showlegend": false,
         "type": "scatter",
         "uid": "4fecc976-c817-4a7f-9f38-dd275c28dc04",
         "x": [
          [
           108.93884528304402
          ]
         ],
         "xaxis": "x6",
         "y": [
          0.5486839306200055
         ],
         "yaxis": "y6"
        },
        {
         "mode": "markers",
         "showlegend": false,
         "type": "scatter",
         "uid": "3ceedb9e-aa63-4668-af45-2f2bba02fac4",
         "x": [
          1
         ],
         "xaxis": "x",
         "y": [
          2
         ],
         "yaxis": "y"
        },
        {
         "mode": "markers",
         "showlegend": false,
         "type": "scatter",
         "uid": "352555a7-3991-4702-a654-1cae9e2c22d4",
         "x": [
          [
           110.53625967705267
          ]
         ],
         "xaxis": "x",
         "y": [
          [
           39.50349384741031
          ]
         ],
         "yaxis": "y"
        },
        {
         "mode": "markers",
         "showlegend": false,
         "type": "scatter",
         "uid": "1bf24856-ab69-4fc9-8eef-ba91835f4287",
         "x": [
          [
           110.53625967705267
          ]
         ],
         "xaxis": "x4",
         "y": [
          0
         ],
         "yaxis": "y4"
        },
        {
         "mode": "markers",
         "showlegend": false,
         "type": "scatter",
         "uid": "4d1484c6-185d-4bf2-99b0-68542b93eb52",
         "x": [
          [
           110.53625967705267
          ]
         ],
         "xaxis": "x5",
         "y": [
          0.7264988922190966
         ],
         "yaxis": "y5"
        },
        {
         "mode": "markers",
         "showlegend": false,
         "type": "scatter",
         "uid": "b6546475-ef45-4f32-b1cb-81b930285d2a",
         "x": [
          [
           110.53625967705267
          ]
         ],
         "xaxis": "x6",
         "y": [
          0
         ],
         "yaxis": "y6"
        },
        {
         "mode": "markers",
         "showlegend": false,
         "type": "scatter",
         "uid": "6e481ed5-c469-495b-bf36-0ad05ebe5ec4",
         "x": [
          1
         ],
         "xaxis": "x",
         "y": [
          2
         ],
         "yaxis": "y"
        },
        {
         "mode": "markers",
         "showlegend": false,
         "type": "scatter",
         "uid": "4f669421-51db-4f8d-8a69-605a000ad37c",
         "x": [
          [
           110.53626305357832
          ]
         ],
         "xaxis": "x",
         "y": [
          [
           39.50380990944347
          ]
         ],
         "yaxis": "y"
        },
        {
         "mode": "markers",
         "showlegend": false,
         "type": "scatter",
         "uid": "c8b343bd-6cc1-4230-acf3-6797a1669df7",
         "x": [
          [
           110.53626305357832
          ]
         ],
         "xaxis": "x4",
         "y": [
          0.00196927673981382
         ],
         "yaxis": "y4"
        },
        {
         "mode": "markers",
         "showlegend": false,
         "type": "scatter",
         "uid": "19f6a086-b7a1-4a66-a6f3-8c825217111f",
         "x": [
          [
           110.53626305357832
          ]
         ],
         "xaxis": "x5",
         "y": [
          0.7264522577087836
         ],
         "yaxis": "y5"
        },
        {
         "mode": "markers",
         "showlegend": false,
         "type": "scatter",
         "uid": "d13a1b98-d03e-4825-bcbc-10e0409aa08b",
         "x": [
          [
           110.53626305357832
          ]
         ],
         "xaxis": "x6",
         "y": [
          0
         ],
         "yaxis": "y6"
        },
        {
         "mode": "markers",
         "type": "scatter",
         "uid": "24f20a15-8d10-4221-a844-4fb45b22413b",
         "x": [
          1
         ],
         "xaxis": "x",
         "y": [
          2
         ],
         "yaxis": "y"
        },
        {
         "mode": "markers",
         "showlegend": false,
         "type": "scatter",
         "uid": "a0e11808-63c1-494b-b31d-4b095361cfbd",
         "x": [
          [
           108.93884702001263
          ]
         ],
         "xaxis": "x",
         "y": [
          [
           33.64231665923717
          ]
         ],
         "yaxis": "y"
        },
        {
         "mode": "markers",
         "showlegend": false,
         "type": "scatter",
         "uid": "f9696e5e-5de0-4ece-a45b-f040707b06c7",
         "x": [
          [
           108.93884702001263
          ]
         ],
         "xaxis": "x4",
         "y": [
          0.9977669530887189
         ],
         "yaxis": "y4"
        },
        {
         "mode": "markers",
         "showlegend": false,
         "type": "scatter",
         "uid": "3367c2e0-bcaa-4dfb-a31a-02061b018cb5",
         "x": [
          [
           108.93884702001263
          ]
         ],
         "xaxis": "x5",
         "y": [
          0.6518987352336586
         ],
         "yaxis": "y5"
        },
        {
         "mode": "markers",
         "showlegend": false,
         "type": "scatter",
         "uid": "21aad8ce-4b18-47d0-9027-6b606f93deb3",
         "x": [
          [
           108.93884702001263
          ]
         ],
         "xaxis": "x6",
         "y": [
          0.5694719531023168
         ],
         "yaxis": "y6"
        },
        {
         "mode": "markers",
         "type": "scatter",
         "uid": "4552614f-7c3a-4d89-b6bd-671d56c8c737",
         "x": [
          1
         ],
         "xaxis": "x",
         "y": [
          2
         ],
         "yaxis": "y"
        },
        {
         "mode": "markers",
         "showlegend": false,
         "type": "scatter",
         "uid": "773bf688-f064-4729-a87d-e1fa1b2c42e0",
         "x": [
          [
           108.93884528304402
          ]
         ],
         "xaxis": "x",
         "y": [
          [
           39.50349044505373
          ]
         ],
         "yaxis": "y"
        },
        {
         "mode": "markers",
         "showlegend": false,
         "type": "scatter",
         "uid": "15b49d4b-877a-401c-b05a-173affb19151",
         "x": [
          [
           108.93884528304402
          ]
         ],
         "xaxis": "x4",
         "y": [
          0.9953637170365479
         ],
         "yaxis": "y4"
        },
        {
         "mode": "markers",
         "showlegend": false,
         "type": "scatter",
         "uid": "c15c5eea-92c2-4d74-83bc-57c053c5823e",
         "x": [
          [
           108.93884528304402
          ]
         ],
         "xaxis": "x5",
         "y": [
          0.5629575760169289
         ],
         "yaxis": "y5"
        },
        {
         "mode": "markers",
         "showlegend": false,
         "type": "scatter",
         "uid": "9a3654c4-8a90-48bc-82f0-8998744cf4d8",
         "x": [
          [
           108.93884528304402
          ]
         ],
         "xaxis": "x6",
         "y": [
          0.5486839306200055
         ],
         "yaxis": "y6"
        },
        {
         "mode": "markers",
         "type": "scatter",
         "uid": "1f625e69-e15b-43d3-b3c3-49da2abf35f2",
         "x": [
          1
         ],
         "xaxis": "x",
         "y": [
          2
         ],
         "yaxis": "y"
        },
        {
         "mode": "markers",
         "showlegend": false,
         "type": "scatter",
         "uid": "303d1397-ea48-4ed2-ba9e-2e626a411a07",
         "x": [
          [
           110.53625967705267
          ]
         ],
         "xaxis": "x",
         "y": [
          [
           39.50349384741031
          ]
         ],
         "yaxis": "y"
        },
        {
         "mode": "markers",
         "showlegend": false,
         "type": "scatter",
         "uid": "2515a407-5c75-4482-a448-0905614c4ee4",
         "x": [
          [
           110.53625967705267
          ]
         ],
         "xaxis": "x4",
         "y": [
          0
         ],
         "yaxis": "y4"
        },
        {
         "mode": "markers",
         "showlegend": false,
         "type": "scatter",
         "uid": "e2bfb7fd-6be8-430b-a74f-d679ac74d6f4",
         "x": [
          [
           110.53625967705267
          ]
         ],
         "xaxis": "x5",
         "y": [
          0.7264988922190966
         ],
         "yaxis": "y5"
        },
        {
         "mode": "markers",
         "showlegend": false,
         "type": "scatter",
         "uid": "dd5e2a2a-9e41-46e9-b574-5fa3de07d499",
         "x": [
          [
           110.53625967705267
          ]
         ],
         "xaxis": "x6",
         "y": [
          0
         ],
         "yaxis": "y6"
        },
        {
         "mode": "markers",
         "type": "scatter",
         "uid": "e5aa1aa1-0457-4a3c-b4a5-5cd8457661ee",
         "x": [
          1
         ],
         "xaxis": "x",
         "y": [
          2
         ],
         "yaxis": "y"
        },
        {
         "mode": "markers",
         "showlegend": false,
         "type": "scatter",
         "uid": "345be059-5b96-4184-8dbf-f93166debd5e",
         "x": [
          [
           110.53626305357832
          ]
         ],
         "xaxis": "x",
         "y": [
          [
           39.50380990944347
          ]
         ],
         "yaxis": "y"
        },
        {
         "mode": "markers",
         "showlegend": false,
         "type": "scatter",
         "uid": "2d0220fe-7906-4898-8ba8-6062090865ad",
         "x": [
          [
           110.53626305357832
          ]
         ],
         "xaxis": "x4",
         "y": [
          0.00196927673981382
         ],
         "yaxis": "y4"
        },
        {
         "mode": "markers",
         "showlegend": false,
         "type": "scatter",
         "uid": "3b5bcbca-728d-43cb-acf9-48a21a586e4e",
         "x": [
          [
           110.53626305357832
          ]
         ],
         "xaxis": "x5",
         "y": [
          0.7264522577087836
         ],
         "yaxis": "y5"
        },
        {
         "mode": "markers",
         "showlegend": false,
         "type": "scatter",
         "uid": "104a4aac-c5f2-42e8-81b8-3934c8f2ec5c",
         "x": [
          [
           110.53626305357832
          ]
         ],
         "xaxis": "x6",
         "y": [
          0
         ],
         "yaxis": "y6"
        },
        {
         "mode": "markers",
         "type": "scatter",
         "uid": "612a39b3-c20b-45b3-9d0b-65122100b7b1",
         "x": [
          1
         ],
         "xaxis": "x",
         "y": [
          2
         ],
         "yaxis": "y"
        },
        {
         "mode": "markers",
         "showlegend": false,
         "type": "scatter",
         "uid": "fe3f553b-626c-40b7-ab57-2a6977209107",
         "x": [
          [
           108.93884702001263
          ]
         ],
         "xaxis": "x",
         "y": [
          [
           33.64231665923717
          ]
         ],
         "yaxis": "y"
        },
        {
         "mode": "markers",
         "showlegend": false,
         "type": "scatter",
         "uid": "726a7d66-bb72-4f99-93f0-05cd86642d24",
         "x": [
          [
           108.93884702001263
          ]
         ],
         "xaxis": "x4",
         "y": [
          0.9977669530887189
         ],
         "yaxis": "y4"
        },
        {
         "mode": "markers",
         "showlegend": false,
         "type": "scatter",
         "uid": "22e293c2-724f-4638-8cff-315f32abc57b",
         "x": [
          [
           108.93884702001263
          ]
         ],
         "xaxis": "x5",
         "y": [
          0.6518987352336586
         ],
         "yaxis": "y5"
        },
        {
         "mode": "markers",
         "showlegend": false,
         "type": "scatter",
         "uid": "5bb23ba4-96d4-44b9-8f1e-387569f1dab1",
         "x": [
          [
           108.93884702001263
          ]
         ],
         "xaxis": "x6",
         "y": [
          0.5694719531023168
         ],
         "yaxis": "y6"
        },
        {
         "mode": "markers",
         "type": "scatter",
         "uid": "64d22b80-a208-4dc0-a972-5b693a253823",
         "x": [
          1
         ],
         "xaxis": "x",
         "y": [
          2
         ],
         "yaxis": "y"
        },
        {
         "mode": "markers",
         "showlegend": false,
         "type": "scatter",
         "uid": "76105e4d-97ef-46d8-9991-bb5ef8b25d0f",
         "x": [
          [
           108.93884528304402
          ]
         ],
         "xaxis": "x",
         "y": [
          [
           39.50349044505373
          ]
         ],
         "yaxis": "y"
        },
        {
         "mode": "markers",
         "showlegend": false,
         "type": "scatter",
         "uid": "17b3874e-a027-4086-b80e-ff5578150416",
         "x": [
          [
           108.93884528304402
          ]
         ],
         "xaxis": "x4",
         "y": [
          0.9953637170365479
         ],
         "yaxis": "y4"
        },
        {
         "mode": "markers",
         "showlegend": false,
         "type": "scatter",
         "uid": "e00cf493-6d6e-44b1-9249-b09ffeb20f33",
         "x": [
          [
           108.93884528304402
          ]
         ],
         "xaxis": "x5",
         "y": [
          0.5629575760169289
         ],
         "yaxis": "y5"
        },
        {
         "mode": "markers",
         "showlegend": false,
         "type": "scatter",
         "uid": "8fe42665-e7a9-4d70-8d08-15e6bbb796c8",
         "x": [
          [
           108.93884528304402
          ]
         ],
         "xaxis": "x6",
         "y": [
          0.5486839306200055
         ],
         "yaxis": "y6"
        },
        {
         "mode": "markers",
         "type": "scatter",
         "uid": "cce04626-85d6-4abb-a04c-5efdbbbccdc6",
         "x": [
          1
         ],
         "xaxis": "x",
         "y": [
          2
         ],
         "yaxis": "y"
        },
        {
         "mode": "markers",
         "showlegend": false,
         "type": "scatter",
         "uid": "20e39f8e-9940-4611-b841-74de6a94e944",
         "x": [
          [
           110.53625967705267
          ]
         ],
         "xaxis": "x",
         "y": [
          [
           39.50349384741031
          ]
         ],
         "yaxis": "y"
        },
        {
         "mode": "markers",
         "showlegend": false,
         "type": "scatter",
         "uid": "6cec07e1-b783-4623-8180-567b174fa5be",
         "x": [
          [
           110.53625967705267
          ]
         ],
         "xaxis": "x4",
         "y": [
          0
         ],
         "yaxis": "y4"
        },
        {
         "mode": "markers",
         "showlegend": false,
         "type": "scatter",
         "uid": "d47d2cc9-158d-467c-8d2d-f86444e0c172",
         "x": [
          [
           110.53625967705267
          ]
         ],
         "xaxis": "x5",
         "y": [
          0.7264988922190966
         ],
         "yaxis": "y5"
        },
        {
         "mode": "markers",
         "showlegend": false,
         "type": "scatter",
         "uid": "49710a46-7fa0-43cf-8cf0-fbb45964d7fa",
         "x": [
          [
           110.53625967705267
          ]
         ],
         "xaxis": "x6",
         "y": [
          0
         ],
         "yaxis": "y6"
        },
        {
         "mode": "markers",
         "type": "scatter",
         "uid": "3be7b437-cc84-472c-b029-5d1fba5cf511",
         "x": [
          1
         ],
         "xaxis": "x",
         "y": [
          2
         ],
         "yaxis": "y"
        },
        {
         "mode": "markers",
         "showlegend": false,
         "type": "scatter",
         "uid": "7cae2995-6f3e-4e6f-b6d4-b91ace842224",
         "x": [
          [
           110.53626305357832
          ]
         ],
         "xaxis": "x",
         "y": [
          [
           39.50380990944347
          ]
         ],
         "yaxis": "y"
        },
        {
         "mode": "markers",
         "showlegend": false,
         "type": "scatter",
         "uid": "3c42f2c0-7077-466b-a7f0-4c28f1b758d6",
         "x": [
          [
           110.53626305357832
          ]
         ],
         "xaxis": "x4",
         "y": [
          0.00196927673981382
         ],
         "yaxis": "y4"
        },
        {
         "mode": "markers",
         "showlegend": false,
         "type": "scatter",
         "uid": "33e3a70d-e508-46f7-b7a2-231f629ff8e2",
         "x": [
          [
           110.53626305357832
          ]
         ],
         "xaxis": "x5",
         "y": [
          0.7264522577087836
         ],
         "yaxis": "y5"
        },
        {
         "mode": "markers",
         "showlegend": false,
         "type": "scatter",
         "uid": "bb7594c3-2f5a-49fa-942f-79bb5b34c79f",
         "x": [
          [
           110.53626305357832
          ]
         ],
         "xaxis": "x6",
         "y": [
          0
         ],
         "yaxis": "y6"
        },
        {
         "mode": "markers",
         "type": "scatter",
         "uid": "3c2c3b0b-de7d-4bfe-9862-efe898a45259",
         "x": [
          1
         ],
         "xaxis": "x",
         "y": [
          2
         ],
         "yaxis": "y"
        },
        {
         "mode": "markers",
         "showlegend": false,
         "type": "scatter",
         "uid": "38534ed1-ac26-4fd8-8f3c-761d3d1aacbe",
         "x": [
          [
           108.93884702001263
          ]
         ],
         "xaxis": "x",
         "y": [
          [
           33.64231665923717
          ]
         ],
         "yaxis": "y"
        },
        {
         "mode": "markers",
         "showlegend": false,
         "type": "scatter",
         "uid": "17459f86-6d8b-4617-b79a-ff202503fe9a",
         "x": [
          [
           108.93884702001263
          ]
         ],
         "xaxis": "x4",
         "y": [
          0.9977669530887189
         ],
         "yaxis": "y4"
        },
        {
         "mode": "markers",
         "showlegend": false,
         "type": "scatter",
         "uid": "f435a998-2c30-4b36-bbd4-a4bcb7822b01",
         "x": [
          [
           108.93884702001263
          ]
         ],
         "xaxis": "x5",
         "y": [
          0.6518987352336586
         ],
         "yaxis": "y5"
        },
        {
         "mode": "markers",
         "showlegend": false,
         "type": "scatter",
         "uid": "64355621-c322-475f-9e0e-a4131d651fd3",
         "x": [
          [
           108.93884702001263
          ]
         ],
         "xaxis": "x6",
         "y": [
          0.5694719531023168
         ],
         "yaxis": "y6"
        },
        {
         "mode": "markers",
         "type": "scatter",
         "uid": "0681642b-a061-4a27-af38-56e89407ecf3",
         "x": [
          1
         ],
         "xaxis": "x",
         "y": [
          2
         ],
         "yaxis": "y"
        },
        {
         "mode": "markers",
         "showlegend": false,
         "type": "scatter",
         "uid": "da031d4f-a8b4-4981-b177-b0780c836f5d",
         "x": [
          [
           108.93884528304402
          ]
         ],
         "xaxis": "x",
         "y": [
          [
           39.50349044505373
          ]
         ],
         "yaxis": "y"
        },
        {
         "mode": "markers",
         "showlegend": false,
         "type": "scatter",
         "uid": "4bfd78e6-23d0-4b19-a848-b656f65b798f",
         "x": [
          [
           108.93884528304402
          ]
         ],
         "xaxis": "x4",
         "y": [
          0.9953637170365479
         ],
         "yaxis": "y4"
        },
        {
         "mode": "markers",
         "showlegend": false,
         "type": "scatter",
         "uid": "d4a4a94e-a14b-45dc-9697-668402efdca0",
         "x": [
          [
           108.93884528304402
          ]
         ],
         "xaxis": "x5",
         "y": [
          0.5629575760169289
         ],
         "yaxis": "y5"
        },
        {
         "mode": "markers",
         "showlegend": false,
         "type": "scatter",
         "uid": "e79c8818-c631-4b9c-a6f5-b1f0390037fb",
         "x": [
          [
           108.93884528304402
          ]
         ],
         "xaxis": "x6",
         "y": [
          0.5486839306200055
         ],
         "yaxis": "y6"
        },
        {
         "mode": "markers",
         "type": "scatter",
         "uid": "1a66218f-8331-40a4-be7b-b393b454cca0",
         "x": [
          1
         ],
         "xaxis": "x",
         "y": [
          2
         ],
         "yaxis": "y"
        },
        {
         "mode": "markers",
         "showlegend": false,
         "type": "scatter",
         "uid": "4d438a4d-2527-4e3a-aa5f-f5cf7f672c30",
         "x": [
          [
           110.53625967705267
          ]
         ],
         "xaxis": "x",
         "y": [
          [
           39.50349384741031
          ]
         ],
         "yaxis": "y"
        },
        {
         "mode": "markers",
         "showlegend": false,
         "type": "scatter",
         "uid": "2d0e75a4-6d1d-47b5-b883-92af8f59875a",
         "x": [
          [
           110.53625967705267
          ]
         ],
         "xaxis": "x4",
         "y": [
          0
         ],
         "yaxis": "y4"
        },
        {
         "mode": "markers",
         "showlegend": false,
         "type": "scatter",
         "uid": "34ee2a56-bb31-46e4-bf16-2ca0bec73d07",
         "x": [
          [
           110.53625967705267
          ]
         ],
         "xaxis": "x5",
         "y": [
          0.7264988922190966
         ],
         "yaxis": "y5"
        },
        {
         "mode": "markers",
         "showlegend": false,
         "type": "scatter",
         "uid": "a9e5e3b7-0d61-4a80-8980-8c371f347357",
         "x": [
          [
           110.53625967705267
          ]
         ],
         "xaxis": "x6",
         "y": [
          0
         ],
         "yaxis": "y6"
        },
        {
         "mode": "markers",
         "type": "scatter",
         "uid": "ead15cc3-b880-4135-903a-274e726491ee",
         "x": [
          1
         ],
         "xaxis": "x",
         "y": [
          2
         ],
         "yaxis": "y"
        },
        {
         "mode": "markers",
         "showlegend": false,
         "type": "scatter",
         "uid": "8e93a79f-44a1-4834-8fad-598d982932f0",
         "x": [
          [
           110.53626305357832
          ]
         ],
         "xaxis": "x",
         "y": [
          [
           39.50380990944347
          ]
         ],
         "yaxis": "y"
        },
        {
         "mode": "markers",
         "showlegend": false,
         "type": "scatter",
         "uid": "19a73d07-819d-477e-b3ca-717549433728",
         "x": [
          [
           110.53626305357832
          ]
         ],
         "xaxis": "x4",
         "y": [
          0.00196927673981382
         ],
         "yaxis": "y4"
        },
        {
         "mode": "markers",
         "showlegend": false,
         "type": "scatter",
         "uid": "77fff692-8016-4c21-8f44-10e8c5aadc63",
         "x": [
          [
           110.53626305357832
          ]
         ],
         "xaxis": "x5",
         "y": [
          0.7264522577087836
         ],
         "yaxis": "y5"
        },
        {
         "mode": "markers",
         "showlegend": false,
         "type": "scatter",
         "uid": "a164c78a-9fec-4f00-b5da-48c5b5748c11",
         "x": [
          [
           110.53626305357832
          ]
         ],
         "xaxis": "x6",
         "y": [
          0
         ],
         "yaxis": "y6"
        },
        {
         "mode": "markers",
         "type": "scatter",
         "uid": "330917e4-b441-4ceb-bfee-2b4997d7f235",
         "x": [
          1
         ],
         "xaxis": "x",
         "y": [
          2
         ],
         "yaxis": "y"
        },
        {
         "mode": "markers",
         "showlegend": false,
         "type": "scatter",
         "uid": "b997999f-5dba-42e2-87c7-a66a4d5d8bef",
         "x": [
          [
           108.93884702001263
          ]
         ],
         "xaxis": "x",
         "y": [
          [
           33.64231665923717
          ]
         ],
         "yaxis": "y"
        },
        {
         "mode": "markers",
         "showlegend": false,
         "type": "scatter",
         "uid": "ba0a6de3-156c-4554-a309-9e36a5b058e6",
         "x": [
          [
           108.93884702001263
          ]
         ],
         "xaxis": "x4",
         "y": [
          0.9977669530887189
         ],
         "yaxis": "y4"
        },
        {
         "mode": "markers",
         "showlegend": false,
         "type": "scatter",
         "uid": "91053e9d-e168-4191-b7fc-0fdfa869f80d",
         "x": [
          [
           [
            108.93884702001263
           ]
          ]
         ],
         "xaxis": "x5",
         "y": [
          0.6518987352336586
         ],
         "yaxis": "y5"
        },
        {
         "mode": "markers",
         "showlegend": false,
         "type": "scatter",
         "uid": "b87a4b3d-7474-4112-81db-222e9643b3db",
         "x": [
          [
           108.93884702001263
          ]
         ],
         "xaxis": "x6",
         "y": [
          0.5694719531023168
         ],
         "yaxis": "y6"
        },
        {
         "mode": "markers",
         "type": "scatter",
         "uid": "388e00df-7ace-428d-8789-c9e434e624f2",
         "x": [
          1
         ],
         "xaxis": "x",
         "y": [
          2
         ],
         "yaxis": "y"
        },
        {
         "mode": "markers",
         "showlegend": false,
         "type": "scatter",
         "uid": "49b80c22-6267-47a1-b9bf-ece65c34a500",
         "x": [
          [
           108.93884528304402
          ]
         ],
         "xaxis": "x",
         "y": [
          [
           39.50349044505373
          ]
         ],
         "yaxis": "y"
        },
        {
         "mode": "markers",
         "showlegend": false,
         "type": "scatter",
         "uid": "d685c2ad-30ef-4266-9641-6e5b8321b594",
         "x": [
          [
           108.93884528304402
          ]
         ],
         "xaxis": "x4",
         "y": [
          0.9953637170365479
         ],
         "yaxis": "y4"
        },
        {
         "mode": "markers",
         "showlegend": false,
         "type": "scatter",
         "uid": "ef192c34-9f50-471e-af89-0963abb4212b",
         "x": [
          [
           [
            108.93884528304402
           ]
          ]
         ],
         "xaxis": "x5",
         "y": [
          0.5629575760169289
         ],
         "yaxis": "y5"
        },
        {
         "mode": "markers",
         "showlegend": false,
         "type": "scatter",
         "uid": "7d1271f1-972b-4903-97b5-e7c472f322c1",
         "x": [
          [
           108.93884528304402
          ]
         ],
         "xaxis": "x6",
         "y": [
          0.5486839306200055
         ],
         "yaxis": "y6"
        },
        {
         "mode": "markers",
         "type": "scatter",
         "uid": "1ec96ef6-2cdf-47cf-9b66-a21ec8476878",
         "x": [
          1
         ],
         "xaxis": "x",
         "y": [
          2
         ],
         "yaxis": "y"
        },
        {
         "mode": "markers",
         "showlegend": false,
         "type": "scatter",
         "uid": "fd198cc8-3624-4af1-ae2e-068dca6f81cb",
         "x": [
          [
           110.53625967705267
          ]
         ],
         "xaxis": "x",
         "y": [
          [
           39.50349384741031
          ]
         ],
         "yaxis": "y"
        },
        {
         "mode": "markers",
         "showlegend": false,
         "type": "scatter",
         "uid": "7346a7eb-d86c-47ca-aecb-33cf357ebaa1",
         "x": [
          [
           110.53625967705267
          ]
         ],
         "xaxis": "x4",
         "y": [
          0
         ],
         "yaxis": "y4"
        },
        {
         "mode": "markers",
         "showlegend": false,
         "type": "scatter",
         "uid": "fc2ea1bb-a1ef-4ca1-8f79-e6023e17af41",
         "x": [
          [
           [
            110.53625967705267
           ]
          ]
         ],
         "xaxis": "x5",
         "y": [
          0.7264988922190966
         ],
         "yaxis": "y5"
        },
        {
         "mode": "markers",
         "showlegend": false,
         "type": "scatter",
         "uid": "881abd9a-d8d4-49d3-b1c7-1c3b79d973ac",
         "x": [
          [
           110.53625967705267
          ]
         ],
         "xaxis": "x6",
         "y": [
          0
         ],
         "yaxis": "y6"
        },
        {
         "mode": "markers",
         "type": "scatter",
         "uid": "386eed7c-282a-4c35-8a01-a0eb996a481c",
         "x": [
          1
         ],
         "xaxis": "x",
         "y": [
          2
         ],
         "yaxis": "y"
        },
        {
         "mode": "markers",
         "showlegend": false,
         "type": "scatter",
         "uid": "b5d69b69-3215-4b9e-af8f-be1613231bc9",
         "x": [
          [
           110.53626305357832
          ]
         ],
         "xaxis": "x",
         "y": [
          [
           39.50380990944347
          ]
         ],
         "yaxis": "y"
        },
        {
         "mode": "markers",
         "showlegend": false,
         "type": "scatter",
         "uid": "f5afbd05-85e7-467d-8c02-4e8641a1430c",
         "x": [
          [
           110.53626305357832
          ]
         ],
         "xaxis": "x4",
         "y": [
          0.00196927673981382
         ],
         "yaxis": "y4"
        },
        {
         "mode": "markers",
         "showlegend": false,
         "type": "scatter",
         "uid": "f78fec98-b510-44f9-b1e3-70df8493c797",
         "x": [
          [
           [
            110.53626305357832
           ]
          ]
         ],
         "xaxis": "x5",
         "y": [
          0.7264522577087836
         ],
         "yaxis": "y5"
        },
        {
         "mode": "markers",
         "showlegend": false,
         "type": "scatter",
         "uid": "9129cd43-54a0-4bab-a7b2-4052c4238362",
         "x": [
          [
           110.53626305357832
          ]
         ],
         "xaxis": "x6",
         "y": [
          0
         ],
         "yaxis": "y6"
        },
        {
         "mode": "markers",
         "type": "scatter",
         "uid": "c754638d-eb4e-4536-8ab9-e6e792748b16",
         "x": [
          1
         ],
         "xaxis": "x",
         "y": [
          2
         ],
         "yaxis": "y"
        },
        {
         "mode": "markers",
         "showlegend": false,
         "type": "scatter",
         "uid": "7ff8cc63-68b4-4c8b-95e2-5722e8072930",
         "x": [
          [
           108.93884702001263
          ]
         ],
         "xaxis": "x",
         "y": [
          [
           33.64231665923717
          ]
         ],
         "yaxis": "y"
        },
        {
         "mode": "markers",
         "showlegend": false,
         "type": "scatter",
         "uid": "5f98902c-e5dc-4f37-bf38-98ae568cb1dc",
         "x": [
          [
           108.93884702001263
          ]
         ],
         "xaxis": "x4",
         "y": [
          0.9977669530887189
         ],
         "yaxis": "y4"
        },
        {
         "mode": "markers",
         "type": "scatter",
         "uid": "ac1637a9-6a8c-434d-b0a2-e546b4f063a4",
         "x": [
          [
           [
            108.93884702001263
           ]
          ]
         ],
         "xaxis": "x5",
         "y": [
          0.6518987352336586
         ],
         "yaxis": "y5"
        },
        {
         "mode": "markers",
         "showlegend": false,
         "type": "scatter",
         "uid": "3e6aa904-5a58-4dfd-9247-a2ff1d46a39d",
         "x": [
          [
           108.93884702001263
          ]
         ],
         "xaxis": "x6",
         "y": [
          0.5694719531023168
         ],
         "yaxis": "y6"
        },
        {
         "mode": "markers",
         "type": "scatter",
         "uid": "3a9c22ad-1055-4652-8cbe-bb05a46925be",
         "x": [
          1
         ],
         "xaxis": "x",
         "y": [
          2
         ],
         "yaxis": "y"
        },
        {
         "mode": "markers",
         "showlegend": false,
         "type": "scatter",
         "uid": "c5d6e6d6-d9c1-47f9-85a8-2f2fffa0523a",
         "x": [
          [
           108.93884528304402
          ]
         ],
         "xaxis": "x",
         "y": [
          [
           39.50349044505373
          ]
         ],
         "yaxis": "y"
        },
        {
         "mode": "markers",
         "showlegend": false,
         "type": "scatter",
         "uid": "d4db41e0-92c5-4530-bdcc-8b5c23bdadec",
         "x": [
          [
           108.93884528304402
          ]
         ],
         "xaxis": "x4",
         "y": [
          0.9953637170365479
         ],
         "yaxis": "y4"
        },
        {
         "mode": "markers",
         "type": "scatter",
         "uid": "0354b284-6059-46f9-9466-c9b48c2f9b2a",
         "x": [
          [
           [
            108.93884528304402
           ]
          ]
         ],
         "xaxis": "x5",
         "y": [
          0.5629575760169289
         ],
         "yaxis": "y5"
        },
        {
         "mode": "markers",
         "showlegend": false,
         "type": "scatter",
         "uid": "3cca166e-bb9a-4d1c-a3a5-0068e44fce9d",
         "x": [
          [
           108.93884528304402
          ]
         ],
         "xaxis": "x6",
         "y": [
          0.5486839306200055
         ],
         "yaxis": "y6"
        },
        {
         "mode": "markers",
         "type": "scatter",
         "uid": "7ff6f767-c8ca-46e8-9a92-7d34a33b2e0c",
         "x": [
          1
         ],
         "xaxis": "x",
         "y": [
          2
         ],
         "yaxis": "y"
        },
        {
         "mode": "markers",
         "showlegend": false,
         "type": "scatter",
         "uid": "2a74f0e9-d72a-458c-9013-a7b6ea9d49d5",
         "x": [
          [
           110.53625967705267
          ]
         ],
         "xaxis": "x",
         "y": [
          [
           39.50349384741031
          ]
         ],
         "yaxis": "y"
        },
        {
         "mode": "markers",
         "showlegend": false,
         "type": "scatter",
         "uid": "e3aef428-609b-4965-886e-88915dfe871a",
         "x": [
          [
           110.53625967705267
          ]
         ],
         "xaxis": "x4",
         "y": [
          0
         ],
         "yaxis": "y4"
        },
        {
         "mode": "markers",
         "type": "scatter",
         "uid": "f4180b0d-7e08-46d8-8f19-bc6b10a33fe5",
         "x": [
          [
           [
            110.53625967705267
           ]
          ]
         ],
         "xaxis": "x5",
         "y": [
          0.7264988922190966
         ],
         "yaxis": "y5"
        },
        {
         "mode": "markers",
         "showlegend": false,
         "type": "scatter",
         "uid": "33920a31-139d-46a5-a4e8-075bfa61f43c",
         "x": [
          [
           110.53625967705267
          ]
         ],
         "xaxis": "x6",
         "y": [
          0
         ],
         "yaxis": "y6"
        },
        {
         "mode": "markers",
         "type": "scatter",
         "uid": "5233e1a2-755b-45b4-969e-20386ce84784",
         "x": [
          1
         ],
         "xaxis": "x",
         "y": [
          2
         ],
         "yaxis": "y"
        },
        {
         "mode": "markers",
         "showlegend": false,
         "type": "scatter",
         "uid": "3aea0110-0953-41f7-93b6-ec8db627a17e",
         "x": [
          [
           110.53626305357832
          ]
         ],
         "xaxis": "x",
         "y": [
          [
           39.50380990944347
          ]
         ],
         "yaxis": "y"
        },
        {
         "mode": "markers",
         "showlegend": false,
         "type": "scatter",
         "uid": "5b7a488c-13c2-4577-aa37-a7c46db42bbc",
         "x": [
          [
           110.53626305357832
          ]
         ],
         "xaxis": "x4",
         "y": [
          0.00196927673981382
         ],
         "yaxis": "y4"
        },
        {
         "mode": "markers",
         "type": "scatter",
         "uid": "55c51cc9-47c3-4a76-831a-fde31383396e",
         "x": [
          [
           [
            110.53626305357832
           ]
          ]
         ],
         "xaxis": "x5",
         "y": [
          0.7264522577087836
         ],
         "yaxis": "y5"
        },
        {
         "mode": "markers",
         "showlegend": false,
         "type": "scatter",
         "uid": "80878c06-e282-497a-8e2c-bb3e7841a6db",
         "x": [
          [
           110.53626305357832
          ]
         ],
         "xaxis": "x6",
         "y": [
          0
         ],
         "yaxis": "y6"
        },
        {
         "mode": "markers",
         "type": "scatter",
         "uid": "639e24b4-0fdc-41e9-b0dd-15d4b4fb5183",
         "x": [
          1
         ],
         "xaxis": "x",
         "y": [
          2
         ],
         "yaxis": "y"
        },
        {
         "mode": "markers",
         "showlegend": false,
         "type": "scatter",
         "uid": "3a8f73e8-35d6-456e-a7ba-6ac50398ed6a",
         "x": [
          [
           108.93884702001263
          ]
         ],
         "xaxis": "x",
         "y": [
          [
           33.64231665923717
          ]
         ],
         "yaxis": "y"
        },
        {
         "mode": "markers",
         "showlegend": false,
         "type": "scatter",
         "uid": "4faa79f4-af2a-4fa5-9646-c8d60f43d269",
         "x": [
          [
           108.93884702001263
          ]
         ],
         "xaxis": "x4",
         "y": [
          0.9977669530887189
         ],
         "yaxis": "y4"
        },
        {
         "mode": "markers",
         "type": "scatter",
         "uid": "3f116603-7757-4908-98f0-a33e2e0cf431",
         "x": [
          [
           108.93884702001263
          ]
         ],
         "xaxis": "x5",
         "y": [
          0.6518987352336586
         ],
         "yaxis": "y5"
        },
        {
         "mode": "markers",
         "showlegend": false,
         "type": "scatter",
         "uid": "eeb1a23d-94e8-4cef-8a0c-92156cee7ba3",
         "x": [
          [
           108.93884702001263
          ]
         ],
         "xaxis": "x6",
         "y": [
          0.5694719531023168
         ],
         "yaxis": "y6"
        },
        {
         "mode": "markers",
         "type": "scatter",
         "uid": "7bfbc4fa-338c-4d32-83c6-cec5320d1bb7",
         "x": [
          1
         ],
         "xaxis": "x",
         "y": [
          2
         ],
         "yaxis": "y"
        },
        {
         "mode": "markers",
         "showlegend": false,
         "type": "scatter",
         "uid": "33038976-b51a-4182-937f-b98f81361ed8",
         "x": [
          [
           108.93884528304402
          ]
         ],
         "xaxis": "x",
         "y": [
          [
           39.50349044505373
          ]
         ],
         "yaxis": "y"
        },
        {
         "mode": "markers",
         "showlegend": false,
         "type": "scatter",
         "uid": "7978402c-6a58-44b3-bd40-23b72f9abb15",
         "x": [
          [
           108.93884528304402
          ]
         ],
         "xaxis": "x4",
         "y": [
          0.9953637170365479
         ],
         "yaxis": "y4"
        },
        {
         "mode": "markers",
         "type": "scatter",
         "uid": "2b996528-eac5-4103-b1be-73383ebb6198",
         "x": [
          [
           108.93884528304402
          ]
         ],
         "xaxis": "x5",
         "y": [
          0.5629575760169289
         ],
         "yaxis": "y5"
        },
        {
         "mode": "markers",
         "showlegend": false,
         "type": "scatter",
         "uid": "3dc361bd-e6a8-41c6-b7fb-6df2c5bbe2dd",
         "x": [
          [
           108.93884528304402
          ]
         ],
         "xaxis": "x6",
         "y": [
          0.5486839306200055
         ],
         "yaxis": "y6"
        },
        {
         "mode": "markers",
         "type": "scatter",
         "uid": "b74695b4-1a2b-475c-be89-09a8f22d6a8d",
         "x": [
          1
         ],
         "xaxis": "x",
         "y": [
          2
         ],
         "yaxis": "y"
        },
        {
         "mode": "markers",
         "showlegend": false,
         "type": "scatter",
         "uid": "037bd8eb-7c79-4d9e-b650-6522c52d31df",
         "x": [
          [
           110.53625967705267
          ]
         ],
         "xaxis": "x",
         "y": [
          [
           39.50349384741031
          ]
         ],
         "yaxis": "y"
        },
        {
         "mode": "markers",
         "showlegend": false,
         "type": "scatter",
         "uid": "f436011d-c904-4648-a425-dd8cb4893343",
         "x": [
          [
           110.53625967705267
          ]
         ],
         "xaxis": "x4",
         "y": [
          0
         ],
         "yaxis": "y4"
        },
        {
         "mode": "markers",
         "type": "scatter",
         "uid": "d69824d8-0cb3-4660-a6ee-cd297ec326ac",
         "x": [
          [
           110.53625967705267
          ]
         ],
         "xaxis": "x5",
         "y": [
          0.7264988922190966
         ],
         "yaxis": "y5"
        },
        {
         "mode": "markers",
         "showlegend": false,
         "type": "scatter",
         "uid": "4836b148-c2df-4b77-b199-1e6d84f9ab7a",
         "x": [
          [
           110.53625967705267
          ]
         ],
         "xaxis": "x6",
         "y": [
          0
         ],
         "yaxis": "y6"
        },
        {
         "mode": "markers",
         "type": "scatter",
         "uid": "5c7af27c-3210-4026-aba2-3d4ab0c45443",
         "x": [
          1
         ],
         "xaxis": "x",
         "y": [
          2
         ],
         "yaxis": "y"
        },
        {
         "mode": "markers",
         "showlegend": false,
         "type": "scatter",
         "uid": "97422967-0f2b-468f-9c4e-82b71b7b35d9",
         "x": [
          [
           110.53626305357832
          ]
         ],
         "xaxis": "x",
         "y": [
          [
           39.50380990944347
          ]
         ],
         "yaxis": "y"
        },
        {
         "mode": "markers",
         "showlegend": false,
         "type": "scatter",
         "uid": "aa42c6a4-2b9d-447c-817f-410f4b3db314",
         "x": [
          [
           110.53626305357832
          ]
         ],
         "xaxis": "x4",
         "y": [
          0.00196927673981382
         ],
         "yaxis": "y4"
        },
        {
         "mode": "markers",
         "type": "scatter",
         "uid": "b83d2482-f35d-40be-b0c7-07a9ef937a5f",
         "x": [
          [
           110.53626305357832
          ]
         ],
         "xaxis": "x5",
         "y": [
          0.7264522577087836
         ],
         "yaxis": "y5"
        },
        {
         "mode": "markers",
         "showlegend": false,
         "type": "scatter",
         "uid": "170d23d1-508b-4759-82b5-cfc63614429f",
         "x": [
          [
           110.53626305357832
          ]
         ],
         "xaxis": "x6",
         "y": [
          0
         ],
         "yaxis": "y6"
        },
        {
         "mode": "markers",
         "type": "scatter",
         "uid": "ace971f9-c36a-4595-8d72-2fde33460ae9",
         "x": [
          1
         ],
         "xaxis": "x",
         "y": [
          2
         ],
         "yaxis": "y"
        },
        {
         "mode": "markers",
         "showlegend": false,
         "type": "scatter",
         "uid": "e8682f2e-a1b4-4e13-9a90-e2a82add93f3",
         "x": [
          [
           108.93884702001263
          ]
         ],
         "xaxis": "x",
         "y": [
          [
           33.64231665923717
          ]
         ],
         "yaxis": "y"
        },
        {
         "mode": "markers",
         "showlegend": false,
         "type": "scatter",
         "uid": "2b650333-b300-42b7-97f8-6f00de3f65db",
         "x": [
          [
           108.93884702001263
          ]
         ],
         "xaxis": "x4",
         "y": [
          0.9977669530887189
         ],
         "yaxis": "y4"
        },
        {
         "mode": "markers",
         "showlegend": false,
         "type": "scatter",
         "uid": "ce61ff40-8586-4462-9230-9fee7be4344e",
         "x": [
          108.93884702001263
         ],
         "xaxis": "x4",
         "y": [
          0.9977669530887189
         ],
         "yaxis": "y4"
        }
       ],
       "layout": {
        "autosize": true,
        "template": {
         "data": {
          "bar": [
           {
            "error_x": {
             "color": "#2a3f5f"
            },
            "error_y": {
             "color": "#2a3f5f"
            },
            "marker": {
             "line": {
              "color": "#E5ECF6",
              "width": 0.5
             }
            },
            "type": "bar"
           }
          ],
          "barpolar": [
           {
            "marker": {
             "line": {
              "color": "#E5ECF6",
              "width": 0.5
             }
            },
            "type": "barpolar"
           }
          ],
          "carpet": [
           {
            "aaxis": {
             "endlinecolor": "#2a3f5f",
             "gridcolor": "white",
             "linecolor": "white",
             "minorgridcolor": "white",
             "startlinecolor": "#2a3f5f"
            },
            "baxis": {
             "endlinecolor": "#2a3f5f",
             "gridcolor": "white",
             "linecolor": "white",
             "minorgridcolor": "white",
             "startlinecolor": "#2a3f5f"
            },
            "type": "carpet"
           }
          ],
          "choropleth": [
           {
            "colorbar": {
             "outlinewidth": 0,
             "ticks": ""
            },
            "type": "choropleth"
           }
          ],
          "contour": [
           {
            "colorbar": {
             "outlinewidth": 0,
             "ticks": ""
            },
            "colorscale": [
             [
              0,
              "#0d0887"
             ],
             [
              0.1111111111111111,
              "#46039f"
             ],
             [
              0.2222222222222222,
              "#7201a8"
             ],
             [
              0.3333333333333333,
              "#9c179e"
             ],
             [
              0.4444444444444444,
              "#bd3786"
             ],
             [
              0.5555555555555556,
              "#d8576b"
             ],
             [
              0.6666666666666666,
              "#ed7953"
             ],
             [
              0.7777777777777778,
              "#fb9f3a"
             ],
             [
              0.8888888888888888,
              "#fdca26"
             ],
             [
              1,
              "#f0f921"
             ]
            ],
            "type": "contour"
           }
          ],
          "contourcarpet": [
           {
            "colorbar": {
             "outlinewidth": 0,
             "ticks": ""
            },
            "type": "contourcarpet"
           }
          ],
          "heatmap": [
           {
            "colorbar": {
             "outlinewidth": 0,
             "ticks": ""
            },
            "colorscale": [
             [
              0,
              "#0d0887"
             ],
             [
              0.1111111111111111,
              "#46039f"
             ],
             [
              0.2222222222222222,
              "#7201a8"
             ],
             [
              0.3333333333333333,
              "#9c179e"
             ],
             [
              0.4444444444444444,
              "#bd3786"
             ],
             [
              0.5555555555555556,
              "#d8576b"
             ],
             [
              0.6666666666666666,
              "#ed7953"
             ],
             [
              0.7777777777777778,
              "#fb9f3a"
             ],
             [
              0.8888888888888888,
              "#fdca26"
             ],
             [
              1,
              "#f0f921"
             ]
            ],
            "type": "heatmap"
           }
          ],
          "heatmapgl": [
           {
            "colorbar": {
             "outlinewidth": 0,
             "ticks": ""
            },
            "colorscale": [
             [
              0,
              "#0d0887"
             ],
             [
              0.1111111111111111,
              "#46039f"
             ],
             [
              0.2222222222222222,
              "#7201a8"
             ],
             [
              0.3333333333333333,
              "#9c179e"
             ],
             [
              0.4444444444444444,
              "#bd3786"
             ],
             [
              0.5555555555555556,
              "#d8576b"
             ],
             [
              0.6666666666666666,
              "#ed7953"
             ],
             [
              0.7777777777777778,
              "#fb9f3a"
             ],
             [
              0.8888888888888888,
              "#fdca26"
             ],
             [
              1,
              "#f0f921"
             ]
            ],
            "type": "heatmapgl"
           }
          ],
          "histogram": [
           {
            "marker": {
             "colorbar": {
              "outlinewidth": 0,
              "ticks": ""
             }
            },
            "type": "histogram"
           }
          ],
          "histogram2d": [
           {
            "colorbar": {
             "outlinewidth": 0,
             "ticks": ""
            },
            "colorscale": [
             [
              0,
              "#0d0887"
             ],
             [
              0.1111111111111111,
              "#46039f"
             ],
             [
              0.2222222222222222,
              "#7201a8"
             ],
             [
              0.3333333333333333,
              "#9c179e"
             ],
             [
              0.4444444444444444,
              "#bd3786"
             ],
             [
              0.5555555555555556,
              "#d8576b"
             ],
             [
              0.6666666666666666,
              "#ed7953"
             ],
             [
              0.7777777777777778,
              "#fb9f3a"
             ],
             [
              0.8888888888888888,
              "#fdca26"
             ],
             [
              1,
              "#f0f921"
             ]
            ],
            "type": "histogram2d"
           }
          ],
          "histogram2dcontour": [
           {
            "colorbar": {
             "outlinewidth": 0,
             "ticks": ""
            },
            "colorscale": [
             [
              0,
              "#0d0887"
             ],
             [
              0.1111111111111111,
              "#46039f"
             ],
             [
              0.2222222222222222,
              "#7201a8"
             ],
             [
              0.3333333333333333,
              "#9c179e"
             ],
             [
              0.4444444444444444,
              "#bd3786"
             ],
             [
              0.5555555555555556,
              "#d8576b"
             ],
             [
              0.6666666666666666,
              "#ed7953"
             ],
             [
              0.7777777777777778,
              "#fb9f3a"
             ],
             [
              0.8888888888888888,
              "#fdca26"
             ],
             [
              1,
              "#f0f921"
             ]
            ],
            "type": "histogram2dcontour"
           }
          ],
          "mesh3d": [
           {
            "colorbar": {
             "outlinewidth": 0,
             "ticks": ""
            },
            "type": "mesh3d"
           }
          ],
          "parcoords": [
           {
            "line": {
             "colorbar": {
              "outlinewidth": 0,
              "ticks": ""
             }
            },
            "type": "parcoords"
           }
          ],
          "scatter": [
           {
            "marker": {
             "colorbar": {
              "outlinewidth": 0,
              "ticks": ""
             }
            },
            "type": "scatter"
           }
          ],
          "scatter3d": [
           {
            "line": {
             "colorbar": {
              "outlinewidth": 0,
              "ticks": ""
             }
            },
            "marker": {
             "colorbar": {
              "outlinewidth": 0,
              "ticks": ""
             }
            },
            "type": "scatter3d"
           }
          ],
          "scattercarpet": [
           {
            "marker": {
             "colorbar": {
              "outlinewidth": 0,
              "ticks": ""
             }
            },
            "type": "scattercarpet"
           }
          ],
          "scattergeo": [
           {
            "marker": {
             "colorbar": {
              "outlinewidth": 0,
              "ticks": ""
             }
            },
            "type": "scattergeo"
           }
          ],
          "scattergl": [
           {
            "marker": {
             "colorbar": {
              "outlinewidth": 0,
              "ticks": ""
             }
            },
            "type": "scattergl"
           }
          ],
          "scattermapbox": [
           {
            "marker": {
             "colorbar": {
              "outlinewidth": 0,
              "ticks": ""
             }
            },
            "type": "scattermapbox"
           }
          ],
          "scatterpolar": [
           {
            "marker": {
             "colorbar": {
              "outlinewidth": 0,
              "ticks": ""
             }
            },
            "type": "scatterpolar"
           }
          ],
          "scatterpolargl": [
           {
            "marker": {
             "colorbar": {
              "outlinewidth": 0,
              "ticks": ""
             }
            },
            "type": "scatterpolargl"
           }
          ],
          "scatterternary": [
           {
            "marker": {
             "colorbar": {
              "outlinewidth": 0,
              "ticks": ""
             }
            },
            "type": "scatterternary"
           }
          ],
          "surface": [
           {
            "colorbar": {
             "outlinewidth": 0,
             "ticks": ""
            },
            "colorscale": [
             [
              0,
              "#0d0887"
             ],
             [
              0.1111111111111111,
              "#46039f"
             ],
             [
              0.2222222222222222,
              "#7201a8"
             ],
             [
              0.3333333333333333,
              "#9c179e"
             ],
             [
              0.4444444444444444,
              "#bd3786"
             ],
             [
              0.5555555555555556,
              "#d8576b"
             ],
             [
              0.6666666666666666,
              "#ed7953"
             ],
             [
              0.7777777777777778,
              "#fb9f3a"
             ],
             [
              0.8888888888888888,
              "#fdca26"
             ],
             [
              1,
              "#f0f921"
             ]
            ],
            "type": "surface"
           }
          ],
          "table": [
           {
            "cells": {
             "fill": {
              "color": "#EBF0F8"
             },
             "line": {
              "color": "white"
             }
            },
            "header": {
             "fill": {
              "color": "#C8D4E3"
             },
             "line": {
              "color": "white"
             }
            },
            "type": "table"
           }
          ]
         },
         "layout": {
          "annotationdefaults": {
           "arrowcolor": "#2a3f5f",
           "arrowhead": 0,
           "arrowwidth": 1
          },
          "colorscale": {
           "diverging": [
            [
             0,
             "#8e0152"
            ],
            [
             0.1,
             "#c51b7d"
            ],
            [
             0.2,
             "#de77ae"
            ],
            [
             0.3,
             "#f1b6da"
            ],
            [
             0.4,
             "#fde0ef"
            ],
            [
             0.5,
             "#f7f7f7"
            ],
            [
             0.6,
             "#e6f5d0"
            ],
            [
             0.7,
             "#b8e186"
            ],
            [
             0.8,
             "#7fbc41"
            ],
            [
             0.9,
             "#4d9221"
            ],
            [
             1,
             "#276419"
            ]
           ],
           "sequential": [
            [
             0,
             "#0d0887"
            ],
            [
             0.1111111111111111,
             "#46039f"
            ],
            [
             0.2222222222222222,
             "#7201a8"
            ],
            [
             0.3333333333333333,
             "#9c179e"
            ],
            [
             0.4444444444444444,
             "#bd3786"
            ],
            [
             0.5555555555555556,
             "#d8576b"
            ],
            [
             0.6666666666666666,
             "#ed7953"
            ],
            [
             0.7777777777777778,
             "#fb9f3a"
            ],
            [
             0.8888888888888888,
             "#fdca26"
            ],
            [
             1,
             "#f0f921"
            ]
           ],
           "sequentialminus": [
            [
             0,
             "#0d0887"
            ],
            [
             0.1111111111111111,
             "#46039f"
            ],
            [
             0.2222222222222222,
             "#7201a8"
            ],
            [
             0.3333333333333333,
             "#9c179e"
            ],
            [
             0.4444444444444444,
             "#bd3786"
            ],
            [
             0.5555555555555556,
             "#d8576b"
            ],
            [
             0.6666666666666666,
             "#ed7953"
            ],
            [
             0.7777777777777778,
             "#fb9f3a"
            ],
            [
             0.8888888888888888,
             "#fdca26"
            ],
            [
             1,
             "#f0f921"
            ]
           ]
          },
          "colorway": [
           "#636efa",
           "#EF553B",
           "#00cc96",
           "#ab63fa",
           "#FFA15A",
           "#19d3f3",
           "#FF6692",
           "#B6E880",
           "#FF97FF",
           "#FECB52"
          ],
          "font": {
           "color": "#2a3f5f"
          },
          "geo": {
           "bgcolor": "white",
           "lakecolor": "white",
           "landcolor": "#E5ECF6",
           "showlakes": true,
           "showland": true,
           "subunitcolor": "white"
          },
          "hoverlabel": {
           "align": "left"
          },
          "hovermode": "closest",
          "mapbox": {
           "style": "light"
          },
          "paper_bgcolor": "white",
          "plot_bgcolor": "#E5ECF6",
          "polar": {
           "angularaxis": {
            "gridcolor": "white",
            "linecolor": "white",
            "ticks": ""
           },
           "bgcolor": "#E5ECF6",
           "radialaxis": {
            "gridcolor": "white",
            "linecolor": "white",
            "ticks": ""
           }
          },
          "scene": {
           "xaxis": {
            "backgroundcolor": "#E5ECF6",
            "gridcolor": "white",
            "gridwidth": 2,
            "linecolor": "white",
            "showbackground": true,
            "ticks": "",
            "zerolinecolor": "white"
           },
           "yaxis": {
            "backgroundcolor": "#E5ECF6",
            "gridcolor": "white",
            "gridwidth": 2,
            "linecolor": "white",
            "showbackground": true,
            "ticks": "",
            "zerolinecolor": "white"
           },
           "zaxis": {
            "backgroundcolor": "#E5ECF6",
            "gridcolor": "white",
            "gridwidth": 2,
            "linecolor": "white",
            "showbackground": true,
            "ticks": "",
            "zerolinecolor": "white"
           }
          },
          "shapedefaults": {
           "line": {
            "color": "#2a3f5f"
           }
          },
          "ternary": {
           "aaxis": {
            "gridcolor": "white",
            "linecolor": "white",
            "ticks": ""
           },
           "baxis": {
            "gridcolor": "white",
            "linecolor": "white",
            "ticks": ""
           },
           "bgcolor": "#E5ECF6",
           "caxis": {
            "gridcolor": "white",
            "linecolor": "white",
            "ticks": ""
           }
          },
          "title": {
           "x": 0.05
          },
          "xaxis": {
           "automargin": true,
           "gridcolor": "white",
           "linecolor": "white",
           "ticks": "",
           "zerolinecolor": "white",
           "zerolinewidth": 2
          },
          "yaxis": {
           "automargin": true,
           "gridcolor": "white",
           "linecolor": "white",
           "ticks": "",
           "zerolinecolor": "white",
           "zerolinewidth": 2
          }
         }
        },
        "xaxis": {
         "anchor": "y",
         "autorange": true,
         "domain": [
          0,
          0.2888888888888889
         ],
         "range": [
          0,
          2
         ]
        },
        "xaxis2": {
         "anchor": "y2",
         "domain": [
          0.35555555555555557,
          0.6444444444444445
         ]
        },
        "xaxis3": {
         "anchor": "y3",
         "domain": [
          0.7111111111111111,
          1
         ]
        },
        "xaxis4": {
         "anchor": "y4",
         "autorange": true,
         "domain": [
          0,
          0.2888888888888889
         ],
         "range": [
          107.93884702001263,
          109.93884702001263
         ]
        },
        "xaxis5": {
         "anchor": "y5",
         "autorange": true,
         "domain": [
          0.35555555555555557,
          0.6444444444444445
         ],
         "range": [
          -1,
          6
         ]
        },
        "xaxis6": {
         "anchor": "y6",
         "autorange": true,
         "domain": [
          0.7111111111111111,
          1
         ],
         "range": [
          -1,
          6
         ]
        },
        "yaxis": {
         "anchor": "x",
         "autorange": true,
         "domain": [
          0.575,
          1
         ],
         "range": [
          1,
          3
         ]
        },
        "yaxis2": {
         "anchor": "x2",
         "domain": [
          0.575,
          1
         ]
        },
        "yaxis3": {
         "anchor": "x3",
         "domain": [
          0.575,
          1
         ]
        },
        "yaxis4": {
         "anchor": "x4",
         "autorange": true,
         "domain": [
          0,
          0.425
         ],
         "range": [
          -0.09883909128091069,
          1.0966060443696295
         ],
         "type": "linear"
        },
        "yaxis5": {
         "anchor": "x5",
         "autorange": true,
         "domain": [
          0,
          0.425
         ],
         "range": [
          0.5467571245685544,
          0.742699343667471
         ],
         "type": "linear"
        },
        "yaxis6": {
         "anchor": "x6",
         "autorange": true,
         "domain": [
          0,
          0.425
         ],
         "range": [
          -0.056412061133471476,
          0.6258840142357883
         ],
         "type": "linear"
        }
       }
      },
      "image/png": "[encoded data removed]",
      "text/html": [
       "<div>\n",
       "        \n",
       "        \n",
       "            <div id=\"fac5642b-c347-4d90-8dc5-926b5da8a1bb\" class=\"plotly-graph-div\" style=\"height:525px; width:100%;\"></div>\n",
       "            <script type=\"text/javascript\">\n",
       "                require([\"plotly\"], function(Plotly) {\n",
       "                    window.PLOTLYENV=window.PLOTLYENV || {};\n",
       "                    \n",
       "                if (document.getElementById(\"fac5642b-c347-4d90-8dc5-926b5da8a1bb\")) {\n",
       "                    Plotly.newPlot(\n",
       "                        'fac5642b-c347-4d90-8dc5-926b5da8a1bb',\n",
       "                        [{\"mode\": \"markers\", \"showlegend\": false, \"type\": \"scatter\", \"uid\": \"a26861cc-4121-4871-8796-e0f1ce32504d\", \"x\": [[108.93884702001263]], \"xaxis\": \"x\", \"y\": [[33.64231665923717]], \"yaxis\": \"y\"}, {\"mode\": \"markers\", \"showlegend\": false, \"type\": \"scatter\", \"uid\": \"a305a741-b230-4748-8393-d1a339a90f62\", \"x\": [[108.93884702001263]], \"xaxis\": \"x4\", \"y\": [0.9977669530887189], \"yaxis\": \"y4\"}, {\"mode\": \"markers\", \"showlegend\": false, \"type\": \"scatter\", \"uid\": \"028254b0-e9c6-49a6-a85f-39d0e4e6a6be\", \"x\": [[108.93884702001263]], \"xaxis\": \"x5\", \"y\": [0.6518987352336586], \"yaxis\": \"y5\"}, {\"mode\": \"markers\", \"showlegend\": false, \"type\": \"scatter\", \"uid\": \"9627d1fc-862a-453a-a2cc-4335c9132b59\", \"x\": [[108.93884702001263]], \"xaxis\": \"x6\", \"y\": [0.5694719531023168], \"yaxis\": \"y6\"}, {\"mode\": \"markers\", \"showlegend\": false, \"type\": \"scatter\", \"uid\": \"92f23914-9085-415c-8583-0e13bb8bab5a\", \"x\": [[108.93884528304402]], \"xaxis\": \"x\", \"y\": [[39.50349044505373]], \"yaxis\": \"y\"}, {\"mode\": \"markers\", \"showlegend\": false, \"type\": \"scatter\", \"uid\": \"75e0df3d-9054-4d5f-8e53-353603323b58\", \"x\": [[108.93884528304402]], \"xaxis\": \"x4\", \"y\": [0.9953637170365479], \"yaxis\": \"y4\"}, {\"mode\": \"markers\", \"showlegend\": false, \"type\": \"scatter\", \"uid\": \"4e96dd38-7ba4-4698-869e-d03c9511667f\", \"x\": [[108.93884528304402]], \"xaxis\": \"x5\", \"y\": [0.5629575760169289], \"yaxis\": \"y5\"}, {\"mode\": \"markers\", \"showlegend\": false, \"type\": \"scatter\", \"uid\": \"4a1bae2c-a997-480b-8751-86e7e608fde6\", \"x\": [[108.93884528304402]], \"xaxis\": \"x6\", \"y\": [0.5486839306200055], \"yaxis\": \"y6\"}, {\"mode\": \"markers\", \"showlegend\": false, \"type\": \"scatter\", \"uid\": \"87df5679-337c-426e-9fc5-33338408cd1f\", \"x\": [[110.53625967705267]], \"xaxis\": \"x\", \"y\": [[39.50349384741031]], \"yaxis\": \"y\"}, {\"mode\": \"markers\", \"showlegend\": false, \"type\": \"scatter\", \"uid\": \"59fd89de-dcde-4694-a634-47fdfc110559\", \"x\": [[110.53625967705267]], \"xaxis\": \"x4\", \"y\": [0.0], \"yaxis\": \"y4\"}, {\"mode\": \"markers\", \"showlegend\": false, \"type\": \"scatter\", \"uid\": \"e72bfe20-eb37-4df1-843d-8c66b8537dbb\", \"x\": [[110.53625967705267]], \"xaxis\": \"x5\", \"y\": [0.7264988922190966], \"yaxis\": \"y5\"}, {\"mode\": \"markers\", \"showlegend\": false, \"type\": \"scatter\", \"uid\": \"c40d4919-5384-4541-b37f-0dab927fe048\", \"x\": [[110.53625967705267]], \"xaxis\": \"x6\", \"y\": [0.0], \"yaxis\": \"y6\"}, {\"mode\": \"markers\", \"showlegend\": false, \"type\": \"scatter\", \"uid\": \"f32b3a72-5d15-417c-8ed9-08ab221bf62c\", \"x\": [[110.53626305357832]], \"xaxis\": \"x\", \"y\": [[39.50380990944347]], \"yaxis\": \"y\"}, {\"mode\": \"markers\", \"showlegend\": false, \"type\": \"scatter\", \"uid\": \"487e433c-fc47-47af-a42b-aa7bdb172868\", \"x\": [[110.53626305357832]], \"xaxis\": \"x4\", \"y\": [0.00196927673981382], \"yaxis\": \"y4\"}, {\"mode\": \"markers\", \"showlegend\": false, \"type\": \"scatter\", \"uid\": \"0a53042c-3ec8-4e5a-a9b2-c6b7dd015500\", \"x\": [[110.53626305357832]], \"xaxis\": \"x5\", \"y\": [0.7264522577087836], \"yaxis\": \"y5\"}, {\"mode\": \"markers\", \"showlegend\": false, \"type\": \"scatter\", \"uid\": \"6931a678-477e-4522-8006-ecc4f6fea02c\", \"x\": [[110.53626305357832]], \"xaxis\": \"x6\", \"y\": [0.0], \"yaxis\": \"y6\"}, {\"mode\": \"markers\", \"showlegend\": false, \"type\": \"scatter\", \"uid\": \"28305e97-827d-4c81-9c53-ce214a005647\", \"x\": [[108.93884702001263]], \"xaxis\": \"x\", \"y\": [[33.64231665923717]], \"yaxis\": \"y\"}, {\"mode\": \"markers\", \"showlegend\": false, \"type\": \"scatter\", \"uid\": \"c49c2ee6-a616-42aa-aee5-cc141d47f174\", \"x\": [[108.93884702001263]], \"xaxis\": \"x4\", \"y\": [0.9977669530887189], \"yaxis\": \"y4\"}, {\"mode\": \"markers\", \"showlegend\": false, \"type\": \"scatter\", \"uid\": \"604b41a2-7fd1-4c44-a8a7-cb0bf26b5c17\", \"x\": [[108.93884702001263]], \"xaxis\": \"x5\", \"y\": [0.6518987352336586], \"yaxis\": \"y5\"}, {\"mode\": \"markers\", \"showlegend\": false, \"type\": \"scatter\", \"uid\": \"950b90ab-da11-410e-bb93-155b9973d921\", \"x\": [[108.93884702001263]], \"xaxis\": \"x6\", \"y\": [0.5694719531023168], \"yaxis\": \"y6\"}, {\"mode\": \"markers\", \"showlegend\": false, \"type\": \"scatter\", \"uid\": \"cb1eb1ea-23ac-444d-9045-c4faffe36ddc\", \"x\": [[108.93884528304402]], \"xaxis\": \"x\", \"y\": [[39.50349044505373]], \"yaxis\": \"y\"}, {\"mode\": \"markers\", \"showlegend\": false, \"type\": \"scatter\", \"uid\": \"b1a638fc-cfb3-449b-82a9-00ef095aa8bc\", \"x\": [[108.93884528304402]], \"xaxis\": \"x4\", \"y\": [0.9953637170365479], \"yaxis\": \"y4\"}, {\"mode\": \"markers\", \"showlegend\": false, \"type\": \"scatter\", \"uid\": \"30ed234d-a5b3-49dd-947c-2578c767633e\", \"x\": [[108.93884528304402]], \"xaxis\": \"x5\", \"y\": [0.5629575760169289], \"yaxis\": \"y5\"}, {\"mode\": \"markers\", \"showlegend\": false, \"type\": \"scatter\", \"uid\": \"c9039578-192c-4dd5-8105-c29b2ed86454\", \"x\": [[108.93884528304402]], \"xaxis\": \"x6\", \"y\": [0.5486839306200055], \"yaxis\": \"y6\"}, {\"mode\": \"markers\", \"showlegend\": false, \"type\": \"scatter\", \"uid\": \"c4bc0cf9-d156-4cf7-8547-fe5a99bef402\", \"x\": [[110.53625967705267]], \"xaxis\": \"x\", \"y\": [[39.50349384741031]], \"yaxis\": \"y\"}, {\"mode\": \"markers\", \"showlegend\": false, \"type\": \"scatter\", \"uid\": \"a5585f82-5ab8-4f4f-9c39-3f01961e5ad2\", \"x\": [[110.53625967705267]], \"xaxis\": \"x4\", \"y\": [0.0], \"yaxis\": \"y4\"}, {\"mode\": \"markers\", \"showlegend\": false, \"type\": \"scatter\", \"uid\": \"3802f03c-ecd9-4001-92d0-be83386238e5\", \"x\": [[110.53625967705267]], \"xaxis\": \"x5\", \"y\": [0.7264988922190966], \"yaxis\": \"y5\"}, {\"mode\": \"markers\", \"showlegend\": false, \"type\": \"scatter\", \"uid\": \"78069a82-9eaf-41ed-a642-1b531807626a\", \"x\": [[110.53625967705267]], \"xaxis\": \"x6\", \"y\": [0.0], \"yaxis\": \"y6\"}, {\"mode\": \"markers\", \"showlegend\": false, \"type\": \"scatter\", \"uid\": \"5a649198-3ba2-4436-a423-1612a524b0d3\", \"x\": [[110.53626305357832]], \"xaxis\": \"x\", \"y\": [[39.50380990944347]], \"yaxis\": \"y\"}, {\"mode\": \"markers\", \"showlegend\": false, \"type\": \"scatter\", \"uid\": \"57ef2a4e-56c8-465b-a3bc-5fe2ded3c743\", \"x\": [[110.53626305357832]], \"xaxis\": \"x4\", \"y\": [0.00196927673981382], \"yaxis\": \"y4\"}, {\"mode\": \"markers\", \"showlegend\": false, \"type\": \"scatter\", \"uid\": \"c1e8c0b4-740a-4256-b084-8a8a59b37ff3\", \"x\": [[110.53626305357832]], \"xaxis\": \"x5\", \"y\": [0.7264522577087836], \"yaxis\": \"y5\"}, {\"mode\": \"markers\", \"showlegend\": false, \"type\": \"scatter\", \"uid\": \"a618906b-b1da-46fe-b74c-ec12bf8bf0c1\", \"x\": [[110.53626305357832]], \"xaxis\": \"x6\", \"y\": [0.0], \"yaxis\": \"y6\"}, {\"mode\": \"markers\", \"showlegend\": false, \"type\": \"scatter\", \"uid\": \"f5909e63-c60a-44d6-b854-0802a58653ab\", \"x\": [[[108.93884702001263]]], \"xaxis\": \"x\", \"y\": [[33.64231665923717]], \"yaxis\": \"y\"}, {\"mode\": \"markers\", \"showlegend\": false, \"type\": \"scatter\", \"uid\": \"892ea29b-4907-4054-bf1b-809723ba369c\", \"x\": [[108.93884702001263]], \"xaxis\": \"x4\", \"y\": [0.9977669530887189], \"yaxis\": \"y4\"}, {\"mode\": \"markers\", \"showlegend\": false, \"type\": \"scatter\", \"uid\": \"e35bb518-5c76-4d30-91d2-4e8c43959e5a\", \"x\": [[108.93884702001263]], \"xaxis\": \"x5\", \"y\": [0.6518987352336586], \"yaxis\": \"y5\"}, {\"mode\": \"markers\", \"showlegend\": false, \"type\": \"scatter\", \"uid\": \"eac08333-b03f-4778-bc41-651330f60401\", \"x\": [[108.93884702001263]], \"xaxis\": \"x6\", \"y\": [0.5694719531023168], \"yaxis\": \"y6\"}, {\"mode\": \"markers\", \"showlegend\": false, \"type\": \"scatter\", \"uid\": \"11359582-b2db-4428-a867-e1f07f3911cd\", \"x\": [[[108.93884528304402]]], \"xaxis\": \"x\", \"y\": [[39.50349044505373]], \"yaxis\": \"y\"}, {\"mode\": \"markers\", \"showlegend\": false, \"type\": \"scatter\", \"uid\": \"d6b7e759-1448-4380-907a-ae2c9d07cf50\", \"x\": [[108.93884528304402]], \"xaxis\": \"x4\", \"y\": [0.9953637170365479], \"yaxis\": \"y4\"}, {\"mode\": \"markers\", \"showlegend\": false, \"type\": \"scatter\", \"uid\": \"f290612d-1fc2-4fdb-873e-9ec1ef42a80c\", \"x\": [[108.93884528304402]], \"xaxis\": \"x5\", \"y\": [0.5629575760169289], \"yaxis\": \"y5\"}, {\"mode\": \"markers\", \"showlegend\": false, \"type\": \"scatter\", \"uid\": \"77478976-6945-4666-84e2-5064f43ef466\", \"x\": [[108.93884528304402]], \"xaxis\": \"x6\", \"y\": [0.5486839306200055], \"yaxis\": \"y6\"}, {\"mode\": \"markers\", \"showlegend\": false, \"type\": \"scatter\", \"uid\": \"27cd56b1-4a1d-417f-9655-3f0db3bb9428\", \"x\": [[[110.53625967705267]]], \"xaxis\": \"x\", \"y\": [[39.50349384741031]], \"yaxis\": \"y\"}, {\"mode\": \"markers\", \"showlegend\": false, \"type\": \"scatter\", \"uid\": \"65667b6f-909f-4bed-97da-25d4ad54320c\", \"x\": [[110.53625967705267]], \"xaxis\": \"x4\", \"y\": [0.0], \"yaxis\": \"y4\"}, {\"mode\": \"markers\", \"showlegend\": false, \"type\": \"scatter\", \"uid\": \"a244c1cf-edce-4ed5-ab97-c74eaba36d82\", \"x\": [[110.53625967705267]], \"xaxis\": \"x5\", \"y\": [0.7264988922190966], \"yaxis\": \"y5\"}, {\"mode\": \"markers\", \"showlegend\": false, \"type\": \"scatter\", \"uid\": \"1f66e45b-bfa3-479a-b2e9-618e95ff76f0\", \"x\": [[110.53625967705267]], \"xaxis\": \"x6\", \"y\": [0.0], \"yaxis\": \"y6\"}, {\"mode\": \"markers\", \"showlegend\": false, \"type\": \"scatter\", \"uid\": \"3a2eae21-1e14-4993-aa84-5ceefc57b125\", \"x\": [[[110.53626305357832]]], \"xaxis\": \"x\", \"y\": [[39.50380990944347]], \"yaxis\": \"y\"}, {\"mode\": \"markers\", \"showlegend\": false, \"type\": \"scatter\", \"uid\": \"308cc00c-ae2a-402f-ac01-486db0d2e4ef\", \"x\": [[110.53626305357832]], \"xaxis\": \"x4\", \"y\": [0.00196927673981382], \"yaxis\": \"y4\"}, {\"mode\": \"markers\", \"showlegend\": false, \"type\": \"scatter\", \"uid\": \"a2ab5ead-b861-45ef-aaef-47366f42e06a\", \"x\": [[110.53626305357832]], \"xaxis\": \"x5\", \"y\": [0.7264522577087836], \"yaxis\": \"y5\"}, {\"mode\": \"markers\", \"showlegend\": false, \"type\": \"scatter\", \"uid\": \"ef51feb7-752b-4215-9f80-68367bcf4788\", \"x\": [[110.53626305357832]], \"xaxis\": \"x6\", \"y\": [0.0], \"yaxis\": \"y6\"}, {\"mode\": \"markers\", \"showlegend\": false, \"type\": \"scatter\", \"uid\": \"7f0ba291-fdd6-4b0d-8833-6a87a8e96063\", \"x\": [[[108.93884702001263]]], \"xaxis\": \"x\", \"y\": [[33.64231665923717]], \"yaxis\": \"y\"}, {\"mode\": \"markers\", \"showlegend\": false, \"type\": \"scatter\", \"uid\": \"97835bfa-5f4b-4da2-815d-3cdce35cbbbb\", \"x\": [[108.93884702001263]], \"xaxis\": \"x4\", \"y\": [0.9977669530887189], \"yaxis\": \"y4\"}, {\"mode\": \"markers\", \"showlegend\": false, \"type\": \"scatter\", \"uid\": \"79fa6316-5d02-4a6e-bfea-71ca1c09570b\", \"x\": [[108.93884702001263]], \"xaxis\": \"x5\", \"y\": [0.6518987352336586], \"yaxis\": \"y5\"}, {\"mode\": \"markers\", \"showlegend\": false, \"type\": \"scatter\", \"uid\": \"cd781e60-d4e5-49d4-bc23-a8795e360c4a\", \"x\": [[108.93884702001263]], \"xaxis\": \"x6\", \"y\": [0.5694719531023168], \"yaxis\": \"y6\"}, {\"mode\": \"markers\", \"showlegend\": false, \"type\": \"scatter\", \"uid\": \"ed4eb7d1-86da-4d7a-958a-55298b6a99a1\", \"x\": [[[108.93884528304402]]], \"xaxis\": \"x\", \"y\": [[39.50349044505373]], \"yaxis\": \"y\"}, {\"mode\": \"markers\", \"showlegend\": false, \"type\": \"scatter\", \"uid\": \"d2c54fcc-2503-462b-bfb6-c2a5bec35896\", \"x\": [[108.93884528304402]], \"xaxis\": \"x4\", \"y\": [0.9953637170365479], \"yaxis\": \"y4\"}, {\"mode\": \"markers\", \"showlegend\": false, \"type\": \"scatter\", \"uid\": \"828be71e-5bd0-4625-918b-7a5b18deb4fa\", \"x\": [[108.93884528304402]], \"xaxis\": \"x5\", \"y\": [0.5629575760169289], \"yaxis\": \"y5\"}, {\"mode\": \"markers\", \"showlegend\": false, \"type\": \"scatter\", \"uid\": \"135a3a64-a648-4a68-9984-e240d6746245\", \"x\": [[108.93884528304402]], \"xaxis\": \"x6\", \"y\": [0.5486839306200055], \"yaxis\": \"y6\"}, {\"mode\": \"markers\", \"showlegend\": false, \"type\": \"scatter\", \"uid\": \"706b9925-4f76-48ce-8a91-63a688d1006a\", \"x\": [[[110.53625967705267]]], \"xaxis\": \"x\", \"y\": [[39.50349384741031]], \"yaxis\": \"y\"}, {\"mode\": \"markers\", \"showlegend\": false, \"type\": \"scatter\", \"uid\": \"490252f6-5e05-4101-96f3-504e9a292704\", \"x\": [[110.53625967705267]], \"xaxis\": \"x4\", \"y\": [0.0], \"yaxis\": \"y4\"}, {\"mode\": \"markers\", \"showlegend\": false, \"type\": \"scatter\", \"uid\": \"60cdeaef-4c3d-4bc3-83df-8b0d7be6c6b3\", \"x\": [[110.53625967705267]], \"xaxis\": \"x5\", \"y\": [0.7264988922190966], \"yaxis\": \"y5\"}, {\"mode\": \"markers\", \"showlegend\": false, \"type\": \"scatter\", \"uid\": \"7cbcf95f-830b-4728-b336-d5d8c4ccfe49\", \"x\": [[110.53625967705267]], \"xaxis\": \"x6\", \"y\": [0.0], \"yaxis\": \"y6\"}, {\"mode\": \"markers\", \"showlegend\": false, \"type\": \"scatter\", \"uid\": \"2afb5d0b-122f-4244-83b1-3e7564684d50\", \"x\": [[[110.53626305357832]]], \"xaxis\": \"x\", \"y\": [[39.50380990944347]], \"yaxis\": \"y\"}, {\"mode\": \"markers\", \"showlegend\": false, \"type\": \"scatter\", \"uid\": \"2dac367b-e009-480a-8ea1-44310e6fbdfc\", \"x\": [[110.53626305357832]], \"xaxis\": \"x4\", \"y\": [0.00196927673981382], \"yaxis\": \"y4\"}, {\"mode\": \"markers\", \"showlegend\": false, \"type\": \"scatter\", \"uid\": \"21713ce7-0646-482e-a5e7-95bd6586d9c5\", \"x\": [[110.53626305357832]], \"xaxis\": \"x5\", \"y\": [0.7264522577087836], \"yaxis\": \"y5\"}, {\"mode\": \"markers\", \"showlegend\": false, \"type\": \"scatter\", \"uid\": \"3abf1e11-3ed1-435a-b416-4df20e60db14\", \"x\": [[110.53626305357832]], \"xaxis\": \"x6\", \"y\": [0.0], \"yaxis\": \"y6\"}, {\"mode\": \"markers\", \"showlegend\": false, \"type\": \"scatter\", \"uid\": \"6ca88e28-4874-4507-8c2c-97417d1ca9e0\", \"x\": [1], \"xaxis\": \"x\", \"y\": [2], \"yaxis\": \"y\"}, {\"mode\": \"markers\", \"showlegend\": false, \"type\": \"scatter\", \"uid\": \"63b99d4c-a507-4d5e-ac26-198f10c74987\", \"x\": [[108.93884702001263]], \"xaxis\": \"x\", \"y\": [[33.64231665923717]], \"yaxis\": \"y\"}, {\"mode\": \"markers\", \"showlegend\": false, \"type\": \"scatter\", \"uid\": \"af316755-681a-48f8-a5a2-9cdd5cce5b23\", \"x\": [[108.93884702001263]], \"xaxis\": \"x4\", \"y\": [0.9977669530887189], \"yaxis\": \"y4\"}, {\"mode\": \"markers\", \"showlegend\": false, \"type\": \"scatter\", \"uid\": \"12cd2be9-0fab-41a0-85ec-54678bd00af8\", \"x\": [[108.93884702001263]], \"xaxis\": \"x5\", \"y\": [0.6518987352336586], \"yaxis\": \"y5\"}, {\"mode\": \"markers\", \"showlegend\": false, \"type\": \"scatter\", \"uid\": \"1d304fe0-55af-488b-bfc9-fe8a51a3a07f\", \"x\": [[108.93884702001263]], \"xaxis\": \"x6\", \"y\": [0.5694719531023168], \"yaxis\": \"y6\"}, {\"mode\": \"markers\", \"showlegend\": false, \"type\": \"scatter\", \"uid\": \"59282aa9-2fdc-46bd-a1a4-a65e721c0740\", \"x\": [1], \"xaxis\": \"x\", \"y\": [2], \"yaxis\": \"y\"}, {\"mode\": \"markers\", \"showlegend\": false, \"type\": \"scatter\", \"uid\": \"2efc542b-e28c-403d-8ede-8dd35b03cc72\", \"x\": [[108.93884528304402]], \"xaxis\": \"x\", \"y\": [[39.50349044505373]], \"yaxis\": \"y\"}, {\"mode\": \"markers\", \"showlegend\": false, \"type\": \"scatter\", \"uid\": \"5ed4dd48-d595-40ac-a534-b0573db43c70\", \"x\": [[108.93884528304402]], \"xaxis\": \"x4\", \"y\": [0.9953637170365479], \"yaxis\": \"y4\"}, {\"mode\": \"markers\", \"showlegend\": false, \"type\": \"scatter\", \"uid\": \"cf6de4d6-081e-456a-9d8a-a17ad8ffaa6f\", \"x\": [[108.93884528304402]], \"xaxis\": \"x5\", \"y\": [0.5629575760169289], \"yaxis\": \"y5\"}, {\"mode\": \"markers\", \"showlegend\": false, \"type\": \"scatter\", \"uid\": \"9469aeb0-a7c9-4d8a-83e8-67252cee74b9\", \"x\": [[108.93884528304402]], \"xaxis\": \"x6\", \"y\": [0.5486839306200055], \"yaxis\": \"y6\"}, {\"mode\": \"markers\", \"showlegend\": false, \"type\": \"scatter\", \"uid\": \"6677680a-2bac-47f6-893b-3e431f7c06b1\", \"x\": [1], \"xaxis\": \"x\", \"y\": [2], \"yaxis\": \"y\"}, {\"mode\": \"markers\", \"showlegend\": false, \"type\": \"scatter\", \"uid\": \"32ac301b-4d7e-4cbb-bc47-a7b6b03e90bf\", \"x\": [[110.53625967705267]], \"xaxis\": \"x\", \"y\": [[39.50349384741031]], \"yaxis\": \"y\"}, {\"mode\": \"markers\", \"showlegend\": false, \"type\": \"scatter\", \"uid\": \"ea12f030-4cd7-4455-960f-64999e547a92\", \"x\": [[110.53625967705267]], \"xaxis\": \"x4\", \"y\": [0.0], \"yaxis\": \"y4\"}, {\"mode\": \"markers\", \"showlegend\": false, \"type\": \"scatter\", \"uid\": \"cb03bc00-7077-4c33-98a3-7629042f857c\", \"x\": [[110.53625967705267]], \"xaxis\": \"x5\", \"y\": [0.7264988922190966], \"yaxis\": \"y5\"}, {\"mode\": \"markers\", \"showlegend\": false, \"type\": \"scatter\", \"uid\": \"d26b04a2-b120-4b4d-a09e-65482e8d9ab6\", \"x\": [[110.53625967705267]], \"xaxis\": \"x6\", \"y\": [0.0], \"yaxis\": \"y6\"}, {\"mode\": \"markers\", \"showlegend\": false, \"type\": \"scatter\", \"uid\": \"ea4f13e1-58f2-4cb3-a459-076cc70ace3e\", \"x\": [1], \"xaxis\": \"x\", \"y\": [2], \"yaxis\": \"y\"}, {\"mode\": \"markers\", \"showlegend\": false, \"type\": \"scatter\", \"uid\": \"725ae064-b3cb-4112-bb01-c443a21c85c8\", \"x\": [[110.53626305357832]], \"xaxis\": \"x\", \"y\": [[39.50380990944347]], \"yaxis\": \"y\"}, {\"mode\": \"markers\", \"showlegend\": false, \"type\": \"scatter\", \"uid\": \"1455b681-910c-4a37-a5bf-955869757fa4\", \"x\": [[110.53626305357832]], \"xaxis\": \"x4\", \"y\": [0.00196927673981382], \"yaxis\": \"y4\"}, {\"mode\": \"markers\", \"showlegend\": false, \"type\": \"scatter\", \"uid\": \"2aa490d4-f0b3-4065-9dcf-5347bb1fc323\", \"x\": [[110.53626305357832]], \"xaxis\": \"x5\", \"y\": [0.7264522577087836], \"yaxis\": \"y5\"}, {\"mode\": \"markers\", \"showlegend\": false, \"type\": \"scatter\", \"uid\": \"45835be0-1d25-4d52-8612-7657cf5b4361\", \"x\": [[110.53626305357832]], \"xaxis\": \"x6\", \"y\": [0.0], \"yaxis\": \"y6\"}, {\"mode\": \"markers\", \"showlegend\": false, \"type\": \"scatter\", \"uid\": \"70380d7b-b7bb-4fde-8383-3ccd03f1a7ee\", \"x\": [1], \"xaxis\": \"x\", \"y\": [2], \"yaxis\": \"y\"}, {\"mode\": \"markers\", \"showlegend\": false, \"type\": \"scatter\", \"uid\": \"62d48297-b7a1-415b-af5b-507aef20d490\", \"x\": [[108.93884702001263]], \"xaxis\": \"x\", \"y\": [[33.64231665923717]], \"yaxis\": \"y\"}, {\"mode\": \"markers\", \"showlegend\": false, \"type\": \"scatter\", \"uid\": \"008006f8-c114-4e29-a6ec-43c7e4b44c90\", \"x\": [[108.93884702001263]], \"xaxis\": \"x4\", \"y\": [0.9977669530887189], \"yaxis\": \"y4\"}, {\"mode\": \"markers\", \"showlegend\": false, \"type\": \"scatter\", \"uid\": \"daf1e37f-1bfd-48b6-ae25-e201a63c53f1\", \"x\": [[108.93884702001263]], \"xaxis\": \"x5\", \"y\": [0.6518987352336586], \"yaxis\": \"y5\"}, {\"mode\": \"markers\", \"showlegend\": false, \"type\": \"scatter\", \"uid\": \"7c354092-6c01-4191-a07c-a5693b8e97b0\", \"x\": [[108.93884702001263]], \"xaxis\": \"x6\", \"y\": [0.5694719531023168], \"yaxis\": \"y6\"}, {\"mode\": \"markers\", \"showlegend\": false, \"type\": \"scatter\", \"uid\": \"5d9f9d21-fd30-4961-8d9e-af770e04a9f1\", \"x\": [1], \"xaxis\": \"x\", \"y\": [2], \"yaxis\": \"y\"}, {\"mode\": \"markers\", \"showlegend\": false, \"type\": \"scatter\", \"uid\": \"74269335-55b4-4baa-b2c4-316b72c29b2b\", \"x\": [[108.93884528304402]], \"xaxis\": \"x\", \"y\": [[39.50349044505373]], \"yaxis\": \"y\"}, {\"mode\": \"markers\", \"showlegend\": false, \"type\": \"scatter\", \"uid\": \"92c95354-2dca-4526-b912-29d587166ee4\", \"x\": [[108.93884528304402]], \"xaxis\": \"x4\", \"y\": [0.9953637170365479], \"yaxis\": \"y4\"}, {\"mode\": \"markers\", \"showlegend\": false, \"type\": \"scatter\", \"uid\": \"5c923170-1fd6-4e36-9bb0-b59cbb306b97\", \"x\": [[108.93884528304402]], \"xaxis\": \"x5\", \"y\": [0.5629575760169289], \"yaxis\": \"y5\"}, {\"mode\": \"markers\", \"showlegend\": false, \"type\": \"scatter\", \"uid\": \"4fecc976-c817-4a7f-9f38-dd275c28dc04\", \"x\": [[108.93884528304402]], \"xaxis\": \"x6\", \"y\": [0.5486839306200055], \"yaxis\": \"y6\"}, {\"mode\": \"markers\", \"showlegend\": false, \"type\": \"scatter\", \"uid\": \"3ceedb9e-aa63-4668-af45-2f2bba02fac4\", \"x\": [1], \"xaxis\": \"x\", \"y\": [2], \"yaxis\": \"y\"}, {\"mode\": \"markers\", \"showlegend\": false, \"type\": \"scatter\", \"uid\": \"352555a7-3991-4702-a654-1cae9e2c22d4\", \"x\": [[110.53625967705267]], \"xaxis\": \"x\", \"y\": [[39.50349384741031]], \"yaxis\": \"y\"}, {\"mode\": \"markers\", \"showlegend\": false, \"type\": \"scatter\", \"uid\": \"1bf24856-ab69-4fc9-8eef-ba91835f4287\", \"x\": [[110.53625967705267]], \"xaxis\": \"x4\", \"y\": [0.0], \"yaxis\": \"y4\"}, {\"mode\": \"markers\", \"showlegend\": false, \"type\": \"scatter\", \"uid\": \"4d1484c6-185d-4bf2-99b0-68542b93eb52\", \"x\": [[110.53625967705267]], \"xaxis\": \"x5\", \"y\": [0.7264988922190966], \"yaxis\": \"y5\"}, {\"mode\": \"markers\", \"showlegend\": false, \"type\": \"scatter\", \"uid\": \"b6546475-ef45-4f32-b1cb-81b930285d2a\", \"x\": [[110.53625967705267]], \"xaxis\": \"x6\", \"y\": [0.0], \"yaxis\": \"y6\"}, {\"mode\": \"markers\", \"showlegend\": false, \"type\": \"scatter\", \"uid\": \"6e481ed5-c469-495b-bf36-0ad05ebe5ec4\", \"x\": [1], \"xaxis\": \"x\", \"y\": [2], \"yaxis\": \"y\"}, {\"mode\": \"markers\", \"showlegend\": false, \"type\": \"scatter\", \"uid\": \"4f669421-51db-4f8d-8a69-605a000ad37c\", \"x\": [[110.53626305357832]], \"xaxis\": \"x\", \"y\": [[39.50380990944347]], \"yaxis\": \"y\"}, {\"mode\": \"markers\", \"showlegend\": false, \"type\": \"scatter\", \"uid\": \"c8b343bd-6cc1-4230-acf3-6797a1669df7\", \"x\": [[110.53626305357832]], \"xaxis\": \"x4\", \"y\": [0.00196927673981382], \"yaxis\": \"y4\"}, {\"mode\": \"markers\", \"showlegend\": false, \"type\": \"scatter\", \"uid\": \"19f6a086-b7a1-4a66-a6f3-8c825217111f\", \"x\": [[110.53626305357832]], \"xaxis\": \"x5\", \"y\": [0.7264522577087836], \"yaxis\": \"y5\"}, {\"mode\": \"markers\", \"showlegend\": false, \"type\": \"scatter\", \"uid\": \"d13a1b98-d03e-4825-bcbc-10e0409aa08b\", \"x\": [[110.53626305357832]], \"xaxis\": \"x6\", \"y\": [0.0], \"yaxis\": \"y6\"}, {\"mode\": \"markers\", \"type\": \"scatter\", \"uid\": \"24f20a15-8d10-4221-a844-4fb45b22413b\", \"x\": [1], \"xaxis\": \"x\", \"y\": [2], \"yaxis\": \"y\"}, {\"mode\": \"markers\", \"showlegend\": false, \"type\": \"scatter\", \"uid\": \"a0e11808-63c1-494b-b31d-4b095361cfbd\", \"x\": [[108.93884702001263]], \"xaxis\": \"x\", \"y\": [[33.64231665923717]], \"yaxis\": \"y\"}, {\"mode\": \"markers\", \"showlegend\": false, \"type\": \"scatter\", \"uid\": \"f9696e5e-5de0-4ece-a45b-f040707b06c7\", \"x\": [[108.93884702001263]], \"xaxis\": \"x4\", \"y\": [0.9977669530887189], \"yaxis\": \"y4\"}, {\"mode\": \"markers\", \"showlegend\": false, \"type\": \"scatter\", \"uid\": \"3367c2e0-bcaa-4dfb-a31a-02061b018cb5\", \"x\": [[108.93884702001263]], \"xaxis\": \"x5\", \"y\": [0.6518987352336586], \"yaxis\": \"y5\"}, {\"mode\": \"markers\", \"showlegend\": false, \"type\": \"scatter\", \"uid\": \"21aad8ce-4b18-47d0-9027-6b606f93deb3\", \"x\": [[108.93884702001263]], \"xaxis\": \"x6\", \"y\": [0.5694719531023168], \"yaxis\": \"y6\"}, {\"mode\": \"markers\", \"type\": \"scatter\", \"uid\": \"4552614f-7c3a-4d89-b6bd-671d56c8c737\", \"x\": [1], \"xaxis\": \"x\", \"y\": [2], \"yaxis\": \"y\"}, {\"mode\": \"markers\", \"showlegend\": false, \"type\": \"scatter\", \"uid\": \"773bf688-f064-4729-a87d-e1fa1b2c42e0\", \"x\": [[108.93884528304402]], \"xaxis\": \"x\", \"y\": [[39.50349044505373]], \"yaxis\": \"y\"}, {\"mode\": \"markers\", \"showlegend\": false, \"type\": \"scatter\", \"uid\": \"15b49d4b-877a-401c-b05a-173affb19151\", \"x\": [[108.93884528304402]], \"xaxis\": \"x4\", \"y\": [0.9953637170365479], \"yaxis\": \"y4\"}, {\"mode\": \"markers\", \"showlegend\": false, \"type\": \"scatter\", \"uid\": \"c15c5eea-92c2-4d74-83bc-57c053c5823e\", \"x\": [[108.93884528304402]], \"xaxis\": \"x5\", \"y\": [0.5629575760169289], \"yaxis\": \"y5\"}, {\"mode\": \"markers\", \"showlegend\": false, \"type\": \"scatter\", \"uid\": \"9a3654c4-8a90-48bc-82f0-8998744cf4d8\", \"x\": [[108.93884528304402]], \"xaxis\": \"x6\", \"y\": [0.5486839306200055], \"yaxis\": \"y6\"}, {\"mode\": \"markers\", \"type\": \"scatter\", \"uid\": \"1f625e69-e15b-43d3-b3c3-49da2abf35f2\", \"x\": [1], \"xaxis\": \"x\", \"y\": [2], \"yaxis\": \"y\"}, {\"mode\": \"markers\", \"showlegend\": false, \"type\": \"scatter\", \"uid\": \"303d1397-ea48-4ed2-ba9e-2e626a411a07\", \"x\": [[110.53625967705267]], \"xaxis\": \"x\", \"y\": [[39.50349384741031]], \"yaxis\": \"y\"}, {\"mode\": \"markers\", \"showlegend\": false, \"type\": \"scatter\", \"uid\": \"2515a407-5c75-4482-a448-0905614c4ee4\", \"x\": [[110.53625967705267]], \"xaxis\": \"x4\", \"y\": [0.0], \"yaxis\": \"y4\"}, {\"mode\": \"markers\", \"showlegend\": false, \"type\": \"scatter\", \"uid\": \"e2bfb7fd-6be8-430b-a74f-d679ac74d6f4\", \"x\": [[110.53625967705267]], \"xaxis\": \"x5\", \"y\": [0.7264988922190966], \"yaxis\": \"y5\"}, {\"mode\": \"markers\", \"showlegend\": false, \"type\": \"scatter\", \"uid\": \"dd5e2a2a-9e41-46e9-b574-5fa3de07d499\", \"x\": [[110.53625967705267]], \"xaxis\": \"x6\", \"y\": [0.0], \"yaxis\": \"y6\"}, {\"mode\": \"markers\", \"type\": \"scatter\", \"uid\": \"e5aa1aa1-0457-4a3c-b4a5-5cd8457661ee\", \"x\": [1], \"xaxis\": \"x\", \"y\": [2], \"yaxis\": \"y\"}, {\"mode\": \"markers\", \"showlegend\": false, \"type\": \"scatter\", \"uid\": \"345be059-5b96-4184-8dbf-f93166debd5e\", \"x\": [[110.53626305357832]], \"xaxis\": \"x\", \"y\": [[39.50380990944347]], \"yaxis\": \"y\"}, {\"mode\": \"markers\", \"showlegend\": false, \"type\": \"scatter\", \"uid\": \"2d0220fe-7906-4898-8ba8-6062090865ad\", \"x\": [[110.53626305357832]], \"xaxis\": \"x4\", \"y\": [0.00196927673981382], \"yaxis\": \"y4\"}, {\"mode\": \"markers\", \"showlegend\": false, \"type\": \"scatter\", \"uid\": \"3b5bcbca-728d-43cb-acf9-48a21a586e4e\", \"x\": [[110.53626305357832]], \"xaxis\": \"x5\", \"y\": [0.7264522577087836], \"yaxis\": \"y5\"}, {\"mode\": \"markers\", \"showlegend\": false, \"type\": \"scatter\", \"uid\": \"104a4aac-c5f2-42e8-81b8-3934c8f2ec5c\", \"x\": [[110.53626305357832]], \"xaxis\": \"x6\", \"y\": [0.0], \"yaxis\": \"y6\"}, {\"mode\": \"markers\", \"type\": \"scatter\", \"uid\": \"612a39b3-c20b-45b3-9d0b-65122100b7b1\", \"x\": [1], \"xaxis\": \"x\", \"y\": [2], \"yaxis\": \"y\"}, {\"mode\": \"markers\", \"showlegend\": false, \"type\": \"scatter\", \"uid\": \"fe3f553b-626c-40b7-ab57-2a6977209107\", \"x\": [[108.93884702001263]], \"xaxis\": \"x\", \"y\": [[33.64231665923717]], \"yaxis\": \"y\"}, {\"mode\": \"markers\", \"showlegend\": false, \"type\": \"scatter\", \"uid\": \"726a7d66-bb72-4f99-93f0-05cd86642d24\", \"x\": [[108.93884702001263]], \"xaxis\": \"x4\", \"y\": [0.9977669530887189], \"yaxis\": \"y4\"}, {\"mode\": \"markers\", \"showlegend\": false, \"type\": \"scatter\", \"uid\": \"22e293c2-724f-4638-8cff-315f32abc57b\", \"x\": [[108.93884702001263]], \"xaxis\": \"x5\", \"y\": [0.6518987352336586], \"yaxis\": \"y5\"}, {\"mode\": \"markers\", \"showlegend\": false, \"type\": \"scatter\", \"uid\": \"5bb23ba4-96d4-44b9-8f1e-387569f1dab1\", \"x\": [[108.93884702001263]], \"xaxis\": \"x6\", \"y\": [0.5694719531023168], \"yaxis\": \"y6\"}, {\"mode\": \"markers\", \"type\": \"scatter\", \"uid\": \"64d22b80-a208-4dc0-a972-5b693a253823\", \"x\": [1], \"xaxis\": \"x\", \"y\": [2], \"yaxis\": \"y\"}, {\"mode\": \"markers\", \"showlegend\": false, \"type\": \"scatter\", \"uid\": \"76105e4d-97ef-46d8-9991-bb5ef8b25d0f\", \"x\": [[108.93884528304402]], \"xaxis\": \"x\", \"y\": [[39.50349044505373]], \"yaxis\": \"y\"}, {\"mode\": \"markers\", \"showlegend\": false, \"type\": \"scatter\", \"uid\": \"17b3874e-a027-4086-b80e-ff5578150416\", \"x\": [[108.93884528304402]], \"xaxis\": \"x4\", \"y\": [0.9953637170365479], \"yaxis\": \"y4\"}, {\"mode\": \"markers\", \"showlegend\": false, \"type\": \"scatter\", \"uid\": \"e00cf493-6d6e-44b1-9249-b09ffeb20f33\", \"x\": [[108.93884528304402]], \"xaxis\": \"x5\", \"y\": [0.5629575760169289], \"yaxis\": \"y5\"}, {\"mode\": \"markers\", \"showlegend\": false, \"type\": \"scatter\", \"uid\": \"8fe42665-e7a9-4d70-8d08-15e6bbb796c8\", \"x\": [[108.93884528304402]], \"xaxis\": \"x6\", \"y\": [0.5486839306200055], \"yaxis\": \"y6\"}, {\"mode\": \"markers\", \"type\": \"scatter\", \"uid\": \"cce04626-85d6-4abb-a04c-5efdbbbccdc6\", \"x\": [1], \"xaxis\": \"x\", \"y\": [2], \"yaxis\": \"y\"}, {\"mode\": \"markers\", \"showlegend\": false, \"type\": \"scatter\", \"uid\": \"20e39f8e-9940-4611-b841-74de6a94e944\", \"x\": [[110.53625967705267]], \"xaxis\": \"x\", \"y\": [[39.50349384741031]], \"yaxis\": \"y\"}, {\"mode\": \"markers\", \"showlegend\": false, \"type\": \"scatter\", \"uid\": \"6cec07e1-b783-4623-8180-567b174fa5be\", \"x\": [[110.53625967705267]], \"xaxis\": \"x4\", \"y\": [0.0], \"yaxis\": \"y4\"}, {\"mode\": \"markers\", \"showlegend\": false, \"type\": \"scatter\", \"uid\": \"d47d2cc9-158d-467c-8d2d-f86444e0c172\", \"x\": [[110.53625967705267]], \"xaxis\": \"x5\", \"y\": [0.7264988922190966], \"yaxis\": \"y5\"}, {\"mode\": \"markers\", \"showlegend\": false, \"type\": \"scatter\", \"uid\": \"49710a46-7fa0-43cf-8cf0-fbb45964d7fa\", \"x\": [[110.53625967705267]], \"xaxis\": \"x6\", \"y\": [0.0], \"yaxis\": \"y6\"}, {\"mode\": \"markers\", \"type\": \"scatter\", \"uid\": \"3be7b437-cc84-472c-b029-5d1fba5cf511\", \"x\": [1], \"xaxis\": \"x\", \"y\": [2], \"yaxis\": \"y\"}, {\"mode\": \"markers\", \"showlegend\": false, \"type\": \"scatter\", \"uid\": \"7cae2995-6f3e-4e6f-b6d4-b91ace842224\", \"x\": [[110.53626305357832]], \"xaxis\": \"x\", \"y\": [[39.50380990944347]], \"yaxis\": \"y\"}, {\"mode\": \"markers\", \"showlegend\": false, \"type\": \"scatter\", \"uid\": \"3c42f2c0-7077-466b-a7f0-4c28f1b758d6\", \"x\": [[110.53626305357832]], \"xaxis\": \"x4\", \"y\": [0.00196927673981382], \"yaxis\": \"y4\"}, {\"mode\": \"markers\", \"showlegend\": false, \"type\": \"scatter\", \"uid\": \"33e3a70d-e508-46f7-b7a2-231f629ff8e2\", \"x\": [[110.53626305357832]], \"xaxis\": \"x5\", \"y\": [0.7264522577087836], \"yaxis\": \"y5\"}, {\"mode\": \"markers\", \"showlegend\": false, \"type\": \"scatter\", \"uid\": \"bb7594c3-2f5a-49fa-942f-79bb5b34c79f\", \"x\": [[110.53626305357832]], \"xaxis\": \"x6\", \"y\": [0.0], \"yaxis\": \"y6\"}, {\"mode\": \"markers\", \"type\": \"scatter\", \"uid\": \"3c2c3b0b-de7d-4bfe-9862-efe898a45259\", \"x\": [1], \"xaxis\": \"x\", \"y\": [2], \"yaxis\": \"y\"}, {\"mode\": \"markers\", \"showlegend\": false, \"type\": \"scatter\", \"uid\": \"38534ed1-ac26-4fd8-8f3c-761d3d1aacbe\", \"x\": [[108.93884702001263]], \"xaxis\": \"x\", \"y\": [[33.64231665923717]], \"yaxis\": \"y\"}, {\"mode\": \"markers\", \"showlegend\": false, \"type\": \"scatter\", \"uid\": \"17459f86-6d8b-4617-b79a-ff202503fe9a\", \"x\": [[108.93884702001263]], \"xaxis\": \"x4\", \"y\": [0.9977669530887189], \"yaxis\": \"y4\"}, {\"mode\": \"markers\", \"showlegend\": false, \"type\": \"scatter\", \"uid\": \"f435a998-2c30-4b36-bbd4-a4bcb7822b01\", \"x\": [[108.93884702001263]], \"xaxis\": \"x5\", \"y\": [0.6518987352336586], \"yaxis\": \"y5\"}, {\"mode\": \"markers\", \"showlegend\": false, \"type\": \"scatter\", \"uid\": \"64355621-c322-475f-9e0e-a4131d651fd3\", \"x\": [[108.93884702001263]], \"xaxis\": \"x6\", \"y\": [0.5694719531023168], \"yaxis\": \"y6\"}, {\"mode\": \"markers\", \"type\": \"scatter\", \"uid\": \"0681642b-a061-4a27-af38-56e89407ecf3\", \"x\": [1], \"xaxis\": \"x\", \"y\": [2], \"yaxis\": \"y\"}, {\"mode\": \"markers\", \"showlegend\": false, \"type\": \"scatter\", \"uid\": \"da031d4f-a8b4-4981-b177-b0780c836f5d\", \"x\": [[108.93884528304402]], \"xaxis\": \"x\", \"y\": [[39.50349044505373]], \"yaxis\": \"y\"}, {\"mode\": \"markers\", \"showlegend\": false, \"type\": \"scatter\", \"uid\": \"4bfd78e6-23d0-4b19-a848-b656f65b798f\", \"x\": [[108.93884528304402]], \"xaxis\": \"x4\", \"y\": [0.9953637170365479], \"yaxis\": \"y4\"}, {\"mode\": \"markers\", \"showlegend\": false, \"type\": \"scatter\", \"uid\": \"d4a4a94e-a14b-45dc-9697-668402efdca0\", \"x\": [[108.93884528304402]], \"xaxis\": \"x5\", \"y\": [0.5629575760169289], \"yaxis\": \"y5\"}, {\"mode\": \"markers\", \"showlegend\": false, \"type\": \"scatter\", \"uid\": \"e79c8818-c631-4b9c-a6f5-b1f0390037fb\", \"x\": [[108.93884528304402]], \"xaxis\": \"x6\", \"y\": [0.5486839306200055], \"yaxis\": \"y6\"}, {\"mode\": \"markers\", \"type\": \"scatter\", \"uid\": \"1a66218f-8331-40a4-be7b-b393b454cca0\", \"x\": [1], \"xaxis\": \"x\", \"y\": [2], \"yaxis\": \"y\"}, {\"mode\": \"markers\", \"showlegend\": false, \"type\": \"scatter\", \"uid\": \"4d438a4d-2527-4e3a-aa5f-f5cf7f672c30\", \"x\": [[110.53625967705267]], \"xaxis\": \"x\", \"y\": [[39.50349384741031]], \"yaxis\": \"y\"}, {\"mode\": \"markers\", \"showlegend\": false, \"type\": \"scatter\", \"uid\": \"2d0e75a4-6d1d-47b5-b883-92af8f59875a\", \"x\": [[110.53625967705267]], \"xaxis\": \"x4\", \"y\": [0.0], \"yaxis\": \"y4\"}, {\"mode\": \"markers\", \"showlegend\": false, \"type\": \"scatter\", \"uid\": \"34ee2a56-bb31-46e4-bf16-2ca0bec73d07\", \"x\": [[110.53625967705267]], \"xaxis\": \"x5\", \"y\": [0.7264988922190966], \"yaxis\": \"y5\"}, {\"mode\": \"markers\", \"showlegend\": false, \"type\": \"scatter\", \"uid\": \"a9e5e3b7-0d61-4a80-8980-8c371f347357\", \"x\": [[110.53625967705267]], \"xaxis\": \"x6\", \"y\": [0.0], \"yaxis\": \"y6\"}, {\"mode\": \"markers\", \"type\": \"scatter\", \"uid\": \"ead15cc3-b880-4135-903a-274e726491ee\", \"x\": [1], \"xaxis\": \"x\", \"y\": [2], \"yaxis\": \"y\"}, {\"mode\": \"markers\", \"showlegend\": false, \"type\": \"scatter\", \"uid\": \"8e93a79f-44a1-4834-8fad-598d982932f0\", \"x\": [[110.53626305357832]], \"xaxis\": \"x\", \"y\": [[39.50380990944347]], \"yaxis\": \"y\"}, {\"mode\": \"markers\", \"showlegend\": false, \"type\": \"scatter\", \"uid\": \"19a73d07-819d-477e-b3ca-717549433728\", \"x\": [[110.53626305357832]], \"xaxis\": \"x4\", \"y\": [0.00196927673981382], \"yaxis\": \"y4\"}, {\"mode\": \"markers\", \"showlegend\": false, \"type\": \"scatter\", \"uid\": \"77fff692-8016-4c21-8f44-10e8c5aadc63\", \"x\": [[110.53626305357832]], \"xaxis\": \"x5\", \"y\": [0.7264522577087836], \"yaxis\": \"y5\"}, {\"mode\": \"markers\", \"showlegend\": false, \"type\": \"scatter\", \"uid\": \"a164c78a-9fec-4f00-b5da-48c5b5748c11\", \"x\": [[110.53626305357832]], \"xaxis\": \"x6\", \"y\": [0.0], \"yaxis\": \"y6\"}, {\"mode\": \"markers\", \"type\": \"scatter\", \"uid\": \"330917e4-b441-4ceb-bfee-2b4997d7f235\", \"x\": [1], \"xaxis\": \"x\", \"y\": [2], \"yaxis\": \"y\"}, {\"mode\": \"markers\", \"showlegend\": false, \"type\": \"scatter\", \"uid\": \"b997999f-5dba-42e2-87c7-a66a4d5d8bef\", \"x\": [[108.93884702001263]], \"xaxis\": \"x\", \"y\": [[33.64231665923717]], \"yaxis\": \"y\"}, {\"mode\": \"markers\", \"showlegend\": false, \"type\": \"scatter\", \"uid\": \"ba0a6de3-156c-4554-a309-9e36a5b058e6\", \"x\": [[108.93884702001263]], \"xaxis\": \"x4\", \"y\": [0.9977669530887189], \"yaxis\": \"y4\"}, {\"mode\": \"markers\", \"showlegend\": false, \"type\": \"scatter\", \"uid\": \"91053e9d-e168-4191-b7fc-0fdfa869f80d\", \"x\": [[[108.93884702001263]]], \"xaxis\": \"x5\", \"y\": [0.6518987352336586], \"yaxis\": \"y5\"}, {\"mode\": \"markers\", \"showlegend\": false, \"type\": \"scatter\", \"uid\": \"b87a4b3d-7474-4112-81db-222e9643b3db\", \"x\": [[108.93884702001263]], \"xaxis\": \"x6\", \"y\": [0.5694719531023168], \"yaxis\": \"y6\"}, {\"mode\": \"markers\", \"type\": \"scatter\", \"uid\": \"388e00df-7ace-428d-8789-c9e434e624f2\", \"x\": [1], \"xaxis\": \"x\", \"y\": [2], \"yaxis\": \"y\"}, {\"mode\": \"markers\", \"showlegend\": false, \"type\": \"scatter\", \"uid\": \"49b80c22-6267-47a1-b9bf-ece65c34a500\", \"x\": [[108.93884528304402]], \"xaxis\": \"x\", \"y\": [[39.50349044505373]], \"yaxis\": \"y\"}, {\"mode\": \"markers\", \"showlegend\": false, \"type\": \"scatter\", \"uid\": \"d685c2ad-30ef-4266-9641-6e5b8321b594\", \"x\": [[108.93884528304402]], \"xaxis\": \"x4\", \"y\": [0.9953637170365479], \"yaxis\": \"y4\"}, {\"mode\": \"markers\", \"showlegend\": false, \"type\": \"scatter\", \"uid\": \"ef192c34-9f50-471e-af89-0963abb4212b\", \"x\": [[[108.93884528304402]]], \"xaxis\": \"x5\", \"y\": [0.5629575760169289], \"yaxis\": \"y5\"}, {\"mode\": \"markers\", \"showlegend\": false, \"type\": \"scatter\", \"uid\": \"7d1271f1-972b-4903-97b5-e7c472f322c1\", \"x\": [[108.93884528304402]], \"xaxis\": \"x6\", \"y\": [0.5486839306200055], \"yaxis\": \"y6\"}, {\"mode\": \"markers\", \"type\": \"scatter\", \"uid\": \"1ec96ef6-2cdf-47cf-9b66-a21ec8476878\", \"x\": [1], \"xaxis\": \"x\", \"y\": [2], \"yaxis\": \"y\"}, {\"mode\": \"markers\", \"showlegend\": false, \"type\": \"scatter\", \"uid\": \"fd198cc8-3624-4af1-ae2e-068dca6f81cb\", \"x\": [[110.53625967705267]], \"xaxis\": \"x\", \"y\": [[39.50349384741031]], \"yaxis\": \"y\"}, {\"mode\": \"markers\", \"showlegend\": false, \"type\": \"scatter\", \"uid\": \"7346a7eb-d86c-47ca-aecb-33cf357ebaa1\", \"x\": [[110.53625967705267]], \"xaxis\": \"x4\", \"y\": [0.0], \"yaxis\": \"y4\"}, {\"mode\": \"markers\", \"showlegend\": false, \"type\": \"scatter\", \"uid\": \"fc2ea1bb-a1ef-4ca1-8f79-e6023e17af41\", \"x\": [[[110.53625967705267]]], \"xaxis\": \"x5\", \"y\": [0.7264988922190966], \"yaxis\": \"y5\"}, {\"mode\": \"markers\", \"showlegend\": false, \"type\": \"scatter\", \"uid\": \"881abd9a-d8d4-49d3-b1c7-1c3b79d973ac\", \"x\": [[110.53625967705267]], \"xaxis\": \"x6\", \"y\": [0.0], \"yaxis\": \"y6\"}, {\"mode\": \"markers\", \"type\": \"scatter\", \"uid\": \"386eed7c-282a-4c35-8a01-a0eb996a481c\", \"x\": [1], \"xaxis\": \"x\", \"y\": [2], \"yaxis\": \"y\"}, {\"mode\": \"markers\", \"showlegend\": false, \"type\": \"scatter\", \"uid\": \"b5d69b69-3215-4b9e-af8f-be1613231bc9\", \"x\": [[110.53626305357832]], \"xaxis\": \"x\", \"y\": [[39.50380990944347]], \"yaxis\": \"y\"}, {\"mode\": \"markers\", \"showlegend\": false, \"type\": \"scatter\", \"uid\": \"f5afbd05-85e7-467d-8c02-4e8641a1430c\", \"x\": [[110.53626305357832]], \"xaxis\": \"x4\", \"y\": [0.00196927673981382], \"yaxis\": \"y4\"}, {\"mode\": \"markers\", \"showlegend\": false, \"type\": \"scatter\", \"uid\": \"f78fec98-b510-44f9-b1e3-70df8493c797\", \"x\": [[[110.53626305357832]]], \"xaxis\": \"x5\", \"y\": [0.7264522577087836], \"yaxis\": \"y5\"}, {\"mode\": \"markers\", \"showlegend\": false, \"type\": \"scatter\", \"uid\": \"9129cd43-54a0-4bab-a7b2-4052c4238362\", \"x\": [[110.53626305357832]], \"xaxis\": \"x6\", \"y\": [0.0], \"yaxis\": \"y6\"}, {\"mode\": \"markers\", \"type\": \"scatter\", \"uid\": \"c754638d-eb4e-4536-8ab9-e6e792748b16\", \"x\": [1], \"xaxis\": \"x\", \"y\": [2], \"yaxis\": \"y\"}, {\"mode\": \"markers\", \"showlegend\": false, \"type\": \"scatter\", \"uid\": \"7ff8cc63-68b4-4c8b-95e2-5722e8072930\", \"x\": [[108.93884702001263]], \"xaxis\": \"x\", \"y\": [[33.64231665923717]], \"yaxis\": \"y\"}, {\"mode\": \"markers\", \"showlegend\": false, \"type\": \"scatter\", \"uid\": \"5f98902c-e5dc-4f37-bf38-98ae568cb1dc\", \"x\": [[108.93884702001263]], \"xaxis\": \"x4\", \"y\": [0.9977669530887189], \"yaxis\": \"y4\"}, {\"mode\": \"markers\", \"type\": \"scatter\", \"uid\": \"ac1637a9-6a8c-434d-b0a2-e546b4f063a4\", \"x\": [[[108.93884702001263]]], \"xaxis\": \"x5\", \"y\": [0.6518987352336586], \"yaxis\": \"y5\"}, {\"mode\": \"markers\", \"showlegend\": false, \"type\": \"scatter\", \"uid\": \"3e6aa904-5a58-4dfd-9247-a2ff1d46a39d\", \"x\": [[108.93884702001263]], \"xaxis\": \"x6\", \"y\": [0.5694719531023168], \"yaxis\": \"y6\"}, {\"mode\": \"markers\", \"type\": \"scatter\", \"uid\": \"3a9c22ad-1055-4652-8cbe-bb05a46925be\", \"x\": [1], \"xaxis\": \"x\", \"y\": [2], \"yaxis\": \"y\"}, {\"mode\": \"markers\", \"showlegend\": false, \"type\": \"scatter\", \"uid\": \"c5d6e6d6-d9c1-47f9-85a8-2f2fffa0523a\", \"x\": [[108.93884528304402]], \"xaxis\": \"x\", \"y\": [[39.50349044505373]], \"yaxis\": \"y\"}, {\"mode\": \"markers\", \"showlegend\": false, \"type\": \"scatter\", \"uid\": \"d4db41e0-92c5-4530-bdcc-8b5c23bdadec\", \"x\": [[108.93884528304402]], \"xaxis\": \"x4\", \"y\": [0.9953637170365479], \"yaxis\": \"y4\"}, {\"mode\": \"markers\", \"type\": \"scatter\", \"uid\": \"0354b284-6059-46f9-9466-c9b48c2f9b2a\", \"x\": [[[108.93884528304402]]], \"xaxis\": \"x5\", \"y\": [0.5629575760169289], \"yaxis\": \"y5\"}, {\"mode\": \"markers\", \"showlegend\": false, \"type\": \"scatter\", \"uid\": \"3cca166e-bb9a-4d1c-a3a5-0068e44fce9d\", \"x\": [[108.93884528304402]], \"xaxis\": \"x6\", \"y\": [0.5486839306200055], \"yaxis\": \"y6\"}, {\"mode\": \"markers\", \"type\": \"scatter\", \"uid\": \"7ff6f767-c8ca-46e8-9a92-7d34a33b2e0c\", \"x\": [1], \"xaxis\": \"x\", \"y\": [2], \"yaxis\": \"y\"}, {\"mode\": \"markers\", \"showlegend\": false, \"type\": \"scatter\", \"uid\": \"2a74f0e9-d72a-458c-9013-a7b6ea9d49d5\", \"x\": [[110.53625967705267]], \"xaxis\": \"x\", \"y\": [[39.50349384741031]], \"yaxis\": \"y\"}, {\"mode\": \"markers\", \"showlegend\": false, \"type\": \"scatter\", \"uid\": \"e3aef428-609b-4965-886e-88915dfe871a\", \"x\": [[110.53625967705267]], \"xaxis\": \"x4\", \"y\": [0.0], \"yaxis\": \"y4\"}, {\"mode\": \"markers\", \"type\": \"scatter\", \"uid\": \"f4180b0d-7e08-46d8-8f19-bc6b10a33fe5\", \"x\": [[[110.53625967705267]]], \"xaxis\": \"x5\", \"y\": [0.7264988922190966], \"yaxis\": \"y5\"}, {\"mode\": \"markers\", \"showlegend\": false, \"type\": \"scatter\", \"uid\": \"33920a31-139d-46a5-a4e8-075bfa61f43c\", \"x\": [[110.53625967705267]], \"xaxis\": \"x6\", \"y\": [0.0], \"yaxis\": \"y6\"}, {\"mode\": \"markers\", \"type\": \"scatter\", \"uid\": \"5233e1a2-755b-45b4-969e-20386ce84784\", \"x\": [1], \"xaxis\": \"x\", \"y\": [2], \"yaxis\": \"y\"}, {\"mode\": \"markers\", \"showlegend\": false, \"type\": \"scatter\", \"uid\": \"3aea0110-0953-41f7-93b6-ec8db627a17e\", \"x\": [[110.53626305357832]], \"xaxis\": \"x\", \"y\": [[39.50380990944347]], \"yaxis\": \"y\"}, {\"mode\": \"markers\", \"showlegend\": false, \"type\": \"scatter\", \"uid\": \"5b7a488c-13c2-4577-aa37-a7c46db42bbc\", \"x\": [[110.53626305357832]], \"xaxis\": \"x4\", \"y\": [0.00196927673981382], \"yaxis\": \"y4\"}, {\"mode\": \"markers\", \"type\": \"scatter\", \"uid\": \"55c51cc9-47c3-4a76-831a-fde31383396e\", \"x\": [[[110.53626305357832]]], \"xaxis\": \"x5\", \"y\": [0.7264522577087836], \"yaxis\": \"y5\"}, {\"mode\": \"markers\", \"showlegend\": false, \"type\": \"scatter\", \"uid\": \"80878c06-e282-497a-8e2c-bb3e7841a6db\", \"x\": [[110.53626305357832]], \"xaxis\": \"x6\", \"y\": [0.0], \"yaxis\": \"y6\"}, {\"mode\": \"markers\", \"type\": \"scatter\", \"uid\": \"639e24b4-0fdc-41e9-b0dd-15d4b4fb5183\", \"x\": [1], \"xaxis\": \"x\", \"y\": [2], \"yaxis\": \"y\"}, {\"mode\": \"markers\", \"showlegend\": false, \"type\": \"scatter\", \"uid\": \"3a8f73e8-35d6-456e-a7ba-6ac50398ed6a\", \"x\": [[108.93884702001263]], \"xaxis\": \"x\", \"y\": [[33.64231665923717]], \"yaxis\": \"y\"}, {\"mode\": \"markers\", \"showlegend\": false, \"type\": \"scatter\", \"uid\": \"4faa79f4-af2a-4fa5-9646-c8d60f43d269\", \"x\": [[108.93884702001263]], \"xaxis\": \"x4\", \"y\": [0.9977669530887189], \"yaxis\": \"y4\"}, {\"mode\": \"markers\", \"type\": \"scatter\", \"uid\": \"3f116603-7757-4908-98f0-a33e2e0cf431\", \"x\": [[108.93884702001263]], \"xaxis\": \"x5\", \"y\": [0.6518987352336586], \"yaxis\": \"y5\"}, {\"mode\": \"markers\", \"showlegend\": false, \"type\": \"scatter\", \"uid\": \"eeb1a23d-94e8-4cef-8a0c-92156cee7ba3\", \"x\": [[108.93884702001263]], \"xaxis\": \"x6\", \"y\": [0.5694719531023168], \"yaxis\": \"y6\"}, {\"mode\": \"markers\", \"type\": \"scatter\", \"uid\": \"7bfbc4fa-338c-4d32-83c6-cec5320d1bb7\", \"x\": [1], \"xaxis\": \"x\", \"y\": [2], \"yaxis\": \"y\"}, {\"mode\": \"markers\", \"showlegend\": false, \"type\": \"scatter\", \"uid\": \"33038976-b51a-4182-937f-b98f81361ed8\", \"x\": [[108.93884528304402]], \"xaxis\": \"x\", \"y\": [[39.50349044505373]], \"yaxis\": \"y\"}, {\"mode\": \"markers\", \"showlegend\": false, \"type\": \"scatter\", \"uid\": \"7978402c-6a58-44b3-bd40-23b72f9abb15\", \"x\": [[108.93884528304402]], \"xaxis\": \"x4\", \"y\": [0.9953637170365479], \"yaxis\": \"y4\"}, {\"mode\": \"markers\", \"type\": \"scatter\", \"uid\": \"2b996528-eac5-4103-b1be-73383ebb6198\", \"x\": [[108.93884528304402]], \"xaxis\": \"x5\", \"y\": [0.5629575760169289], \"yaxis\": \"y5\"}, {\"mode\": \"markers\", \"showlegend\": false, \"type\": \"scatter\", \"uid\": \"3dc361bd-e6a8-41c6-b7fb-6df2c5bbe2dd\", \"x\": [[108.93884528304402]], \"xaxis\": \"x6\", \"y\": [0.5486839306200055], \"yaxis\": \"y6\"}, {\"mode\": \"markers\", \"type\": \"scatter\", \"uid\": \"b74695b4-1a2b-475c-be89-09a8f22d6a8d\", \"x\": [1], \"xaxis\": \"x\", \"y\": [2], \"yaxis\": \"y\"}, {\"mode\": \"markers\", \"showlegend\": false, \"type\": \"scatter\", \"uid\": \"037bd8eb-7c79-4d9e-b650-6522c52d31df\", \"x\": [[110.53625967705267]], \"xaxis\": \"x\", \"y\": [[39.50349384741031]], \"yaxis\": \"y\"}, {\"mode\": \"markers\", \"showlegend\": false, \"type\": \"scatter\", \"uid\": \"f436011d-c904-4648-a425-dd8cb4893343\", \"x\": [[110.53625967705267]], \"xaxis\": \"x4\", \"y\": [0.0], \"yaxis\": \"y4\"}, {\"mode\": \"markers\", \"type\": \"scatter\", \"uid\": \"d69824d8-0cb3-4660-a6ee-cd297ec326ac\", \"x\": [[110.53625967705267]], \"xaxis\": \"x5\", \"y\": [0.7264988922190966], \"yaxis\": \"y5\"}, {\"mode\": \"markers\", \"showlegend\": false, \"type\": \"scatter\", \"uid\": \"4836b148-c2df-4b77-b199-1e6d84f9ab7a\", \"x\": [[110.53625967705267]], \"xaxis\": \"x6\", \"y\": [0.0], \"yaxis\": \"y6\"}, {\"mode\": \"markers\", \"type\": \"scatter\", \"uid\": \"5c7af27c-3210-4026-aba2-3d4ab0c45443\", \"x\": [1], \"xaxis\": \"x\", \"y\": [2], \"yaxis\": \"y\"}, {\"mode\": \"markers\", \"showlegend\": false, \"type\": \"scatter\", \"uid\": \"97422967-0f2b-468f-9c4e-82b71b7b35d9\", \"x\": [[110.53626305357832]], \"xaxis\": \"x\", \"y\": [[39.50380990944347]], \"yaxis\": \"y\"}, {\"mode\": \"markers\", \"showlegend\": false, \"type\": \"scatter\", \"uid\": \"aa42c6a4-2b9d-447c-817f-410f4b3db314\", \"x\": [[110.53626305357832]], \"xaxis\": \"x4\", \"y\": [0.00196927673981382], \"yaxis\": \"y4\"}, {\"mode\": \"markers\", \"type\": \"scatter\", \"uid\": \"b83d2482-f35d-40be-b0c7-07a9ef937a5f\", \"x\": [[110.53626305357832]], \"xaxis\": \"x5\", \"y\": [0.7264522577087836], \"yaxis\": \"y5\"}, {\"mode\": \"markers\", \"showlegend\": false, \"type\": \"scatter\", \"uid\": \"170d23d1-508b-4759-82b5-cfc63614429f\", \"x\": [[110.53626305357832]], \"xaxis\": \"x6\", \"y\": [0.0], \"yaxis\": \"y6\"}, {\"mode\": \"markers\", \"type\": \"scatter\", \"uid\": \"ace971f9-c36a-4595-8d72-2fde33460ae9\", \"x\": [1], \"xaxis\": \"x\", \"y\": [2], \"yaxis\": \"y\"}, {\"mode\": \"markers\", \"showlegend\": false, \"type\": \"scatter\", \"uid\": \"e8682f2e-a1b4-4e13-9a90-e2a82add93f3\", \"x\": [[108.93884702001263]], \"xaxis\": \"x\", \"y\": [[33.64231665923717]], \"yaxis\": \"y\"}, {\"mode\": \"markers\", \"showlegend\": false, \"type\": \"scatter\", \"uid\": \"2b650333-b300-42b7-97f8-6f00de3f65db\", \"x\": [[108.93884702001263]], \"xaxis\": \"x4\", \"y\": [0.9977669530887189], \"yaxis\": \"y4\"}, {\"mode\": \"markers\", \"showlegend\": false, \"type\": \"scatter\", \"uid\": \"ce61ff40-8586-4462-9230-9fee7be4344e\", \"x\": [108.93884702001263], \"xaxis\": \"x4\", \"y\": [0.9977669530887189], \"yaxis\": \"y4\"}],\n",
       "                        {\"template\": {\"data\": {\"bar\": [{\"error_x\": {\"color\": \"#2a3f5f\"}, \"error_y\": {\"color\": \"#2a3f5f\"}, \"marker\": {\"line\": {\"color\": \"#E5ECF6\", \"width\": 0.5}}, \"type\": \"bar\"}], \"barpolar\": [{\"marker\": {\"line\": {\"color\": \"#E5ECF6\", \"width\": 0.5}}, \"type\": \"barpolar\"}], \"carpet\": [{\"aaxis\": {\"endlinecolor\": \"#2a3f5f\", \"gridcolor\": \"white\", \"linecolor\": \"white\", \"minorgridcolor\": \"white\", \"startlinecolor\": \"#2a3f5f\"}, \"baxis\": {\"endlinecolor\": \"#2a3f5f\", \"gridcolor\": \"white\", \"linecolor\": \"white\", \"minorgridcolor\": \"white\", \"startlinecolor\": \"#2a3f5f\"}, \"type\": \"carpet\"}], \"choropleth\": [{\"colorbar\": {\"outlinewidth\": 0, \"ticks\": \"\"}, \"type\": \"choropleth\"}], \"contour\": [{\"colorbar\": {\"outlinewidth\": 0, \"ticks\": \"\"}, \"colorscale\": [[0.0, \"#0d0887\"], [0.1111111111111111, \"#46039f\"], [0.2222222222222222, \"#7201a8\"], [0.3333333333333333, \"#9c179e\"], [0.4444444444444444, \"#bd3786\"], [0.5555555555555556, \"#d8576b\"], [0.6666666666666666, \"#ed7953\"], [0.7777777777777778, \"#fb9f3a\"], [0.8888888888888888, \"#fdca26\"], [1.0, \"#f0f921\"]], \"type\": \"contour\"}], \"contourcarpet\": [{\"colorbar\": {\"outlinewidth\": 0, \"ticks\": \"\"}, \"type\": \"contourcarpet\"}], \"heatmap\": [{\"colorbar\": {\"outlinewidth\": 0, \"ticks\": \"\"}, \"colorscale\": [[0.0, \"#0d0887\"], [0.1111111111111111, \"#46039f\"], [0.2222222222222222, \"#7201a8\"], [0.3333333333333333, \"#9c179e\"], [0.4444444444444444, \"#bd3786\"], [0.5555555555555556, \"#d8576b\"], [0.6666666666666666, \"#ed7953\"], [0.7777777777777778, \"#fb9f3a\"], [0.8888888888888888, \"#fdca26\"], [1.0, \"#f0f921\"]], \"type\": \"heatmap\"}], \"heatmapgl\": [{\"colorbar\": {\"outlinewidth\": 0, \"ticks\": \"\"}, \"colorscale\": [[0.0, \"#0d0887\"], [0.1111111111111111, \"#46039f\"], [0.2222222222222222, \"#7201a8\"], [0.3333333333333333, \"#9c179e\"], [0.4444444444444444, \"#bd3786\"], [0.5555555555555556, \"#d8576b\"], [0.6666666666666666, \"#ed7953\"], [0.7777777777777778, \"#fb9f3a\"], [0.8888888888888888, \"#fdca26\"], [1.0, \"#f0f921\"]], \"type\": \"heatmapgl\"}], \"histogram\": [{\"marker\": {\"colorbar\": {\"outlinewidth\": 0, \"ticks\": \"\"}}, \"type\": \"histogram\"}], \"histogram2d\": [{\"colorbar\": {\"outlinewidth\": 0, \"ticks\": \"\"}, \"colorscale\": [[0.0, \"#0d0887\"], [0.1111111111111111, \"#46039f\"], [0.2222222222222222, \"#7201a8\"], [0.3333333333333333, \"#9c179e\"], [0.4444444444444444, \"#bd3786\"], [0.5555555555555556, \"#d8576b\"], [0.6666666666666666, \"#ed7953\"], [0.7777777777777778, \"#fb9f3a\"], [0.8888888888888888, \"#fdca26\"], [1.0, \"#f0f921\"]], \"type\": \"histogram2d\"}], \"histogram2dcontour\": [{\"colorbar\": {\"outlinewidth\": 0, \"ticks\": \"\"}, \"colorscale\": [[0.0, \"#0d0887\"], [0.1111111111111111, \"#46039f\"], [0.2222222222222222, \"#7201a8\"], [0.3333333333333333, \"#9c179e\"], [0.4444444444444444, \"#bd3786\"], [0.5555555555555556, \"#d8576b\"], [0.6666666666666666, \"#ed7953\"], [0.7777777777777778, \"#fb9f3a\"], [0.8888888888888888, \"#fdca26\"], [1.0, \"#f0f921\"]], \"type\": \"histogram2dcontour\"}], \"mesh3d\": [{\"colorbar\": {\"outlinewidth\": 0, \"ticks\": \"\"}, \"type\": \"mesh3d\"}], \"parcoords\": [{\"line\": {\"colorbar\": {\"outlinewidth\": 0, \"ticks\": \"\"}}, \"type\": \"parcoords\"}], \"scatter\": [{\"marker\": {\"colorbar\": {\"outlinewidth\": 0, \"ticks\": \"\"}}, \"type\": \"scatter\"}], \"scatter3d\": [{\"line\": {\"colorbar\": {\"outlinewidth\": 0, \"ticks\": \"\"}}, \"marker\": {\"colorbar\": {\"outlinewidth\": 0, \"ticks\": \"\"}}, \"type\": \"scatter3d\"}], \"scattercarpet\": [{\"marker\": {\"colorbar\": {\"outlinewidth\": 0, \"ticks\": \"\"}}, \"type\": \"scattercarpet\"}], \"scattergeo\": [{\"marker\": {\"colorbar\": {\"outlinewidth\": 0, \"ticks\": \"\"}}, \"type\": \"scattergeo\"}], \"scattergl\": [{\"marker\": {\"colorbar\": {\"outlinewidth\": 0, \"ticks\": \"\"}}, \"type\": \"scattergl\"}], \"scattermapbox\": [{\"marker\": {\"colorbar\": {\"outlinewidth\": 0, \"ticks\": \"\"}}, \"type\": \"scattermapbox\"}], \"scatterpolar\": [{\"marker\": {\"colorbar\": {\"outlinewidth\": 0, \"ticks\": \"\"}}, \"type\": \"scatterpolar\"}], \"scatterpolargl\": [{\"marker\": {\"colorbar\": {\"outlinewidth\": 0, \"ticks\": \"\"}}, \"type\": \"scatterpolargl\"}], \"scatterternary\": [{\"marker\": {\"colorbar\": {\"outlinewidth\": 0, \"ticks\": \"\"}}, \"type\": \"scatterternary\"}], \"surface\": [{\"colorbar\": {\"outlinewidth\": 0, \"ticks\": \"\"}, \"colorscale\": [[0.0, \"#0d0887\"], [0.1111111111111111, \"#46039f\"], [0.2222222222222222, \"#7201a8\"], [0.3333333333333333, \"#9c179e\"], [0.4444444444444444, \"#bd3786\"], [0.5555555555555556, \"#d8576b\"], [0.6666666666666666, \"#ed7953\"], [0.7777777777777778, \"#fb9f3a\"], [0.8888888888888888, \"#fdca26\"], [1.0, \"#f0f921\"]], \"type\": \"surface\"}], \"table\": [{\"cells\": {\"fill\": {\"color\": \"#EBF0F8\"}, \"line\": {\"color\": \"white\"}}, \"header\": {\"fill\": {\"color\": \"#C8D4E3\"}, \"line\": {\"color\": \"white\"}}, \"type\": \"table\"}]}, \"layout\": {\"annotationdefaults\": {\"arrowcolor\": \"#2a3f5f\", \"arrowhead\": 0, \"arrowwidth\": 1}, \"colorscale\": {\"diverging\": [[0, \"#8e0152\"], [0.1, \"#c51b7d\"], [0.2, \"#de77ae\"], [0.3, \"#f1b6da\"], [0.4, \"#fde0ef\"], [0.5, \"#f7f7f7\"], [0.6, \"#e6f5d0\"], [0.7, \"#b8e186\"], [0.8, \"#7fbc41\"], [0.9, \"#4d9221\"], [1, \"#276419\"]], \"sequential\": [[0.0, \"#0d0887\"], [0.1111111111111111, \"#46039f\"], [0.2222222222222222, \"#7201a8\"], [0.3333333333333333, \"#9c179e\"], [0.4444444444444444, \"#bd3786\"], [0.5555555555555556, \"#d8576b\"], [0.6666666666666666, \"#ed7953\"], [0.7777777777777778, \"#fb9f3a\"], [0.8888888888888888, \"#fdca26\"], [1.0, \"#f0f921\"]], \"sequentialminus\": [[0.0, \"#0d0887\"], [0.1111111111111111, \"#46039f\"], [0.2222222222222222, \"#7201a8\"], [0.3333333333333333, \"#9c179e\"], [0.4444444444444444, \"#bd3786\"], [0.5555555555555556, \"#d8576b\"], [0.6666666666666666, \"#ed7953\"], [0.7777777777777778, \"#fb9f3a\"], [0.8888888888888888, \"#fdca26\"], [1.0, \"#f0f921\"]]}, \"colorway\": [\"#636efa\", \"#EF553B\", \"#00cc96\", \"#ab63fa\", \"#FFA15A\", \"#19d3f3\", \"#FF6692\", \"#B6E880\", \"#FF97FF\", \"#FECB52\"], \"font\": {\"color\": \"#2a3f5f\"}, \"geo\": {\"bgcolor\": \"white\", \"lakecolor\": \"white\", \"landcolor\": \"#E5ECF6\", \"showlakes\": true, \"showland\": true, \"subunitcolor\": \"white\"}, \"hoverlabel\": {\"align\": \"left\"}, \"hovermode\": \"closest\", \"mapbox\": {\"style\": \"light\"}, \"paper_bgcolor\": \"white\", \"plot_bgcolor\": \"#E5ECF6\", \"polar\": {\"angularaxis\": {\"gridcolor\": \"white\", \"linecolor\": \"white\", \"ticks\": \"\"}, \"bgcolor\": \"#E5ECF6\", \"radialaxis\": {\"gridcolor\": \"white\", \"linecolor\": \"white\", \"ticks\": \"\"}}, \"scene\": {\"xaxis\": {\"backgroundcolor\": \"#E5ECF6\", \"gridcolor\": \"white\", \"gridwidth\": 2, \"linecolor\": \"white\", \"showbackground\": true, \"ticks\": \"\", \"zerolinecolor\": \"white\"}, \"yaxis\": {\"backgroundcolor\": \"#E5ECF6\", \"gridcolor\": \"white\", \"gridwidth\": 2, \"linecolor\": \"white\", \"showbackground\": true, \"ticks\": \"\", \"zerolinecolor\": \"white\"}, \"zaxis\": {\"backgroundcolor\": \"#E5ECF6\", \"gridcolor\": \"white\", \"gridwidth\": 2, \"linecolor\": \"white\", \"showbackground\": true, \"ticks\": \"\", \"zerolinecolor\": \"white\"}}, \"shapedefaults\": {\"line\": {\"color\": \"#2a3f5f\"}}, \"ternary\": {\"aaxis\": {\"gridcolor\": \"white\", \"linecolor\": \"white\", \"ticks\": \"\"}, \"baxis\": {\"gridcolor\": \"white\", \"linecolor\": \"white\", \"ticks\": \"\"}, \"bgcolor\": \"#E5ECF6\", \"caxis\": {\"gridcolor\": \"white\", \"linecolor\": \"white\", \"ticks\": \"\"}}, \"title\": {\"x\": 0.05}, \"xaxis\": {\"automargin\": true, \"gridcolor\": \"white\", \"linecolor\": \"white\", \"ticks\": \"\", \"zerolinecolor\": \"white\", \"zerolinewidth\": 2}, \"yaxis\": {\"automargin\": true, \"gridcolor\": \"white\", \"linecolor\": \"white\", \"ticks\": \"\", \"zerolinecolor\": \"white\", \"zerolinewidth\": 2}}}, \"xaxis\": {\"anchor\": \"y\", \"domain\": [0.0, 0.2888888888888889]}, \"xaxis2\": {\"anchor\": \"y2\", \"domain\": [0.35555555555555557, 0.6444444444444445]}, \"xaxis3\": {\"anchor\": \"y3\", \"domain\": [0.7111111111111111, 1.0]}, \"xaxis4\": {\"anchor\": \"y4\", \"domain\": [0.0, 0.2888888888888889]}, \"xaxis5\": {\"anchor\": \"y5\", \"domain\": [0.35555555555555557, 0.6444444444444445]}, \"xaxis6\": {\"anchor\": \"y6\", \"domain\": [0.7111111111111111, 1.0]}, \"yaxis\": {\"anchor\": \"x\", \"domain\": [0.575, 1.0]}, \"yaxis2\": {\"anchor\": \"x2\", \"domain\": [0.575, 1.0]}, \"yaxis3\": {\"anchor\": \"x3\", \"domain\": [0.575, 1.0]}, \"yaxis4\": {\"anchor\": \"x4\", \"domain\": [0.0, 0.425]}, \"yaxis5\": {\"anchor\": \"x5\", \"domain\": [0.0, 0.425]}, \"yaxis6\": {\"anchor\": \"x6\", \"domain\": [0.0, 0.425]}},\n",
       "                        {\"responsive\": true}\n",
       "                    ).then(function(){\n",
       "                            \n",
       "var gd = document.getElementById('fac5642b-c347-4d90-8dc5-926b5da8a1bb');\n",
       "var x = new MutationObserver(function (mutations, observer) {{\n",
       "        var display = window.getComputedStyle(gd).display;\n",
       "        if (!display || display === 'none') {{\n",
       "            console.log([gd, 'removed!']);\n",
       "            Plotly.purge(gd);\n",
       "            observer.disconnect();\n",
       "        }}\n",
       "}});\n",
       "\n",
       "// Listen for the removal of the full notebook cells\n",
       "var notebookContainer = gd.closest('#notebook-container');\n",
       "if (notebookContainer) {{\n",
       "    x.observe(notebookContainer, {childList: true});\n",
       "}}\n",
       "\n",
       "// Listen for the clearing of the current output cell\n",
       "var outputEl = gd.closest('.output');\n",
       "if (outputEl) {{\n",
       "    x.observe(outputEl, {childList: true});\n",
       "}}\n",
       "\n",
       "                        })\n",
       "                };\n",
       "                });\n",
       "            </script>\n",
       "        </div>"
      ]
     },
     "metadata": {},
     "output_type": "display_data"
    }
   ],
   "source": [
    "fig.show()"
   ]
  },
  {
   "cell_type": "code",
   "execution_count": null,
   "metadata": {
    "pycharm": {
     "is_executing": true
    }
   },
   "outputs": [],
   "source": [
    "[pv_rev_d, pv_util_d, tk_d, tl_d, tc_d] = result_array.tolist()"
   ]
  },
  {
   "cell_type": "markdown",
   "metadata": {},
   "source": [
    "# 3 Postprocessing"
   ]
  },
  {
   "cell_type": "code",
   "execution_count": 1,
   "metadata": {},
   "outputs": [
    {
     "ename": "NameError",
     "evalue": "name 'result_array' is not defined",
     "output_type": "error",
     "traceback": [
      "\u001b[1;31m---------------------------------------------------------------------------\u001b[0m",
      "\u001b[1;31mNameError\u001b[0m                                 Traceback (most recent call last)",
      "\u001b[1;32m<ipython-input-1-28355e93cc8c>\u001b[0m in \u001b[0;36m<module>\u001b[1;34m\u001b[0m\n\u001b[1;32m----> 1\u001b[1;33m \u001b[1;33m[\u001b[0m\u001b[0mpv_rev_d\u001b[0m\u001b[1;33m,\u001b[0m \u001b[0mpv_util_d\u001b[0m\u001b[1;33m,\u001b[0m \u001b[0mtk_d\u001b[0m\u001b[1;33m,\u001b[0m \u001b[0mtl_d\u001b[0m\u001b[1;33m,\u001b[0m \u001b[0mtc_d\u001b[0m\u001b[1;33m]\u001b[0m \u001b[1;33m=\u001b[0m \u001b[0mresult_array\u001b[0m\u001b[1;33m.\u001b[0m\u001b[0mtolist\u001b[0m\u001b[1;33m(\u001b[0m\u001b[1;33m)\u001b[0m\u001b[1;33m\u001b[0m\u001b[1;33m\u001b[0m\u001b[0m\n\u001b[0m\u001b[0;32m      2\u001b[0m plot_frontier(pv_rev_d, pv_util_d, tk_d, tl_d, tc_d, conf,\n\u001b[0;32m      3\u001b[0m                   \u001b[0mtimestr\u001b[0m \u001b[1;33m+\u001b[0m \u001b[1;34m\"_gamma_\"\u001b[0m \u001b[1;33m+\u001b[0m \u001b[0mstr\u001b[0m\u001b[1;33m(\u001b[0m\u001b[0mconf\u001b[0m\u001b[1;33m[\u001b[0m\u001b[1;34m'gamma'\u001b[0m\u001b[1;33m]\u001b[0m\u001b[1;33m)\u001b[0m \u001b[1;33m+\u001b[0m \u001b[1;34m\"_eta_\"\u001b[0m \u001b[1;33m+\u001b[0m\u001b[1;33m\u001b[0m\u001b[1;33m\u001b[0m\u001b[0m\n\u001b[0;32m      4\u001b[0m                   str(conf[\"eta\"]) + \"_tax_setting_\" + str(conf[\"tax_setting\"]))\n",
      "\u001b[1;31mNameError\u001b[0m: name 'result_array' is not defined"
     ]
    }
   ],
   "source": [
    "[pv_rev_d, pv_util_d, tk_d, tl_d, tc_d] = result_array.tolist()\n",
    "plot_frontier(pv_rev_d, pv_util_d, tk_d, tl_d, tc_d, conf,\n",
    "                  timestr + \"_gamma_\" + str(conf['gamma']) + \"_eta_\" +\n",
    "                  str(conf[\"eta\"]) + \"_tax_setting_\" + str(conf[\"tax_setting\"]))"
   ]
  },
  {
   "cell_type": "code",
   "execution_count": 20,
   "metadata": {},
   "outputs": [
    {
     "data": {
      "text/plain": [
       "[0.0]"
      ]
     },
     "execution_count": 20,
     "metadata": {},
     "output_type": "execute_result"
    }
   ],
   "source": [
    "tc_global"
   ]
  },
  {
   "cell_type": "code",
   "execution_count": null,
   "metadata": {},
   "outputs": [],
   "source": []
  }
 ],
 "metadata": {
  "kernelspec": {
   "display_name": "Python 3",
   "language": "python",
   "name": "python3"
  },
  "language_info": {
   "codemirror_mode": {
    "name": "ipython",
    "version": 3
   },
   "file_extension": ".py",
   "mimetype": "text/x-python",
   "name": "python",
   "nbconvert_exporter": "python",
   "pygments_lexer": "ipython3",
   "version": "3.6.8"
  },
  "pycharm": {
   "stem_cell": {
    "cell_type": "raw",
    "metadata": {
     "collapsed": false
    },
    "source": []
   }
  }
 },
 "nbformat": 4,
 "nbformat_minor": 4
}
