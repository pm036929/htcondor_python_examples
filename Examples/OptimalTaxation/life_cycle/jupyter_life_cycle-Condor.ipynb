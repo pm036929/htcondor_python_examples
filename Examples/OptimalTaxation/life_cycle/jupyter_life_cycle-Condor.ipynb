{
 "cells": [
  {
   "cell_type": "markdown",
   "metadata": {},
   "source": [
    "# 0 Load required packages"
   ]
  },
  {
   "cell_type": "code",
   "execution_count": 38,
   "metadata": {},
   "outputs": [],
   "source": [
    "# External dependencies\n",
    "import time\n",
    "from casadi import *\n",
    "from plot_efficient_frontier import plot_frontier_carlos as plot_frontier\n",
    "\n",
    "# Internal dependencies\n",
    "import life_cycle_gradient_descent \n",
    "from main import execute_moo_optimization\n",
    "\n",
    "import htcondor\n",
    "import htmap\n",
    "\n",
    "import time\n",
    "import itertools\n",
    "\n",
    "import pathlib"
   ]
  },
  {
   "cell_type": "code",
   "execution_count": null,
   "metadata": {},
   "outputs": [],
   "source": [
    "htmap.settings['DELIVERY_METHOD'] = 'assume'"
   ]
  },
  {
   "cell_type": "code",
   "execution_count": 24,
   "metadata": {},
   "outputs": [],
   "source": [
    "htmap.settings['fixed_input_files'] = 'htmap.TransferPath().cwd()'+'/life_cycle_gradient_descent.py'"
   ]
  },
  {
   "cell_type": "code",
   "execution_count": 25,
   "metadata": {},
   "outputs": [],
   "source": [
    "bye_path = htmap.TransferPath().cwd()"
   ]
  },
  {
   "cell_type": "code",
   "execution_count": 26,
   "metadata": {},
   "outputs": [
    {
     "name": "stdout",
     "output_type": "stream",
     "text": [
      "/mnt/d/git_repos/optimal_taxation/python/life_cycle\n"
     ]
    }
   ],
   "source": [
    "print(bye_path)"
   ]
  },
  {
   "cell_type": "markdown",
   "metadata": {},
   "source": [
    "# 1 Set up life-cycle environment "
   ]
  },
  {
   "cell_type": "markdown",
   "metadata": {},
   "source": [
    "### 1.2 Set environment parameter"
   ]
  },
  {
   "cell_type": "code",
   "execution_count": 78,
   "metadata": {},
   "outputs": [],
   "source": [
    "conf = {\n",
    "        'tax_setting': 5,       # tax setting: see below for detailed explanation\n",
    "        'beta': 0.95,           # Utility discounting\n",
    "        'r_debt': 0.15,         # debt interest rate\n",
    "        'r': 0.1,\n",
    "        'T': 60,                # agent's maturity\n",
    "        'T_ret': 45,            # retirement age\n",
    "        'L_max': 10,            # maximum labour \n",
    "        'gamma': [0.5],         # Agent's utility from consumption\n",
    "        'eta': [1],             # Agent's disutility from labour\n",
    "        'plot': False,\n",
    "        'plot_steps': False,\n",
    "        'plot_GD_steps': False,\n",
    "        'h': 1E-6,              # step size finite difference \n",
    "        'n_steps_max': 30,      # max number of steps for 1 point on pareto frontier\n",
    "        'k_max': 20,            # max number of steps for bi-linear search\n",
    "        'tol': 1E-8,            # tolerance TODO explanation\n",
    "        'tol_line_search': 1E-8,# tolerance to abort line search\n",
    "        'serial': False,\n",
    "        'max_debt': 2,\n",
    "        'costb': 0.02,\n",
    "        'borrowing': np.inf,     # np.inf -> allow unlimited borrowing // 0 -> allow no borrowing\n",
    "        'n_starting_points': 200 # number of starting points for \"frontier searching\"\n",
    "        }"
   ]
  },
  {
   "cell_type": "markdown",
   "metadata": {},
   "source": [
    "# tax settings:\n",
    "\n",
    "* 1 - capital tax and income tax\n",
    "* 2 - income tax // NOT possible\n",
    "* 3 - capital tax = income tax // NOT possible\n",
    "* 4 - capital tax = income tax, consumption tax\n",
    "* 5 - capital tax, income tax, consumption tax\n"
   ]
  },
  {
   "cell_type": "markdown",
   "metadata": {},
   "source": [
    "# 2 Execute MOO optimization"
   ]
  },
  {
   "cell_type": "code",
   "execution_count": 79,
   "metadata": {},
   "outputs": [
    {
     "name": "stdout",
     "output_type": "stream",
     "text": [
      "created map firm-dry-robe with 11 components\n",
      "[([DM(29.1924), DM(54.3413), DM(59.195), DM(38.0749), DM(47.5222), DM(58.9433), DM(28.797), DM(51.521), DM(52.036), DM(51.0613), DM(50.1826), DM(46.9118)], [DM(96.5539), DM(66.852), DM(52.2855), DM(88.3633), DM(77.5955), DM(53.7673), DM(96.8901), DM(71.8161), DM(70.9803), DM(72.541), DM(73.8769), DM(78.3919)], [0.0015694972026943615, 0.00215657369913184, 0.0026826749933446525, 0.0016905816560363414, 0.0018909645528961162, 0.002617279890771636, 0.001565004728479717, 0.002023993832838483, 0.0020450322289460266, 0.002006137224612608, 0.0019741575374469813, 0.0018741918207035582], [0.25361438141979875, 0.5696489471769782, 0.7021276576673816, 0.3464376300259766, 0.46203877860297055, 0.6894033085740051, 0.24971743601254062, 0.5209220949178324, 0.5292475192478123, 0.5136617340280083, 0.5001868680943709, 0.4537481313347649], [0.0, 0.0, 0.0, 0.0, 0.0, 0.0, 0.0, 0.0, 0.0, 0.0, 0.0, 0.0], {'util': [], 'rev': [], 'tax_rates': []}), ([DM(30.9131), DM(48.1075), DM(41.682), DM(49.6855), DM(58.2495), DM(58.7466)], [DM(95.0661), DM(76.8138), DM(84.5845), DM(74.6063), DM(56.8139), DM(54.7438)], [0.0015898303335302622, 0.0019077702872049179, 0.0017548561586187821, 0.0019571683499136436, 0.0024924783493151304, 0.0025759088362890506], [0.2707792828396911, 0.47013525348156027, 0.38785685299597944, 0.4927778136399319, 0.662689698832482, 0.6809206081551378], [0.0, 0.0, 0.0, 0.0, 0.0, 0.0], []), ([DM(49.4487), DM(50.3956), DM(52.3393), DM(41.8209), DM(57.8917), DM(58.672), DM(55.4433)], [DM(74.9477), DM(73.5586), DM(70.4753), DM(84.4321), DM(58.0822), DM(55.0853), DM(64.5704)], [0.0019493463136939827, 0.0019816660192609453, 0.002057984087653641, 0.0017575773161409027, 0.002444044975569596, 0.002561753627235236, 0.0022241932587650044], [0.4892978714996832, 0.5034082564094358, 0.5342540284719615, 0.389508174470498, 0.651354758316388, 0.6779364193468869, 0.5914543305205328], [0.0, 0.0, 0.0, 0.0, 0.0, 0.0, 0.0], {'util': [], 'rev': [], 'tax_rates': []}), ([DM(45.5005), DM(54.342), DM(57.9974), DM(49.9183)], [DM(80.1664), DM(66.8507), DM(57.7221), DM(74.267)], [0.001838050331460258, 0.0021566117284914908, 0.002457598588581352, 0.0019650272806254017], [0.435122962682216, 0.5696617586796993, 0.654585943566563, 0.49622927447295406], [0.0, 0.0, 0.0, 0.0], {'util': [], 'rev': [], 'tax_rates': []}), ([DM(41.7068), DM(35.3232), DM(46.821), DM(50.5421), DM(28.8711), DM(37.9612), DM(44.2223), DM(46.5899), DM(50.3511)], [DM(84.5574), DM(91.0477), DM(78.5088), DM(73.3379), DM(96.8273), DM(88.4773), DM(81.7021), DM(78.8045), DM(73.6254)], [0.0017553397835629746, 0.0016483343721993187, 0.0018717674640992242, 0.001986915249577306, 0.0015658280702904735, 0.001688731682438646, 0.00180807229475796, 0.0018656374107014462, 0.001980082753547227], [0.3881512094913583, 0.3164698252700613, 0.4525273881145285, 0.5056384607854499, 0.25044580815891065, 0.34517460339774864, 0.41883741547433745, 0.44943583987593927, 0.5027324863623872], [0.0, 0.0, 0.0, 0.0, 0.0, 0.0, 0.0, 0.0, 0.0], {'util': [], 'rev': [], 'tax_rates': []}), ([DM(58.8675), DM(51.0044), DM(41.9825), DM(58.3863), DM(41.9941)], [DM(54.1582), DM(72.6295), DM(84.2541), DM(56.2869), DM(84.2414)], [0.00260117704754001, 0.0020039797460443994, 0.0017607631085962917, 0.0025131945850651685, 0.0017609924350825703], [0.6860163391494227, 0.5127728217785384, 0.3914348155425238, 0.6673636454939438, 0.39157278827490594], [0.0, 0.0, 0.0, 0.0, 0.0], {'util': [], 'rev': [], 'tax_rates': []}), ([DM(46.7998), DM(58.4709), DM(51.5765), DM(53.4183)], [DM(78.5361), DM(55.9467), DM(71.7273), DM(68.5918)], [0.0018711910155312483, 0.0025267605346458418, 0.002026203380824328, 0.0021079573987424567], [0.4522421663930373, 0.6703682170544206, 0.5218082227911637, 0.5527700320558696], [0.0, 0.0, 0.0, 0.0], []), ([DM(57.4493), DM(50.9517), DM(57.8736), DM(59.0656), DM(38.4883)], [DM(59.4857), DM(72.7112), DM(58.1431), DM(53.0887), DM(87.9463)], [0.0023926732617231094, 0.0020019950103070754, 0.0024417675442199418, 0.002646834195060017, 0.0016973919597118173], [0.6386664578086667, 0.5119517294077987, 0.6508072745887621, 0.6952526372403499, 0.35105290691181357], [0.0, 0.0, 0.0, 0.0, 0.0], {'util': [], 'rev': [], 'tax_rates': []}), ([DM(50.7378), DM(59.4982), DM(45.3322), DM(50.5159), DM(48.2469)], [DM(73.0402), DM(49.6873), DM(80.3723), DM(73.3774), DM(76.6249)], [0.001994046697954806, 0.002805546592731635, 0.0018339548515033265, 0.0019859716568543647, 0.0019118877178371195], [0.5086408585465753, 0.7240069622797276, 0.43294833790940784, 0.5052390677201725, 0.47208634811480576], [0.0, 0.0, 0.0, 0.0, 0.0], []), ([DM(50.9565), DM(41.4775), DM(51.7038), DM(58.2051), DM(58.8284), DM(59.1665)], [DM(72.7037), DM(84.8079), DM(71.5224), DM(56.9792), DM(54.3523), DM(52.4713)], [0.0020021883485076223, 0.0017508880434974504, 0.0020313266184661984, 0.0024860530908674752, 0.0025923370267057996, 0.00267429530036657], [0.5120269759657574, 0.38543334350106245, 0.523852772119133, 0.6612197403785613, 0.6843308179930007, 0.7005417296688249], [0.0, 0.0, 0.0, 0.0, 0.0, 0.0], []), ([DM(50.8686), DM(49.816), DM(50.4915), DM(56.7649), DM(59.5073), DM(50.3118), DM(36.9702), DM(56.4504), DM(50.6048)], [DM(72.8393), DM(74.4164), DM(73.4144), DM(61.4073), DM(49.574), DM(73.6842), DM(89.4594), DM(62.215), DM(73.2427)], [0.001998891454638066, 0.0019615579771492158, 0.0019850922157813914, 0.0023259011365572226, 0.0028111583453744727, 0.0019786875872218053, 0.0016730072654950676, 0.002298995066943275, 0.0019891873321535203], [0.5106629784903167, 0.49470998716694947, 0.5048661926725759, 0.6210518556657639, 0.7249483615264429, 0.5021375602530133, 0.33425515907877124, 0.6135648809536607, 0.5065986208861156], [0.0, 0.0, 0.0, 0.0, 0.0, 0.0, 0.0, 0.0, 0.0], {'util': [], 'rev': [], 'tax_rates': []})]\n",
      "Elapsed time 3848.71444272995 \n",
      " n_procs  11 \n",
      " n_points  72\n"
     ]
    }
   ],
   "source": [
    "result_array = execute_moo_optimization_condor(conf)"
   ]
  },
  {
   "cell_type": "markdown",
   "metadata": {},
   "source": [
    "# 3 Postprocessing"
   ]
  },
  {
   "cell_type": "code",
   "execution_count": 9,
   "metadata": {},
   "outputs": [
    {
     "ename": "NameError",
     "evalue": "name 'result_array' is not defined",
     "output_type": "error",
     "traceback": [
      "\u001b[0;31m---------------------------------------------------------------------------\u001b[0m",
      "\u001b[0;31mNameError\u001b[0m                                 Traceback (most recent call last)",
      "\u001b[0;32m<ipython-input-9-28355e93cc8c>\u001b[0m in \u001b[0;36m<module>\u001b[0;34m\u001b[0m\n\u001b[0;32m----> 1\u001b[0;31m \u001b[0;34m[\u001b[0m\u001b[0mpv_rev_d\u001b[0m\u001b[0;34m,\u001b[0m \u001b[0mpv_util_d\u001b[0m\u001b[0;34m,\u001b[0m \u001b[0mtk_d\u001b[0m\u001b[0;34m,\u001b[0m \u001b[0mtl_d\u001b[0m\u001b[0;34m,\u001b[0m \u001b[0mtc_d\u001b[0m\u001b[0;34m]\u001b[0m \u001b[0;34m=\u001b[0m \u001b[0mresult_array\u001b[0m\u001b[0;34m.\u001b[0m\u001b[0mtolist\u001b[0m\u001b[0;34m(\u001b[0m\u001b[0;34m)\u001b[0m\u001b[0;34m\u001b[0m\u001b[0;34m\u001b[0m\u001b[0m\n\u001b[0m\u001b[1;32m      2\u001b[0m plot_frontier(pv_rev_d, pv_util_d, tk_d, tl_d, tc_d, conf,\n\u001b[1;32m      3\u001b[0m                   \u001b[0mtimestr\u001b[0m \u001b[0;34m+\u001b[0m \u001b[0;34m\"_gamma_\"\u001b[0m \u001b[0;34m+\u001b[0m \u001b[0mstr\u001b[0m\u001b[0;34m(\u001b[0m\u001b[0mconf\u001b[0m\u001b[0;34m[\u001b[0m\u001b[0;34m'gamma'\u001b[0m\u001b[0;34m]\u001b[0m\u001b[0;34m)\u001b[0m \u001b[0;34m+\u001b[0m \u001b[0;34m\"_eta_\"\u001b[0m \u001b[0;34m+\u001b[0m\u001b[0;34m\u001b[0m\u001b[0;34m\u001b[0m\u001b[0m\n\u001b[1;32m      4\u001b[0m                   str(conf[\"eta\"]) + \"_tax_setting_\" + str(conf[\"tax_setting\"]))\n",
      "\u001b[0;31mNameError\u001b[0m: name 'result_array' is not defined"
     ]
    }
   ],
   "source": [
    "[pv_rev_d, pv_util_d, tk_d, tl_d, tc_d] = result_array.tolist()\n",
    "plot_frontier(pv_rev_d, pv_util_d, tk_d, tl_d, tc_d, conf,\n",
    "                  timestr + \"_gamma_\" + str(conf['gamma']) + \"_eta_\" +\n",
    "                  str(conf[\"eta\"]) + \"_tax_setting_\" + str(conf[\"tax_setting\"]))"
   ]
  },
  {
   "cell_type": "code",
   "execution_count": 69,
   "metadata": {},
   "outputs": [],
   "source": [
    "\n",
    "def execute_moo_optimization_condor(conf):\n",
    "    \"\"\"\"\n",
    "        Execute multi-objective optimization problem.\n",
    "    \"\"\"\n",
    "\n",
    "\n",
    "    # extract parameters from configuration dictionary\n",
    "    gamma = conf[\"gamma\"]\n",
    "    eta = conf[\"eta\"]\n",
    "    n_points = conf[\"n_starting_points\"]\n",
    "    r = conf[\"r\"]\n",
    "    T = conf[\"T\"]\n",
    "\n",
    "    # build interest rate vector of length\n",
    "    r = np.full(T, r)\n",
    "\n",
    "    # set n_procs\n",
    "    n_procs = 11\n",
    "    #n_procs = 1\n",
    "\n",
    "    # create gamma eta pairs from input\n",
    "    gammas_etas = itertools.product(gamma, eta)\n",
    "\n",
    "    # n points per process\n",
    "    n = n_points // n_procs\n",
    "\n",
    "\n",
    "    start = time.time()\n",
    "\n",
    "    for gamma, eta in gammas_etas:\n",
    "        conf[\"gamma\"] = gamma\n",
    "        conf[\"eta\"] = eta\n",
    "\n",
    "        if conf['serial'] or n_procs == 1:\n",
    "            # SERIAL EXECUTION\n",
    "            start_point = np.array([0.41, 0.41, 0.41])\n",
    "\n",
    "            if conf[\"tax_setting\"] == 1:\n",
    "                start_point[2] = 0\n",
    "\n",
    "            data = [run_sim_gradient(start_point, 0.005, n, r, conf)]\n",
    "        else:\n",
    "            # PARALLEL EXECUTION\n",
    "\n",
    "            start_points = np.tile(np.array([0.6 / (n_procs + 1) * i + 0.1 for i in range(n_procs)]), (3, 1))\n",
    "\n",
    "            if conf[\"tax_setting\"] == 1:\n",
    "                start_points[2, :] = 0\n",
    "\n",
    "            d_tau = 1/n/n_procs\n",
    "            arg = [(start_points[:, i], d_tau, n, r, conf) for i in range(n_procs)]\n",
    "            data = htmap.starmap(life_cycle_gradient_descent.run_sim, args= arg, map_options=htmap.MapOptions(fixed_input_files=[htmap.TransferPath('./life_cycle_gradient_descent.py'), htmap.TransferPath('./auxiliary_functions.py'), htmap.TransferPath('./lifecycle.py')]))\n",
    "        test = list(data)\n",
    "        print(test)\n",
    "        pv_rev_d = np.concatenate([np.array(data[i][0]) for i in range(n_procs)])\n",
    "        pv_util_d = np.concatenate([np.array(data[i][1]) for i in range(n_procs)])\n",
    "        tk_d = np.concatenate([np.array(data[i][2]) for i in range(n_procs)])\n",
    "        tl_d = np.concatenate([np.array(data[i][3]) for i in range(n_procs)])\n",
    "        tc_d = np.concatenate([np.array(data[i][4]) for i in range(n_procs)])\n",
    "        GD_steps = [data[i][5] for i in range(n_procs)]\n",
    "\n",
    "        full_array = np.array([pv_rev_d, pv_util_d, tk_d, tl_d, tc_d])\n",
    "        elapsed_time = time.time() - start\n",
    "        print(\"Elapsed time\", elapsed_time, \"\\n n_procs \", n_procs, \"\\n n_points \", len(pv_rev_d))\n",
    "\n",
    "\n",
    "        return full_array, GD_steps\n"
   ]
  },
  {
   "cell_type": "code",
   "execution_count": 47,
   "metadata": {},
   "outputs": [
    {
     "data": {
      "text/plain": [
       "TransferPosixPath('.')"
      ]
     },
     "execution_count": 47,
     "metadata": {},
     "output_type": "execute_result"
    }
   ],
   "source": [
    "htmap.TransferPath('.')"
   ]
  },
  {
   "cell_type": "code",
   "execution_count": null,
   "metadata": {},
   "outputs": [],
   "source": []
  }
 ],
 "metadata": {
  "kernelspec": {
   "display_name": "Python 3",
   "language": "python",
   "name": "python3"
  },
  "language_info": {
   "codemirror_mode": {
    "name": "ipython",
    "version": 3
   },
   "file_extension": ".py",
   "mimetype": "text/x-python",
   "name": "python",
   "nbconvert_exporter": "python",
   "pygments_lexer": "ipython3",
   "version": "3.6.8"
  }
 },
 "nbformat": 4,
 "nbformat_minor": 2
}
